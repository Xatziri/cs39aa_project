{
 "cells": [
  {
   "cell_type": "markdown",
   "id": "f12b85e2",
   "metadata": {
    "papermill": {
     "duration": 0.007572,
     "end_time": "2022-12-04T08:53:49.689457",
     "exception": false,
     "start_time": "2022-12-04T08:53:49.681885",
     "status": "completed"
    },
    "tags": []
   },
   "source": [
    "# <span style=\"color:purple\">**CS 39AA-Project Part 3**</span>"
   ]
  },
  {
   "cell_type": "markdown",
   "id": "ab232141",
   "metadata": {
    "papermill": {
     "duration": 0.006404,
     "end_time": "2022-12-04T08:53:49.702641",
     "exception": false,
     "start_time": "2022-12-04T08:53:49.696237",
     "status": "completed"
    },
    "tags": []
   },
   "source": [
    "## <span style=\"color:green\">**Imports**</span>\n"
   ]
  },
  {
   "cell_type": "code",
   "execution_count": 1,
   "id": "b1fda62d",
   "metadata": {
    "_cell_guid": "b1076dfc-b9ad-4769-8c92-a6c4dae69d19",
    "_uuid": "8f2839f25d086af736a60e9eeb907d3b93b6e0e5",
    "execution": {
     "iopub.execute_input": "2022-12-04T08:53:49.717306Z",
     "iopub.status.busy": "2022-12-04T08:53:49.716894Z",
     "iopub.status.idle": "2022-12-04T08:53:51.568233Z",
     "shell.execute_reply": "2022-12-04T08:53:51.567258Z"
    },
    "papermill": {
     "duration": 1.861152,
     "end_time": "2022-12-04T08:53:51.570291",
     "exception": false,
     "start_time": "2022-12-04T08:53:49.709139",
     "status": "completed"
    },
    "tags": []
   },
   "outputs": [
    {
     "name": "stdout",
     "output_type": "stream",
     "text": [
      "/kaggle/input/language-identification-datasst/dataset.csv\n",
      "df.shape: (22000, 2)\n"
     ]
    },
    {
     "data": {
      "text/html": [
       "<div>\n",
       "<style scoped>\n",
       "    .dataframe tbody tr th:only-of-type {\n",
       "        vertical-align: middle;\n",
       "    }\n",
       "\n",
       "    .dataframe tbody tr th {\n",
       "        vertical-align: top;\n",
       "    }\n",
       "\n",
       "    .dataframe thead th {\n",
       "        text-align: right;\n",
       "    }\n",
       "</style>\n",
       "<table border=\"1\" class=\"dataframe\">\n",
       "  <thead>\n",
       "    <tr style=\"text-align: right;\">\n",
       "      <th></th>\n",
       "      <th>Text</th>\n",
       "      <th>language</th>\n",
       "    </tr>\n",
       "  </thead>\n",
       "  <tbody>\n",
       "    <tr>\n",
       "      <th>0</th>\n",
       "      <td>klement gottwaldi surnukeha palsameeriti ning paigutati mausoleumi surnukeha oli aga liiga hilja ja oskamatult palsameeritud ning hakkas ilmutama lagunemise tundemärke  aastal viidi ta surnukeha mausoleumist ära ja kremeeriti zlíni linn...</td>\n",
       "      <td>Estonian</td>\n",
       "    </tr>\n",
       "    <tr>\n",
       "      <th>1</th>\n",
       "      <td>sebes joseph pereira thomas  på eng the jesuits and the sino-russian treaty of nerchinsk  the diary of thomas pereira bibliotheca instituti historici s i --   rome libris</td>\n",
       "      <td>Swedish</td>\n",
       "    </tr>\n",
       "    <tr>\n",
       "      <th>2</th>\n",
       "      <td>ถนนเจริญกรุง อักษรโรมัน thanon charoen krung เริ่มตั้งแต่ถนนสนามไชยถึงแม่น้ำเจ้าพระยาที่ถนนตก กรุงเทพมหานคร เป็นถนนรุ่นแรกที่ใช้เทคนิคการสร้างแบบตะวันตก ปัจจุบันผ่านพื้นที่เขตพระนคร เขตป้อมปราบศัตรูพ่าย เขตสัมพันธวงศ์ เขตบางรัก เขตสาทร ...</td>\n",
       "      <td>Thai</td>\n",
       "    </tr>\n",
       "    <tr>\n",
       "      <th>3</th>\n",
       "      <td>விசாகப்பட்டினம் தமிழ்ச்சங்கத்தை இந்துப் பத்திரிகை-விசாகப்பட்டின ஆசிரியர் சம்பத்துடன் இணைந்து விரிவுபடுத்தினார்  ஆண்டுகள் தொடர்ந்து செயலராக இருந்து தமிழ்மன்றத்தை நடத்திச் சென்றார்  கோவை செம்மொழி மாநாட்டில் \"தமிழ்ச்சங்கங்களும் தமிழும்\" என...</td>\n",
       "      <td>Tamil</td>\n",
       "    </tr>\n",
       "    <tr>\n",
       "      <th>4</th>\n",
       "      <td>de spons behoort tot het geslacht haliclona en behoort tot de familie chalinidae de wetenschappelijke naam van de soort werd voor het eerst geldig gepubliceerd in  door kudelin</td>\n",
       "      <td>Dutch</td>\n",
       "    </tr>\n",
       "    <tr>\n",
       "      <th>...</th>\n",
       "      <td>...</td>\n",
       "      <td>...</td>\n",
       "    </tr>\n",
       "    <tr>\n",
       "      <th>21995</th>\n",
       "      <td>hors du terrain les années  et  sont des années de crise pour le championnat le titre de champion de france attise les convoitises et entraîne des dérives  violence sur les terrains et accusations d’amateurisme marron rythment de plus e...</td>\n",
       "      <td>French</td>\n",
       "    </tr>\n",
       "    <tr>\n",
       "      <th>21996</th>\n",
       "      <td>ใน พศ  หลักจากที่เสด็จประพาสแหลมมลายู ชวา อินเดียทรงได้พบอดียรองกงสุลอังกฤษ นายเฮนรี่ อลาบาสเตอร์ ได้กราบบังคมทูลถวายคำแนะนำในสำรวจและทำแผนที่ จึงได้ทรงพระกรุณาโปรดเกล้าฯ ให้ตั้งกองทำแผนที่ทดลอง ใน พศ</td>\n",
       "      <td>Thai</td>\n",
       "    </tr>\n",
       "    <tr>\n",
       "      <th>21997</th>\n",
       "      <td>con motivo de la celebración del septuagésimoquinto ° aniversario de la fundación del departamento en  guillermo ceballos espinosa presentó a la gobernación de caldas por encargo de su titular dilia estrada de gómez el himno que fue ado...</td>\n",
       "      <td>Spanish</td>\n",
       "    </tr>\n",
       "    <tr>\n",
       "      <th>21998</th>\n",
       "      <td>年月，當時還只有歲的她在美國出道，以mai-k名義推出首張英文《baby i like》，由美國的獨立廠牌bip·record發行，以外國輸入盤的形式在日本發售，旋即被抢购一空。其後於月日發行以倉木麻衣名義發行的首張日文單曲《love day after tomorrow》，正式於日本出道。這張單曲初動銷量只得約萬張，可是其後每週銷量一直上升，並於年月正式突破百萬銷量，合计万张。成為年最耀眼的新人歌手。</td>\n",
       "      <td>Chinese</td>\n",
       "    </tr>\n",
       "    <tr>\n",
       "      <th>21999</th>\n",
       "      <td>aprilie sonda spațială messenger a nasa și-a încheiat misiunea de studiu de  ani prăbușindu-se pe suprafața planetei mercur sonda a rămas fără combustibil fiind împinsă de gravitația solară din ce în ce mai aproape de mercur</td>\n",
       "      <td>Romanian</td>\n",
       "    </tr>\n",
       "  </tbody>\n",
       "</table>\n",
       "<p>22000 rows × 2 columns</p>\n",
       "</div>"
      ],
      "text/plain": [
       "                                                                                                                                                                                                                                                  Text  \\\n",
       "0      klement gottwaldi surnukeha palsameeriti ning paigutati mausoleumi surnukeha oli aga liiga hilja ja oskamatult palsameeritud ning hakkas ilmutama lagunemise tundemärke  aastal viidi ta surnukeha mausoleumist ära ja kremeeriti zlíni linn...   \n",
       "1                                                                          sebes joseph pereira thomas  på eng the jesuits and the sino-russian treaty of nerchinsk  the diary of thomas pereira bibliotheca instituti historici s i --   rome libris    \n",
       "2      ถนนเจริญกรุง อักษรโรมัน thanon charoen krung เริ่มตั้งแต่ถนนสนามไชยถึงแม่น้ำเจ้าพระยาที่ถนนตก กรุงเทพมหานคร เป็นถนนรุ่นแรกที่ใช้เทคนิคการสร้างแบบตะวันตก ปัจจุบันผ่านพื้นที่เขตพระนคร เขตป้อมปราบศัตรูพ่าย เขตสัมพันธวงศ์ เขตบางรัก เขตสาทร ...   \n",
       "3      விசாகப்பட்டினம் தமிழ்ச்சங்கத்தை இந்துப் பத்திரிகை-விசாகப்பட்டின ஆசிரியர் சம்பத்துடன் இணைந்து விரிவுபடுத்தினார்  ஆண்டுகள் தொடர்ந்து செயலராக இருந்து தமிழ்மன்றத்தை நடத்திச் சென்றார்  கோவை செம்மொழி மாநாட்டில் \"தமிழ்ச்சங்கங்களும் தமிழும்\" என...   \n",
       "4                                                                     de spons behoort tot het geslacht haliclona en behoort tot de familie chalinidae de wetenschappelijke naam van de soort werd voor het eerst geldig gepubliceerd in  door kudelin   \n",
       "...                                                                                                                                                                                                                                                ...   \n",
       "21995  hors du terrain les années  et  sont des années de crise pour le championnat le titre de champion de france attise les convoitises et entraîne des dérives  violence sur les terrains et accusations d’amateurisme marron rythment de plus e...   \n",
       "21996                                        ใน พศ  หลักจากที่เสด็จประพาสแหลมมลายู ชวา อินเดียทรงได้พบอดียรองกงสุลอังกฤษ นายเฮนรี่ อลาบาสเตอร์ ได้กราบบังคมทูลถวายคำแนะนำในสำรวจและทำแผนที่ จึงได้ทรงพระกรุณาโปรดเกล้าฯ ให้ตั้งกองทำแผนที่ทดลอง ใน พศ    \n",
       "21997  con motivo de la celebración del septuagésimoquinto ° aniversario de la fundación del departamento en  guillermo ceballos espinosa presentó a la gobernación de caldas por encargo de su titular dilia estrada de gómez el himno que fue ado...   \n",
       "21998                                      年月，當時還只有歲的她在美國出道，以mai-k名義推出首張英文《baby i like》，由美國的獨立廠牌bip·record發行，以外國輸入盤的形式在日本發售，旋即被抢购一空。其後於月日發行以倉木麻衣名義發行的首張日文單曲《love day after tomorrow》，正式於日本出道。這張單曲初動銷量只得約萬張，可是其後每週銷量一直上升，並於年月正式突破百萬銷量，合计万张。成為年最耀眼的新人歌手。   \n",
       "21999                 aprilie sonda spațială messenger a nasa și-a încheiat misiunea de studiu de  ani prăbușindu-se pe suprafața planetei mercur sonda a rămas fără combustibil fiind împinsă de gravitația solară din ce în ce mai aproape de mercur   \n",
       "\n",
       "       language  \n",
       "0      Estonian  \n",
       "1       Swedish  \n",
       "2          Thai  \n",
       "3         Tamil  \n",
       "4         Dutch  \n",
       "...         ...  \n",
       "21995    French  \n",
       "21996      Thai  \n",
       "21997   Spanish  \n",
       "21998   Chinese  \n",
       "21999  Romanian  \n",
       "\n",
       "[22000 rows x 2 columns]"
      ]
     },
     "execution_count": 1,
     "metadata": {},
     "output_type": "execute_result"
    }
   ],
   "source": [
    "# import all of the python modules/packages you'll need here\n",
    "import pandas as pd# data processsing, CSV file I/O (e.g. pd.read_csv)\n",
    "import numpy as np# linear algebra\n",
    "import re\n",
    "from scipy.stats import norm\n",
    "from matplotlib import pyplot\n",
    "import matplotlib.pyplot as plt\n",
    "import seaborn as sns\n",
    "import nltk \n",
    "from sklearn.feature_extraction.text import CountVectorizer\n",
    "from collections import  Counter\n",
    "import warnings\n",
    "warnings.simplefilter(\"ignore\")\n",
    "# filter warnings\n",
    "warnings.filterwarnings('ignore')\n",
    "from sklearn.preprocessing import LabelEncoder\n",
    "from sklearn.feature_extraction.text import CountVectorizer\n",
    "from sklearn.model_selection import train_test_split\n",
    "from sklearn.naive_bayes import MultinomialNB\n",
    "from sklearn.metrics import accuracy_score, confusion_matrix, classification_report\n",
    "from nltk.tokenize import regexp_tokenize\n",
    "from nltk.tokenize import sent_tokenize\n",
    "from nltk.tokenize import word_tokenize\n",
    "from sklearn.model_selection import RandomizedSearchCV\n",
    "from sklearn import svm\n",
    "\n",
    "# Input data files are available in the read-only \"../input/\" directory\n",
    "# For example, running this (by clicking run or pressing Shift+Enter) will list all files under the input directory\n",
    "import os\n",
    "for dirname, _, filenames in os.walk('/kaggle/input'):\n",
    "    for filename in filenames:\n",
    "        print(os.path.join(dirname, filename))\n",
    "# You can write up to 20GB to the current directory (/kaggle/working/) that gets preserved as output when you create a version using \"Save & Run All\" \n",
    "# You can also write temporary files to /kaggle/temp/, but they won't be saved outside of the current session\n",
    "\n",
    "\n",
    "# import the dataset \n",
    "data_URL = \"../input/language-identification-datasst/dataset.csv\"\n",
    "df = pd.read_csv(data_URL)#dataset with 22 languages\n",
    "print(f\"df.shape: {df.shape}\")\n",
    "#A change in the default display width for a pandas dataframe column\n",
    "pd.set_option(\"display.max_colwidth\", 240)\n",
    "df"
   ]
  },
  {
   "cell_type": "markdown",
   "id": "d781cda6",
   "metadata": {
    "papermill": {
     "duration": 0.006822,
     "end_time": "2022-12-04T08:53:51.584974",
     "exception": false,
     "start_time": "2022-12-04T08:53:51.578152",
     "status": "completed"
    },
    "tags": []
   },
   "source": [
    "## <span style=\"color:green\">**Data cleanup**</span>\n",
    "Better Tokenization"
   ]
  },
  {
   "cell_type": "code",
   "execution_count": 2,
   "id": "e2195e93",
   "metadata": {
    "execution": {
     "iopub.execute_input": "2022-12-04T08:53:51.600181Z",
     "iopub.status.busy": "2022-12-04T08:53:51.599870Z",
     "iopub.status.idle": "2022-12-04T08:53:52.530131Z",
     "shell.execute_reply": "2022-12-04T08:53:52.529219Z"
    },
    "papermill": {
     "duration": 0.940187,
     "end_time": "2022-12-04T08:53:52.532196",
     "exception": false,
     "start_time": "2022-12-04T08:53:51.592009",
     "status": "completed"
    },
    "tags": []
   },
   "outputs": [],
   "source": [
    "#Let's convert the 'Text' column to string format in case there is some data not in string format.\n",
    "df['Text']= df['Text'].astype(str)\n",
    "\n",
    "#Let's delete any row that might have missing text\n",
    "df=df[~df['Text'].isnull()]\n",
    "\n",
    "#This removes any characters that are not letters or numbers\n",
    "df['preprocessed_text'] = df['Text'].str.replace('\\W',' ') \n",
    "\n",
    "#Convert to lower case\n",
    "df['preprocessed_text'] = df['preprocessed_text'].apply(lambda x: \" \".join(x.lower() for x in x.split()))\n",
    "\n",
    "#Remove numbers\n",
    "df['preprocessed_text'] = df['preprocessed_text'].str.replace('\\d+','')\n",
    "\n",
    "#Remove duplicate text\n",
    "df.drop_duplicates(subset=['Text'],keep='first',inplace=True)"
   ]
  },
  {
   "cell_type": "code",
   "execution_count": 3,
   "id": "6f094d01",
   "metadata": {
    "execution": {
     "iopub.execute_input": "2022-12-04T08:53:52.549037Z",
     "iopub.status.busy": "2022-12-04T08:53:52.548752Z",
     "iopub.status.idle": "2022-12-04T08:53:57.908038Z",
     "shell.execute_reply": "2022-12-04T08:53:57.907044Z"
    },
    "papermill": {
     "duration": 5.369002,
     "end_time": "2022-12-04T08:53:57.909743",
     "exception": false,
     "start_time": "2022-12-04T08:53:52.540741",
     "status": "completed"
    },
    "tags": []
   },
   "outputs": [
    {
     "data": {
      "text/html": [
       "<div>\n",
       "<style scoped>\n",
       "    .dataframe tbody tr th:only-of-type {\n",
       "        vertical-align: middle;\n",
       "    }\n",
       "\n",
       "    .dataframe tbody tr th {\n",
       "        vertical-align: top;\n",
       "    }\n",
       "\n",
       "    .dataframe thead th {\n",
       "        text-align: right;\n",
       "    }\n",
       "</style>\n",
       "<table border=\"1\" class=\"dataframe\">\n",
       "  <thead>\n",
       "    <tr style=\"text-align: right;\">\n",
       "      <th></th>\n",
       "      <th>Text</th>\n",
       "      <th>language</th>\n",
       "      <th>preprocessed_text</th>\n",
       "      <th>tokens</th>\n",
       "    </tr>\n",
       "  </thead>\n",
       "  <tbody>\n",
       "    <tr>\n",
       "      <th>0</th>\n",
       "      <td>klement gottwaldi surnukeha palsameeriti ning paigutati mausoleumi surnukeha oli aga liiga hilja ja oskamatult palsameeritud ning hakkas ilmutama lagunemise tundemärke  aastal viidi ta surnukeha mausoleumist ära ja kremeeriti zlíni linn...</td>\n",
       "      <td>Estonian</td>\n",
       "      <td>klement gottwaldi surnukeha palsameeriti ning paigutati mausoleumi surnukeha oli aga liiga hilja ja oskamatult palsameeritud ning hakkas ilmutama lagunemise tundemärke aastal viidi ta surnukeha mausoleumist ära ja kremeeriti zlíni linn ...</td>\n",
       "      <td>[klement, gottwaldi, surnukeha, palsameeriti, ning, paigutati, mausoleumi, surnukeha, oli, aga, liiga, hilja, ja, oskamatult, palsameeritud, ning, hakkas, ilmutama, lagunemise, tundemärke, aastal, viidi, ta, surnukeha, mausoleumist, ära...</td>\n",
       "    </tr>\n",
       "    <tr>\n",
       "      <th>1</th>\n",
       "      <td>sebes joseph pereira thomas  på eng the jesuits and the sino-russian treaty of nerchinsk  the diary of thomas pereira bibliotheca instituti historici s i --   rome libris</td>\n",
       "      <td>Swedish</td>\n",
       "      <td>sebes joseph pereira thomas på eng the jesuits and the sino russian treaty of nerchinsk the diary of thomas pereira bibliotheca instituti historici s i rome libris</td>\n",
       "      <td>[sebes, joseph, pereira, thomas, på, eng, the, jesuits, and, the, sino, russian, treaty, of, nerchinsk, the, diary, of, thomas, pereira, bibliotheca, instituti, historici, s, i, rome, libris]</td>\n",
       "    </tr>\n",
       "    <tr>\n",
       "      <th>2</th>\n",
       "      <td>ถนนเจริญกรุง อักษรโรมัน thanon charoen krung เริ่มตั้งแต่ถนนสนามไชยถึงแม่น้ำเจ้าพระยาที่ถนนตก กรุงเทพมหานคร เป็นถนนรุ่นแรกที่ใช้เทคนิคการสร้างแบบตะวันตก ปัจจุบันผ่านพื้นที่เขตพระนคร เขตป้อมปราบศัตรูพ่าย เขตสัมพันธวงศ์ เขตบางรัก เขตสาทร ...</td>\n",
       "      <td>Thai</td>\n",
       "      <td>ถนนเจร ญกร ง อ กษรโรม น thanon charoen krung เร มต งแต ถนนสนามไชยถ งแม น ำเจ าพระยาท ถนนตก กร งเทพมหานคร เป นถนนร นแรกท ใช เทคน คการสร างแบบตะว นตก ป จจ บ นผ านพ นท เขตพระนคร เขตป อมปราบศ ตร พ าย เขตส มพ นธวงศ เขตบางร ก เขตสาทร และเขตบา...</td>\n",
       "      <td>[ถนนเจร, ญกร, ง, อ, กษรโรม, น, thanon, charoen, krung, เร, มต, งแต, ถนนสนามไชยถ, งแม, น, ำเจ, าพระยาท, ถนนตก, กร, งเทพมหานคร, เป, นถนนร, นแรกท, ใช, เทคน, คการสร, างแบบตะว, นตก, ป, จจ, บ, นผ, านพ, นท, เขตพระนคร, เขตป, อมปราบศ, ตร, พ, าย,...</td>\n",
       "    </tr>\n",
       "    <tr>\n",
       "      <th>3</th>\n",
       "      <td>விசாகப்பட்டினம் தமிழ்ச்சங்கத்தை இந்துப் பத்திரிகை-விசாகப்பட்டின ஆசிரியர் சம்பத்துடன் இணைந்து விரிவுபடுத்தினார்  ஆண்டுகள் தொடர்ந்து செயலராக இருந்து தமிழ்மன்றத்தை நடத்திச் சென்றார்  கோவை செம்மொழி மாநாட்டில் \"தமிழ்ச்சங்கங்களும் தமிழும்\" என...</td>\n",
       "      <td>Tamil</td>\n",
       "      <td>வ ச கப பட ட னம தம ழ ச சங கத த இந த ப பத த ர க வ ச கப பட ட ன ஆச ர யர சம பத த டன இண ந த வ ர வ பட த த ன ர ஆண ட கள த டர ந த ச யலர க இர ந த தம ழ மன றத த நடத த ச ச ன ற ர க வ ச ம ம ழ ம ந ட ட ல தம ழ ச சங கங கள ம தம ழ ம என ம தல ப ப ல ப ற ம ந லங ...</td>\n",
       "      <td>[வ, ச, கப, பட, ட, னம, தம, ழ, ச, சங, கத, த, இந, த, ப, பத, த, ர, க, வ, ச, கப, பட, ட, ன, ஆச, ர, யர, சம, பத, த, டன, இண, ந, த, வ, ர, வ, பட, த, த, ன, ர, ஆண, ட, கள, த, டர, ந, த, ச, யலர, க, இர, ந, த, தம, ழ, மன, றத, த, நடத, த, ச, ச, ன, ற, ர, க, ...</td>\n",
       "    </tr>\n",
       "    <tr>\n",
       "      <th>4</th>\n",
       "      <td>de spons behoort tot het geslacht haliclona en behoort tot de familie chalinidae de wetenschappelijke naam van de soort werd voor het eerst geldig gepubliceerd in  door kudelin</td>\n",
       "      <td>Dutch</td>\n",
       "      <td>de spons behoort tot het geslacht haliclona en behoort tot de familie chalinidae de wetenschappelijke naam van de soort werd voor het eerst geldig gepubliceerd in door kudelin</td>\n",
       "      <td>[de, spons, behoort, tot, het, geslacht, haliclona, en, behoort, tot, de, familie, chalinidae, de, wetenschappelijke, naam, van, de, soort, werd, voor, het, eerst, geldig, gepubliceerd, in, door, kudelin]</td>\n",
       "    </tr>\n",
       "  </tbody>\n",
       "</table>\n",
       "</div>"
      ],
      "text/plain": [
       "                                                                                                                                                                                                                                              Text  \\\n",
       "0  klement gottwaldi surnukeha palsameeriti ning paigutati mausoleumi surnukeha oli aga liiga hilja ja oskamatult palsameeritud ning hakkas ilmutama lagunemise tundemärke  aastal viidi ta surnukeha mausoleumist ära ja kremeeriti zlíni linn...   \n",
       "1                                                                      sebes joseph pereira thomas  på eng the jesuits and the sino-russian treaty of nerchinsk  the diary of thomas pereira bibliotheca instituti historici s i --   rome libris    \n",
       "2  ถนนเจริญกรุง อักษรโรมัน thanon charoen krung เริ่มตั้งแต่ถนนสนามไชยถึงแม่น้ำเจ้าพระยาที่ถนนตก กรุงเทพมหานคร เป็นถนนรุ่นแรกที่ใช้เทคนิคการสร้างแบบตะวันตก ปัจจุบันผ่านพื้นที่เขตพระนคร เขตป้อมปราบศัตรูพ่าย เขตสัมพันธวงศ์ เขตบางรัก เขตสาทร ...   \n",
       "3  விசாகப்பட்டினம் தமிழ்ச்சங்கத்தை இந்துப் பத்திரிகை-விசாகப்பட்டின ஆசிரியர் சம்பத்துடன் இணைந்து விரிவுபடுத்தினார்  ஆண்டுகள் தொடர்ந்து செயலராக இருந்து தமிழ்மன்றத்தை நடத்திச் சென்றார்  கோவை செம்மொழி மாநாட்டில் \"தமிழ்ச்சங்கங்களும் தமிழும்\" என...   \n",
       "4                                                                 de spons behoort tot het geslacht haliclona en behoort tot de familie chalinidae de wetenschappelijke naam van de soort werd voor het eerst geldig gepubliceerd in  door kudelin   \n",
       "\n",
       "   language  \\\n",
       "0  Estonian   \n",
       "1   Swedish   \n",
       "2      Thai   \n",
       "3     Tamil   \n",
       "4     Dutch   \n",
       "\n",
       "                                                                                                                                                                                                                                 preprocessed_text  \\\n",
       "0  klement gottwaldi surnukeha palsameeriti ning paigutati mausoleumi surnukeha oli aga liiga hilja ja oskamatult palsameeritud ning hakkas ilmutama lagunemise tundemärke aastal viidi ta surnukeha mausoleumist ära ja kremeeriti zlíni linn ...   \n",
       "1                                                                              sebes joseph pereira thomas på eng the jesuits and the sino russian treaty of nerchinsk the diary of thomas pereira bibliotheca instituti historici s i rome libris   \n",
       "2  ถนนเจร ญกร ง อ กษรโรม น thanon charoen krung เร มต งแต ถนนสนามไชยถ งแม น ำเจ าพระยาท ถนนตก กร งเทพมหานคร เป นถนนร นแรกท ใช เทคน คการสร างแบบตะว นตก ป จจ บ นผ านพ นท เขตพระนคร เขตป อมปราบศ ตร พ าย เขตส มพ นธวงศ เขตบางร ก เขตสาทร และเขตบา...   \n",
       "3  வ ச கப பட ட னம தம ழ ச சங கத த இந த ப பத த ர க வ ச கப பட ட ன ஆச ர யர சம பத த டன இண ந த வ ர வ பட த த ன ர ஆண ட கள த டர ந த ச யலர க இர ந த தம ழ மன றத த நடத த ச ச ன ற ர க வ ச ம ம ழ ம ந ட ட ல தம ழ ச சங கங கள ம தம ழ ம என ம தல ப ப ல ப ற ம ந லங ...   \n",
       "4                                                                  de spons behoort tot het geslacht haliclona en behoort tot de familie chalinidae de wetenschappelijke naam van de soort werd voor het eerst geldig gepubliceerd in door kudelin   \n",
       "\n",
       "                                                                                                                                                                                                                                            tokens  \n",
       "0  [klement, gottwaldi, surnukeha, palsameeriti, ning, paigutati, mausoleumi, surnukeha, oli, aga, liiga, hilja, ja, oskamatult, palsameeritud, ning, hakkas, ilmutama, lagunemise, tundemärke, aastal, viidi, ta, surnukeha, mausoleumist, ära...  \n",
       "1                                                  [sebes, joseph, pereira, thomas, på, eng, the, jesuits, and, the, sino, russian, treaty, of, nerchinsk, the, diary, of, thomas, pereira, bibliotheca, instituti, historici, s, i, rome, libris]  \n",
       "2  [ถนนเจร, ญกร, ง, อ, กษรโรม, น, thanon, charoen, krung, เร, มต, งแต, ถนนสนามไชยถ, งแม, น, ำเจ, าพระยาท, ถนนตก, กร, งเทพมหานคร, เป, นถนนร, นแรกท, ใช, เทคน, คการสร, างแบบตะว, นตก, ป, จจ, บ, นผ, านพ, นท, เขตพระนคร, เขตป, อมปราบศ, ตร, พ, าย,...  \n",
       "3  [வ, ச, கப, பட, ட, னம, தம, ழ, ச, சங, கத, த, இந, த, ப, பத, த, ர, க, வ, ச, கப, பட, ட, ன, ஆச, ர, யர, சம, பத, த, டன, இண, ந, த, வ, ர, வ, பட, த, த, ன, ர, ஆண, ட, கள, த, டர, ந, த, ச, யலர, க, இர, ந, த, தம, ழ, மன, றத, த, நடத, த, ச, ச, ன, ற, ர, க, ...  \n",
       "4                                     [de, spons, behoort, tot, het, geslacht, haliclona, en, behoort, tot, de, familie, chalinidae, de, wetenschappelijke, naam, van, de, soort, werd, voor, het, eerst, geldig, gepubliceerd, in, door, kudelin]  "
      ]
     },
     "execution_count": 3,
     "metadata": {},
     "output_type": "execute_result"
    }
   ],
   "source": [
    "#Create tokens\n",
    "from nltk.tokenize import word_tokenize\n",
    "df['tokens'] = df['preprocessed_text'].apply(lambda x: word_tokenize(x.lower()))\n",
    "df.head()"
   ]
  },
  {
   "cell_type": "markdown",
   "id": "b8c41a05",
   "metadata": {
    "papermill": {
     "duration": 0.007589,
     "end_time": "2022-12-04T08:53:57.925531",
     "exception": false,
     "start_time": "2022-12-04T08:53:57.917942",
     "status": "completed"
    },
    "tags": []
   },
   "source": [
    "## <span style=\"color:green\">**Training & Test subsets**</span>\n"
   ]
  },
  {
   "cell_type": "code",
   "execution_count": 4,
   "id": "b31b9434",
   "metadata": {
    "execution": {
     "iopub.execute_input": "2022-12-04T08:53:57.942244Z",
     "iopub.status.busy": "2022-12-04T08:53:57.941251Z",
     "iopub.status.idle": "2022-12-04T08:53:57.986259Z",
     "shell.execute_reply": "2022-12-04T08:53:57.985217Z"
    },
    "papermill": {
     "duration": 0.055655,
     "end_time": "2022-12-04T08:53:57.988525",
     "exception": false,
     "start_time": "2022-12-04T08:53:57.932870",
     "status": "completed"
    },
    "tags": []
   },
   "outputs": [
    {
     "name": "stdout",
     "output_type": "stream",
     "text": [
      "df.shape: (17500, 4)\n",
      "df_test.shape: (4359, 4)\n"
     ]
    },
    {
     "data": {
      "text/html": [
       "<div>\n",
       "<style scoped>\n",
       "    .dataframe tbody tr th:only-of-type {\n",
       "        vertical-align: middle;\n",
       "    }\n",
       "\n",
       "    .dataframe tbody tr th {\n",
       "        vertical-align: top;\n",
       "    }\n",
       "\n",
       "    .dataframe thead th {\n",
       "        text-align: right;\n",
       "    }\n",
       "</style>\n",
       "<table border=\"1\" class=\"dataframe\">\n",
       "  <thead>\n",
       "    <tr style=\"text-align: right;\">\n",
       "      <th></th>\n",
       "      <th>Text</th>\n",
       "      <th>language</th>\n",
       "      <th>preprocessed_text</th>\n",
       "      <th>tokens</th>\n",
       "    </tr>\n",
       "  </thead>\n",
       "  <tbody>\n",
       "    <tr>\n",
       "      <th>21705</th>\n",
       "      <td>en septiembre de  lideró al equipo nacional mexicano para clasificar por primera vez en  años al campeonato mundial de baloncesto el equipo ganó la medalla de oro del torneo fiba américas y ayón fue nombrado jugador más valioso del torneo</td>\n",
       "      <td>Spanish</td>\n",
       "      <td>en septiembre de lideró al equipo nacional mexicano para clasificar por primera vez en años al campeonato mundial de baloncesto el equipo ganó la medalla de oro del torneo fiba américas y ayón fue nombrado jugador más valioso del torneo</td>\n",
       "      <td>[en, septiembre, de, lideró, al, equipo, nacional, mexicano, para, clasificar, por, primera, vez, en, años, al, campeonato, mundial, de, baloncesto, el, equipo, ganó, la, medalla, de, oro, del, torneo, fiba, américas, y, ayón, fue, nomb...</td>\n",
       "    </tr>\n",
       "    <tr>\n",
       "      <th>15369</th>\n",
       "      <td>علم أحوال التربة أو البيدولوجيا بالإنجليزية pedology هو المسار العلمي المعني بجميع جوانب التربة بما في ذلك خصائصها الفيزيائية والكيميائية ودور الكائنات الحية في إنتاج وخصائص التربة ووصف ورسم الخرائط وحدات التربة ومنشأ وتكوين التربة وفقا...</td>\n",
       "      <td>Arabic</td>\n",
       "      <td>علم أحوال التربة أو البيدولوجيا بالإنجليزية pedology هو المسار العلمي المعني بجميع جوانب التربة بما في ذلك خصائصها الفيزيائية والكيميائية ودور الكائنات الحية في إنتاج وخصائص التربة ووصف ورسم الخرائط وحدات التربة ومنشأ وتكوين التربة وفقا...</td>\n",
       "      <td>[علم, أحوال, التربة, أو, البيدولوجيا, بالإنجليزية, pedology, هو, المسار, العلمي, المعني, بجميع, جوانب, التربة, بما, في, ذلك, خصائصها, الفيزيائية, والكيميائية, ودور, الكائنات, الحية, في, إنتاج, وخصائص, التربة, ووصف, ورسم, الخرائط, وحدات,...</td>\n",
       "    </tr>\n",
       "    <tr>\n",
       "      <th>10889</th>\n",
       "      <td>충청도 괴산에서 출생하여 한성부에서 성장한 그는 · 광복 이후 이승만의 비서 국방부 장관 서울특별시 시장 국회의장직을 역임하였다 조선 태종의 차자次子인 효령대군 이보李補의 대손으로 흥선대원군의 측근이었다가 임오군란에 연루되어 처형된 이회정의 증손이었다 본관은 전주全州이고 충청도 괴산군 출생이며 한성부에서 성장하였다</td>\n",
       "      <td>Korean</td>\n",
       "      <td>충청도 괴산에서 출생하여 한성부에서 성장한 그는 광복 이후 이승만의 비서 국방부 장관 서울특별시 시장 국회의장직을 역임하였다 조선 태종의 차자次子인 효령대군 이보李補의 대손으로 흥선대원군의 측근이었다가 임오군란에 연루되어 처형된 이회정의 증손이었다 본관은 전주全州이고 충청도 괴산군 출생이며 한성부에서 성장하였다</td>\n",
       "      <td>[충청도, 괴산에서, 출생하여, 한성부에서, 성장한, 그는, 광복, 이후, 이승만의, 비서, 국방부, 장관, 서울특별시, 시장, 국회의장직을, 역임하였다, 조선, 태종의, 차자次子인, 효령대군, 이보李補의, 대손으로, 흥선대원군의, 측근이었다가, 임오군란에, 연루되어, 처형된, 이회정의, 증손이었다, 본관은, 전주全州이고, 충청도, 괴산군, 출생이며, 한성부에서, 성장하였다]</td>\n",
       "    </tr>\n",
       "    <tr>\n",
       "      <th>184</th>\n",
       "      <td>« une mise en scène efficace et quelques scènes dures servent le propos de ce film regard moderne sur une société où la soumission exigée des femmes va croissant »</td>\n",
       "      <td>French</td>\n",
       "      <td>une mise en scène efficace et quelques scènes dures servent le propos de ce film regard moderne sur une société où la soumission exigée des femmes va croissant</td>\n",
       "      <td>[une, mise, en, scène, efficace, et, quelques, scènes, dures, servent, le, propos, de, ce, film, regard, moderne, sur, une, société, où, la, soumission, exigée, des, femmes, va, croissant]</td>\n",
       "    </tr>\n",
       "    <tr>\n",
       "      <th>8397</th>\n",
       "      <td>நிதி நிறுவனங்களின் நிதி நெருக்கடி காலத்தில் அதனை எதிர்கொள்வதற்கு தேவையான வழிவகைகளை ஏற்படுத்துவதுடன் போதிய பாதுகாப்பு நடவடிக்கைகளையும் உறுதிப்படுத்தி பொருளாதாரத்துக்கு நிதி நிலைத்தன்மையை ஏற்படுத்த உதவுகிறது</td>\n",
       "      <td>Tamil</td>\n",
       "      <td>ந த ந ற வனங கள ன ந த ந ர க கட க லத த ல அதன எத ர க ள வதற க த வ ய ன வழ வக கள ஏற பட த த வத டன ப த ய ப த க ப ப நடவட க க கள ய ம உற த ப பட த த ப ர ள த ரத த க க ந த ந ல த தன ம ய ஏற பட த த உதவ க றத</td>\n",
       "      <td>[ந, த, ந, ற, வனங, கள, ன, ந, த, ந, ர, க, கட, க, லத, த, ல, அதன, எத, ர, க, ள, வதற, க, த, வ, ய, ன, வழ, வக, கள, ஏற, பட, த, த, வத, டன, ப, த, ய, ப, த, க, ப, ப, நடவட, க, க, கள, ய, ம, உற, த, ப, பட, த, த, ப, ர, ள, த, ரத, த, க, க, ந, த, ந, ல, த, த...</td>\n",
       "    </tr>\n",
       "  </tbody>\n",
       "</table>\n",
       "</div>"
      ],
      "text/plain": [
       "                                                                                                                                                                                                                                                  Text  \\\n",
       "21705   en septiembre de  lideró al equipo nacional mexicano para clasificar por primera vez en  años al campeonato mundial de baloncesto el equipo ganó la medalla de oro del torneo fiba américas y ayón fue nombrado jugador más valioso del torneo   \n",
       "15369  علم أحوال التربة أو البيدولوجيا بالإنجليزية pedology هو المسار العلمي المعني بجميع جوانب التربة بما في ذلك خصائصها الفيزيائية والكيميائية ودور الكائنات الحية في إنتاج وخصائص التربة ووصف ورسم الخرائط وحدات التربة ومنشأ وتكوين التربة وفقا...   \n",
       "10889                                                                 충청도 괴산에서 출생하여 한성부에서 성장한 그는 · 광복 이후 이승만의 비서 국방부 장관 서울특별시 시장 국회의장직을 역임하였다 조선 태종의 차자次子인 효령대군 이보李補의 대손으로 흥선대원군의 측근이었다가 임오군란에 연루되어 처형된 이회정의 증손이었다 본관은 전주全州이고 충청도 괴산군 출생이며 한성부에서 성장하였다   \n",
       "184                                                                                « une mise en scène efficace et quelques scènes dures servent le propos de ce film regard moderne sur une société où la soumission exigée des femmes va croissant »   \n",
       "8397                                     நிதி நிறுவனங்களின் நிதி நெருக்கடி காலத்தில் அதனை எதிர்கொள்வதற்கு தேவையான வழிவகைகளை ஏற்படுத்துவதுடன் போதிய பாதுகாப்பு நடவடிக்கைகளையும் உறுதிப்படுத்தி பொருளாதாரத்துக்கு நிதி நிலைத்தன்மையை ஏற்படுத்த உதவுகிறது   \n",
       "\n",
       "      language  \\\n",
       "21705  Spanish   \n",
       "15369   Arabic   \n",
       "10889   Korean   \n",
       "184     French   \n",
       "8397     Tamil   \n",
       "\n",
       "                                                                                                                                                                                                                                     preprocessed_text  \\\n",
       "21705     en septiembre de lideró al equipo nacional mexicano para clasificar por primera vez en años al campeonato mundial de baloncesto el equipo ganó la medalla de oro del torneo fiba américas y ayón fue nombrado jugador más valioso del torneo   \n",
       "15369  علم أحوال التربة أو البيدولوجيا بالإنجليزية pedology هو المسار العلمي المعني بجميع جوانب التربة بما في ذلك خصائصها الفيزيائية والكيميائية ودور الكائنات الحية في إنتاج وخصائص التربة ووصف ورسم الخرائط وحدات التربة ومنشأ وتكوين التربة وفقا...   \n",
       "10889                                                                   충청도 괴산에서 출생하여 한성부에서 성장한 그는 광복 이후 이승만의 비서 국방부 장관 서울특별시 시장 국회의장직을 역임하였다 조선 태종의 차자次子인 효령대군 이보李補의 대손으로 흥선대원군의 측근이었다가 임오군란에 연루되어 처형된 이회정의 증손이었다 본관은 전주全州이고 충청도 괴산군 출생이며 한성부에서 성장하였다   \n",
       "184                                                                                    une mise en scène efficace et quelques scènes dures servent le propos de ce film regard moderne sur une société où la soumission exigée des femmes va croissant   \n",
       "8397                                                     ந த ந ற வனங கள ன ந த ந ர க கட க லத த ல அதன எத ர க ள வதற க த வ ய ன வழ வக கள ஏற பட த த வத டன ப த ய ப த க ப ப நடவட க க கள ய ம உற த ப பட த த ப ர ள த ரத த க க ந த ந ல த தன ம ய ஏற பட த த உதவ க றத   \n",
       "\n",
       "                                                                                                                                                                                                                                                tokens  \n",
       "21705  [en, septiembre, de, lideró, al, equipo, nacional, mexicano, para, clasificar, por, primera, vez, en, años, al, campeonato, mundial, de, baloncesto, el, equipo, ganó, la, medalla, de, oro, del, torneo, fiba, américas, y, ayón, fue, nomb...  \n",
       "15369  [علم, أحوال, التربة, أو, البيدولوجيا, بالإنجليزية, pedology, هو, المسار, العلمي, المعني, بجميع, جوانب, التربة, بما, في, ذلك, خصائصها, الفيزيائية, والكيميائية, ودور, الكائنات, الحية, في, إنتاج, وخصائص, التربة, ووصف, ورسم, الخرائط, وحدات,...  \n",
       "10889                              [충청도, 괴산에서, 출생하여, 한성부에서, 성장한, 그는, 광복, 이후, 이승만의, 비서, 국방부, 장관, 서울특별시, 시장, 국회의장직을, 역임하였다, 조선, 태종의, 차자次子인, 효령대군, 이보李補의, 대손으로, 흥선대원군의, 측근이었다가, 임오군란에, 연루되어, 처형된, 이회정의, 증손이었다, 본관은, 전주全州이고, 충청도, 괴산군, 출생이며, 한성부에서, 성장하였다]  \n",
       "184                                                       [une, mise, en, scène, efficace, et, quelques, scènes, dures, servent, le, propos, de, ce, film, regard, moderne, sur, une, société, où, la, soumission, exigée, des, femmes, va, croissant]  \n",
       "8397   [ந, த, ந, ற, வனங, கள, ன, ந, த, ந, ர, க, கட, க, லத, த, ல, அதன, எத, ர, க, ள, வதற, க, த, வ, ய, ன, வழ, வக, கள, ஏற, பட, த, த, வத, டன, ப, த, ய, ப, த, க, ப, ப, நடவட, க, க, கள, ய, ம, உற, த, ப, பட, த, த, ப, ர, ள, த, ரத, த, க, க, ந, த, ந, ல, த, த...  "
      ]
     },
     "execution_count": 4,
     "metadata": {},
     "output_type": "execute_result"
    }
   ],
   "source": [
    "# before we do the prediction let's split the dataset into validation and training subsets\n",
    "import random\n",
    "random.seed(42)\n",
    "\n",
    "df_full = df.copy()\n",
    "assert df_full.shape[0] == 21859\n",
    "\n",
    "indices = list(range(df_full.shape[0]))\n",
    "\n",
    "random.shuffle(indices)\n",
    "\n",
    "train_indices = indices[:17500]\n",
    "test_indices = indices[17500:]\n",
    "\n",
    "# df will be the in-sample training dataset\n",
    "df = df_full.iloc[train_indices,:].copy()\n",
    "print(f\"df.shape: {df.shape}\")\n",
    "\n",
    "# df_test will be the out-of-sample validation dataset\n",
    "df_test = df_full.iloc[test_indices,:].copy()\n",
    "print(f\"df_test.shape: {df_test.shape}\")\n",
    "df_test.head()\n"
   ]
  },
  {
   "cell_type": "code",
   "execution_count": 5,
   "id": "66df85d2",
   "metadata": {
    "execution": {
     "iopub.execute_input": "2022-12-04T08:53:58.005616Z",
     "iopub.status.busy": "2022-12-04T08:53:58.005292Z",
     "iopub.status.idle": "2022-12-04T08:53:58.012910Z",
     "shell.execute_reply": "2022-12-04T08:53:58.011989Z"
    },
    "papermill": {
     "duration": 0.018772,
     "end_time": "2022-12-04T08:53:58.015265",
     "exception": false,
     "start_time": "2022-12-04T08:53:57.996493",
     "status": "completed"
    },
    "tags": []
   },
   "outputs": [],
   "source": [
    "# put labels into y_train variable\n",
    "y_train = df[\"language\"]\n",
    "# Drop 'label' column\n",
    "X_train = df.drop(labels = [\"language\"],axis = 1)"
   ]
  },
  {
   "cell_type": "code",
   "execution_count": 6,
   "id": "0a953c8a",
   "metadata": {
    "execution": {
     "iopub.execute_input": "2022-12-04T08:53:58.032535Z",
     "iopub.status.busy": "2022-12-04T08:53:58.031848Z",
     "iopub.status.idle": "2022-12-04T08:53:58.342997Z",
     "shell.execute_reply": "2022-12-04T08:53:58.342393Z"
    },
    "papermill": {
     "duration": 0.321256,
     "end_time": "2022-12-04T08:53:58.344558",
     "exception": false,
     "start_time": "2022-12-04T08:53:58.023302",
     "status": "completed"
    },
    "tags": []
   },
   "outputs": [
    {
     "data": {
      "text/plain": [
       "Thai          812\n",
       "Romanian      812\n",
       "Swedish       811\n",
       "Arabic        810\n",
       "Turkish       810\n",
       "Japanese      808\n",
       "Tamil         805\n",
       "Dutch         804\n",
       "Korean        804\n",
       "Russian       802\n",
       "Persian       798\n",
       "English       797\n",
       "Chinese       796\n",
       "Estonian      794\n",
       "Urdu          794\n",
       "Spanish       791\n",
       "Indonesian    786\n",
       "Pushto        784\n",
       "French        783\n",
       "Portugese     779\n",
       "Hindi         778\n",
       "Latin         742\n",
       "Name: language, dtype: int64"
      ]
     },
     "execution_count": 6,
     "metadata": {},
     "output_type": "execute_result"
    },
    {
     "data": {
      "image/png": "[encoded data removed]",
      "text/plain": [
       "<Figure size 1080x504 with 1 Axes>"
      ]
     },
     "metadata": {
      "needs_background": "light"
     },
     "output_type": "display_data"
    }
   ],
   "source": [
    "# visualize number of languages classes\n",
    "plt.figure(figsize=(15,7))\n",
    "g = sns.countplot(y_train, palette=\"icefire\")\n",
    "plt.title(\"Language\")\n",
    "y_train.value_counts()"
   ]
  },
  {
   "cell_type": "code",
   "execution_count": 7,
   "id": "3d31f728",
   "metadata": {
    "execution": {
     "iopub.execute_input": "2022-12-04T08:53:58.362308Z",
     "iopub.status.busy": "2022-12-04T08:53:58.361546Z",
     "iopub.status.idle": "2022-12-04T08:53:58.421905Z",
     "shell.execute_reply": "2022-12-04T08:53:58.421068Z"
    },
    "papermill": {
     "duration": 0.071164,
     "end_time": "2022-12-04T08:53:58.424020",
     "exception": false,
     "start_time": "2022-12-04T08:53:58.352856",
     "status": "completed"
    },
    "tags": []
   },
   "outputs": [
    {
     "data": {
      "text/html": [
       "<div>\n",
       "<style scoped>\n",
       "    .dataframe tbody tr th:only-of-type {\n",
       "        vertical-align: middle;\n",
       "    }\n",
       "\n",
       "    .dataframe tbody tr th {\n",
       "        vertical-align: top;\n",
       "    }\n",
       "\n",
       "    .dataframe thead th {\n",
       "        text-align: right;\n",
       "    }\n",
       "</style>\n",
       "<table border=\"1\" class=\"dataframe\">\n",
       "  <thead>\n",
       "    <tr style=\"text-align: right;\">\n",
       "      <th></th>\n",
       "      <th>Text</th>\n",
       "      <th>language</th>\n",
       "      <th>preprocessed_text</th>\n",
       "      <th>tokens</th>\n",
       "      <th>textclean</th>\n",
       "    </tr>\n",
       "  </thead>\n",
       "  <tbody>\n",
       "    <tr>\n",
       "      <th>2583</th>\n",
       "      <td>کنگو در برابر فرانسه که در آن جمهوری دموکراتیک کنگو فرانسه را به بازداشت غیرقانونی روسای ایالتی کنگو و جرائم جنگی متهم نمود؛ و دعوی نیکاراگوئه در برابر ایالات متحده که در این دعوی نیکاراگوئه ایالات متحده را متهم نمود که نیروهای معارض حک...</td>\n",
       "      <td>Persian</td>\n",
       "      <td>کنگو در برابر فرانسه که در آن جمهوری دموکراتیک کنگو فرانسه را به بازداشت غیرقانونی روسای ایالتی کنگو و جرائم جنگی متهم نمود و دعوی نیکاراگوئه در برابر ایالات متحده که در این دعوی نیکاراگوئه ایالات متحده را متهم نمود که نیروهای معارض حکو...</td>\n",
       "      <td>[کنگو, در, برابر, فرانسه, که, در, آن, جمهوری, دموکراتیک, کنگو, فرانسه, را, به, بازداشت, غیرقانونی, روسای, ایالتی, کنگو, و, جرائم, جنگی, متهم, نمود, و, دعوی, نیکاراگوئه, در, برابر, ایالات, متحده, که, در, این, دعوی, نیکاراگوئه, ایالات, مت...</td>\n",
       "      <td>کنگو در برابر فرانسه که در آن جمهوری دموکراتیک کنگو فرانسه را به بازداشت غیرقانونی روسای ایالتی کنگو و جرائم جنگی متهم نمود و دعوی نیکاراگوئه در برابر ایالات متحده که در این دعوی نیکاراگوئه ایالات متحده را متهم نمود که نیروهای معارض حکو...</td>\n",
       "    </tr>\n",
       "    <tr>\n",
       "      <th>18665</th>\n",
       "      <td>เต้าหู้ยี้มีชื่อเรียกในภาษาจีนหลายชื่อ เช่น เต้าฟูรู โทฟูรู ทูซูฟู ซูฟู sufu และ ต้าวยู่ 豆乳สำเนียงฮกเกี้ยน เป็นต้น ซึ่งคำว่า ซูฟู หมายถึงก้อนที่มีราขึ้น milk mold ราชนิดนี้เป็นราที่กินได้ เต้าหู้ยี้ยังมีชื่อเรียกในภาษาอังกฤษอีกชื่อหนึ่ง...</td>\n",
       "      <td>Thai</td>\n",
       "      <td>เต าห ย ม ช อเร ยกในภาษาจ นหลายช อ เช น เต าฟ ร โทฟ ร ท ซ ฟ ซ ฟ sufu และ ต าวย 豆乳สำเน ยงฮกเก ยน เป นต น ซ งคำว า ซ ฟ หมายถ งก อนท ม ราข น milk mold ราชน ดน เป นราท ก นได เต าห ย ย งม ช อเร ยกในภาษาอ งกฤษอ กช อหน งว า chinese cheese</td>\n",
       "      <td>[เต, าห, ย, ม, ช, อเร, ยกในภาษาจ, นหลายช, อ, เช, น, เต, าฟ, ร, โทฟ, ร, ท, ซ, ฟ, ซ, ฟ, sufu, และ, ต, าวย, 豆乳สำเน, ยงฮกเก, ยน, เป, นต, น, ซ, งคำว, า, ซ, ฟ, หมายถ, งก, อนท, ม, ราข, น, milk, mold, ราชน, ดน, เป, นราท, ก, นได, เต, าห, ย, ย, ง...</td>\n",
       "      <td>เต าห ย ม ช อเร ยกในภาษาจ นหลายช อ เช น เต าฟ ร โทฟ ร ท ซ ฟ ซ ฟ sufu และ ต าวย 豆乳สำเน ยงฮกเก ยน เป นต น ซ งคำว า ซ ฟ หมายถ งก อนท ม ราข น milk mold ราชน ดน เป นราท ก นได เต าห ย ย งม ช อเร ยกในภาษาอ งกฤษอ กช อหน งว า chinese cheese</td>\n",
       "    </tr>\n",
       "    <tr>\n",
       "      <th>14720</th>\n",
       "      <td>создал ряд работ для храмов иконы христа спасителя и божией матери для церкви в с красное имение г стобеуса образ христа восседающего на престоле для церкви в городе тверь а также изображение божией матери в медальоне на кости — для под...</td>\n",
       "      <td>Russian</td>\n",
       "      <td>создал ряд работ для храмов иконы христа спасителя и божией матери для церкви в с красное имение г стобеуса образ христа восседающего на престоле для церкви в городе тверь а также изображение божией матери в медальоне на кости для подне...</td>\n",
       "      <td>[создал, ряд, работ, для, храмов, иконы, христа, спасителя, и, божией, матери, для, церкви, в, с, красное, имение, г, стобеуса, образ, христа, восседающего, на, престоле, для, церкви, в, городе, тверь, а, также, изображение, божией, мат...</td>\n",
       "      <td>создал ряд работ для храмов иконы христа спасителя и божией матери для церкви в с красное имение г стобеуса образ христа восседающего на престоле для церкви в городе тверь а также изображение божией матери в медальоне на кости для подне...</td>\n",
       "    </tr>\n",
       "    <tr>\n",
       "      <th>18209</th>\n",
       "      <td>\"lapita cultural complex\" lapita designs texts about lapita lapitadraw \"software to aid in studying archaeological ceramic artefacts\" archéologie et informatique francice</td>\n",
       "      <td>Latin</td>\n",
       "      <td>lapita cultural complex lapita designs texts about lapita lapitadraw software to aid in studying archaeological ceramic artefacts archéologie et informatique francice</td>\n",
       "      <td>[lapita, cultural, complex, lapita, designs, texts, about, lapita, lapitadraw, software, to, aid, in, studying, archaeological, ceramic, artefacts, archéologie, et, informatique, francice]</td>\n",
       "      <td>lapita cultural complex lapita designs texts about lapita lapitadraw software to aid in studying archaeological ceramic artefacts archéologie et informatique francice</td>\n",
       "    </tr>\n",
       "    <tr>\n",
       "      <th>13099</th>\n",
       "      <td>sanayide monoklorasetik asit mca olarak bilinen kloroasetik asit formülü clchcoh olan organik klorlu bileşiktir bu karboksilik asit organik sentezlerde kullanılan temel bir yapıtaşıdır</td>\n",
       "      <td>Turkish</td>\n",
       "      <td>sanayide monoklorasetik asit mca olarak bilinen kloroasetik asit formülü clchcoh olan organik klorlu bileşiktir bu karboksilik asit organik sentezlerde kullanılan temel bir yapıtaşıdır</td>\n",
       "      <td>[sanayide, monoklorasetik, asit, mca, olarak, bilinen, kloroasetik, asit, formülü, clchcoh, olan, organik, klorlu, bileşiktir, bu, karboksilik, asit, organik, sentezlerde, kullanılan, temel, bir, yapıtaşıdır]</td>\n",
       "      <td>sanayide monoklorasetik asit mca olarak bilinen kloroasetik asit formülü clchcoh olan organik klorlu bileşiktir bu karboksilik asit organik sentezlerde kullanılan temel bir yapıtaşıdır</td>\n",
       "    </tr>\n",
       "  </tbody>\n",
       "</table>\n",
       "</div>"
      ],
      "text/plain": [
       "                                                                                                                                                                                                                                                  Text  \\\n",
       "2583   کنگو در برابر فرانسه که در آن جمهوری دموکراتیک کنگو فرانسه را به بازداشت غیرقانونی روسای ایالتی کنگو و جرائم جنگی متهم نمود؛ و دعوی نیکاراگوئه در برابر ایالات متحده که در این دعوی نیکاراگوئه ایالات متحده را متهم نمود که نیروهای معارض حک...   \n",
       "18665  เต้าหู้ยี้มีชื่อเรียกในภาษาจีนหลายชื่อ เช่น เต้าฟูรู โทฟูรู ทูซูฟู ซูฟู sufu และ ต้าวยู่ 豆乳สำเนียงฮกเกี้ยน เป็นต้น ซึ่งคำว่า ซูฟู หมายถึงก้อนที่มีราขึ้น milk mold ราชนิดนี้เป็นราที่กินได้ เต้าหู้ยี้ยังมีชื่อเรียกในภาษาอังกฤษอีกชื่อหนึ่ง...   \n",
       "14720  создал ряд работ для храмов иконы христа спасителя и божией матери для церкви в с красное имение г стобеуса образ христа восседающего на престоле для церкви в городе тверь а также изображение божией матери в медальоне на кости — для под...   \n",
       "18209                                                                       \"lapita cultural complex\" lapita designs texts about lapita lapitadraw \"software to aid in studying archaeological ceramic artefacts\" archéologie et informatique francice   \n",
       "13099                                                         sanayide monoklorasetik asit mca olarak bilinen kloroasetik asit formülü clchcoh olan organik klorlu bileşiktir bu karboksilik asit organik sentezlerde kullanılan temel bir yapıtaşıdır   \n",
       "\n",
       "      language  \\\n",
       "2583   Persian   \n",
       "18665     Thai   \n",
       "14720  Russian   \n",
       "18209    Latin   \n",
       "13099  Turkish   \n",
       "\n",
       "                                                                                                                                                                                                                                     preprocessed_text  \\\n",
       "2583   کنگو در برابر فرانسه که در آن جمهوری دموکراتیک کنگو فرانسه را به بازداشت غیرقانونی روسای ایالتی کنگو و جرائم جنگی متهم نمود و دعوی نیکاراگوئه در برابر ایالات متحده که در این دعوی نیکاراگوئه ایالات متحده را متهم نمود که نیروهای معارض حکو...   \n",
       "18665          เต าห ย ม ช อเร ยกในภาษาจ นหลายช อ เช น เต าฟ ร โทฟ ร ท ซ ฟ ซ ฟ sufu และ ต าวย 豆乳สำเน ยงฮกเก ยน เป นต น ซ งคำว า ซ ฟ หมายถ งก อนท ม ราข น milk mold ราชน ดน เป นราท ก นได เต าห ย ย งม ช อเร ยกในภาษาอ งกฤษอ กช อหน งว า chinese cheese   \n",
       "14720  создал ряд работ для храмов иконы христа спасителя и божией матери для церкви в с красное имение г стобеуса образ христа восседающего на престоле для церкви в городе тверь а также изображение божией матери в медальоне на кости для подне...   \n",
       "18209                                                                           lapita cultural complex lapita designs texts about lapita lapitadraw software to aid in studying archaeological ceramic artefacts archéologie et informatique francice   \n",
       "13099                                                         sanayide monoklorasetik asit mca olarak bilinen kloroasetik asit formülü clchcoh olan organik klorlu bileşiktir bu karboksilik asit organik sentezlerde kullanılan temel bir yapıtaşıdır   \n",
       "\n",
       "                                                                                                                                                                                                                                                tokens  \\\n",
       "2583   [کنگو, در, برابر, فرانسه, که, در, آن, جمهوری, دموکراتیک, کنگو, فرانسه, را, به, بازداشت, غیرقانونی, روسای, ایالتی, کنگو, و, جرائم, جنگی, متهم, نمود, و, دعوی, نیکاراگوئه, در, برابر, ایالات, متحده, که, در, این, دعوی, نیکاراگوئه, ایالات, مت...   \n",
       "18665  [เต, าห, ย, ม, ช, อเร, ยกในภาษาจ, นหลายช, อ, เช, น, เต, าฟ, ร, โทฟ, ร, ท, ซ, ฟ, ซ, ฟ, sufu, และ, ต, าวย, 豆乳สำเน, ยงฮกเก, ยน, เป, นต, น, ซ, งคำว, า, ซ, ฟ, หมายถ, งก, อนท, ม, ราข, น, milk, mold, ราชน, ดน, เป, นราท, ก, นได, เต, าห, ย, ย, ง...   \n",
       "14720  [создал, ряд, работ, для, храмов, иконы, христа, спасителя, и, божией, матери, для, церкви, в, с, красное, имение, г, стобеуса, образ, христа, восседающего, на, престоле, для, церкви, в, городе, тверь, а, также, изображение, божией, мат...   \n",
       "18209                                                     [lapita, cultural, complex, lapita, designs, texts, about, lapita, lapitadraw, software, to, aid, in, studying, archaeological, ceramic, artefacts, archéologie, et, informatique, francice]   \n",
       "13099                                 [sanayide, monoklorasetik, asit, mca, olarak, bilinen, kloroasetik, asit, formülü, clchcoh, olan, organik, klorlu, bileşiktir, bu, karboksilik, asit, organik, sentezlerde, kullanılan, temel, bir, yapıtaşıdır]   \n",
       "\n",
       "                                                                                                                                                                                                                                             textclean  \n",
       "2583   کنگو در برابر فرانسه که در آن جمهوری دموکراتیک کنگو فرانسه را به بازداشت غیرقانونی روسای ایالتی کنگو و جرائم جنگی متهم نمود و دعوی نیکاراگوئه در برابر ایالات متحده که در این دعوی نیکاراگوئه ایالات متحده را متهم نمود که نیروهای معارض حکو...  \n",
       "18665          เต าห ย ม ช อเร ยกในภาษาจ นหลายช อ เช น เต าฟ ร โทฟ ร ท ซ ฟ ซ ฟ sufu และ ต าวย 豆乳สำเน ยงฮกเก ยน เป นต น ซ งคำว า ซ ฟ หมายถ งก อนท ม ราข น milk mold ราชน ดน เป นราท ก นได เต าห ย ย งม ช อเร ยกในภาษาอ งกฤษอ กช อหน งว า chinese cheese  \n",
       "14720  создал ряд работ для храмов иконы христа спасителя и божией матери для церкви в с красное имение г стобеуса образ христа восседающего на престоле для церкви в городе тверь а также изображение божией матери в медальоне на кости для подне...  \n",
       "18209                                                                           lapita cultural complex lapita designs texts about lapita lapitadraw software to aid in studying archaeological ceramic artefacts archéologie et informatique francice  \n",
       "13099                                                         sanayide monoklorasetik asit mca olarak bilinen kloroasetik asit formülü clchcoh olan organik klorlu bileşiktir bu karboksilik asit organik sentezlerde kullanılan temel bir yapıtaşıdır  "
      ]
     },
     "execution_count": 7,
     "metadata": {},
     "output_type": "execute_result"
    }
   ],
   "source": [
    "df['textclean'] = df['tokens'].apply(lambda x: ' '.join(x))\n",
    "df.head()"
   ]
  },
  {
   "cell_type": "markdown",
   "id": "c12568ce",
   "metadata": {
    "papermill": {
     "duration": 0.008077,
     "end_time": "2022-12-04T08:53:58.440258",
     "exception": false,
     "start_time": "2022-12-04T08:53:58.432181",
     "status": "completed"
    },
    "tags": []
   },
   "source": [
    "## <span style=\"color:green\">**Vectorization**</span>\n"
   ]
  },
  {
   "cell_type": "code",
   "execution_count": 8,
   "id": "36dd532b",
   "metadata": {
    "execution": {
     "iopub.execute_input": "2022-12-04T08:53:58.457801Z",
     "iopub.status.busy": "2022-12-04T08:53:58.457557Z",
     "iopub.status.idle": "2022-12-04T08:54:00.559724Z",
     "shell.execute_reply": "2022-12-04T08:54:00.558523Z"
    },
    "papermill": {
     "duration": 2.1131,
     "end_time": "2022-12-04T08:54:00.561472",
     "exception": false,
     "start_time": "2022-12-04T08:53:58.448372",
     "status": "completed"
    },
    "tags": []
   },
   "outputs": [
    {
     "name": "stdout",
     "output_type": "stream",
     "text": [
      "X_train.shape = (17500, 236786)\n"
     ]
    },
    {
     "data": {
      "text/plain": [
       "numpy.ndarray"
      ]
     },
     "execution_count": 8,
     "metadata": {},
     "output_type": "execute_result"
    }
   ],
   "source": [
    "from sklearn.feature_extraction.text import TfidfVectorizer\n",
    "#import seaborn as sns\n",
    "tfidf_vectorizer = TfidfVectorizer()\n",
    "X_train = tfidf_vectorizer.fit_transform(df['textclean']).toarray()\n",
    "#X_train = tfidf_vectorizer.fit_transform(df['text']).toarray() # original tweet text (without our manual tokenization)\n",
    "\n",
    "#from sklearn.feature_extraction.text import CountVectorizer\n",
    "#one_hot_vectorizer = CountVectorizer(binary=True)\n",
    "#tweet_matrix = one_hot_vectorizer.fit_transform(list(df['textclean']))#.toarray()\n",
    "\n",
    "print(f\"X_train.shape = {X_train.shape}\")\n",
    "type(X_train)"
   ]
  },
  {
   "cell_type": "code",
   "execution_count": 9,
   "id": "8c5e1f77",
   "metadata": {
    "execution": {
     "iopub.execute_input": "2022-12-04T08:54:00.579945Z",
     "iopub.status.busy": "2022-12-04T08:54:00.579633Z",
     "iopub.status.idle": "2022-12-04T08:54:00.583355Z",
     "shell.execute_reply": "2022-12-04T08:54:00.582506Z"
    },
    "papermill": {
     "duration": 0.015019,
     "end_time": "2022-12-04T08:54:00.585117",
     "exception": false,
     "start_time": "2022-12-04T08:54:00.570098",
     "status": "completed"
    },
    "tags": []
   },
   "outputs": [],
   "source": [
    "y_train = df.language.to_numpy()\n"
   ]
  },
  {
   "cell_type": "code",
   "execution_count": 10,
   "id": "61d1a688",
   "metadata": {
    "execution": {
     "iopub.execute_input": "2022-12-04T08:54:00.603867Z",
     "iopub.status.busy": "2022-12-04T08:54:00.602895Z",
     "iopub.status.idle": "2022-12-04T08:54:00.984501Z",
     "shell.execute_reply": "2022-12-04T08:54:00.983662Z"
    },
    "papermill": {
     "duration": 0.392785,
     "end_time": "2022-12-04T08:54:00.986367",
     "exception": false,
     "start_time": "2022-12-04T08:54:00.593582",
     "status": "completed"
    },
    "tags": []
   },
   "outputs": [
    {
     "data": {
      "text/plain": [
       "(4359, 236786)"
      ]
     },
     "execution_count": 10,
     "metadata": {},
     "output_type": "execute_result"
    }
   ],
   "source": [
    "#X_train, X_val, y_train, y_val = train_test_split(X_train, y_train, test_size = 0.1)\n",
    "#print(\"x_train shape\",X_train.shape)\n",
    "#print(\"x_test shape\",X_val.shape)\n",
    "#print(\"y_train shape\",y_train.shape)\n",
    "#print(\"y_test shape\",y_val.shape)\n",
    "df_test['textclean'] = df_test['tokens'].apply(lambda x: ' '.join(x))\n",
    "X_test = tfidf_vectorizer.transform(df_test['textclean']).toarray()\n",
    "X_test.shape\n"
   ]
  },
  {
   "cell_type": "markdown",
   "id": "758f38cb",
   "metadata": {
    "papermill": {
     "duration": 0.008346,
     "end_time": "2022-12-04T08:54:01.003399",
     "exception": false,
     "start_time": "2022-12-04T08:54:00.995053",
     "status": "completed"
    },
    "tags": []
   },
   "source": [
    "## <span style=\"color:green\">**Create Model**</span>\n"
   ]
  },
  {
   "cell_type": "code",
   "execution_count": 11,
   "id": "ce5eb991",
   "metadata": {
    "execution": {
     "iopub.execute_input": "2022-12-04T08:54:01.021895Z",
     "iopub.status.busy": "2022-12-04T08:54:01.021235Z",
     "iopub.status.idle": "2022-12-04T08:54:05.966044Z",
     "shell.execute_reply": "2022-12-04T08:54:05.965102Z"
    },
    "papermill": {
     "duration": 4.95626,
     "end_time": "2022-12-04T08:54:05.968043",
     "exception": false,
     "start_time": "2022-12-04T08:54:01.011783",
     "status": "completed"
    },
    "tags": []
   },
   "outputs": [
    {
     "name": "stderr",
     "output_type": "stream",
     "text": [
      "2022-12-04 08:54:05.854976: I tensorflow/core/common_runtime/process_util.cc:146] Creating new thread pool with default inter op setting: 2. Tune using inter_op_parallelism_threads for best performance.\n"
     ]
    }
   ],
   "source": [
    "from sklearn.metrics import confusion_matrix\n",
    "import itertools\n",
    "\n",
    "from keras.utils.np_utils import to_categorical # convert to one-hot-encoding\n",
    "from keras.models import Sequential\n",
    "from keras.layers import Dense, Dropout, Flatten, Conv2D, MaxPool2D\n",
    "from tensorflow.keras.optimizers import RMSprop, Adam\n",
    "#from keras.preprocessing.image import ImageDataGenerator\n",
    "from keras.callbacks import ReduceLROnPlateau\n",
    "\n",
    "model = Sequential()\n",
    "#\n",
    "model.add(Conv2D(filters = 8, kernel_size = (5,5),padding = 'Same', \n",
    "                 activation ='relu', input_shape = (28,28,1)))\n",
    "model.add(MaxPool2D(pool_size=(2,2)))\n",
    "model.add(Dropout(0.25))\n",
    "#\n",
    "model.add(Conv2D(filters = 16, kernel_size = (3,3),padding = 'Same', \n",
    "                 activation ='relu'))\n",
    "model.add(MaxPool2D(pool_size=(2,2), strides=(2,2)))\n",
    "model.add(Dropout(0.25))\n",
    "# fully connected\n",
    "model.add(Flatten())\n",
    "model.add(Dense(256, activation = \"relu\"))\n",
    "model.add(Dropout(0.5))\n",
    "model.add(Dense(10, activation = \"softmax\"))"
   ]
  },
  {
   "cell_type": "code",
   "execution_count": 12,
   "id": "dca6c759",
   "metadata": {
    "execution": {
     "iopub.execute_input": "2022-12-04T08:54:05.986731Z",
     "iopub.status.busy": "2022-12-04T08:54:05.986399Z",
     "iopub.status.idle": "2022-12-04T08:54:05.990654Z",
     "shell.execute_reply": "2022-12-04T08:54:05.989737Z"
    },
    "papermill": {
     "duration": 0.015556,
     "end_time": "2022-12-04T08:54:05.992452",
     "exception": false,
     "start_time": "2022-12-04T08:54:05.976896",
     "status": "completed"
    },
    "tags": []
   },
   "outputs": [],
   "source": [
    "# Define the optimizer\n",
    "optimizer = Adam(lr=0.001, beta_1=0.9, beta_2=0.999)"
   ]
  },
  {
   "cell_type": "code",
   "execution_count": 13,
   "id": "8d8edc7b",
   "metadata": {
    "execution": {
     "iopub.execute_input": "2022-12-04T08:54:06.011423Z",
     "iopub.status.busy": "2022-12-04T08:54:06.011144Z",
     "iopub.status.idle": "2022-12-04T08:54:06.022124Z",
     "shell.execute_reply": "2022-12-04T08:54:06.021474Z"
    },
    "papermill": {
     "duration": 0.022197,
     "end_time": "2022-12-04T08:54:06.023861",
     "exception": false,
     "start_time": "2022-12-04T08:54:06.001664",
     "status": "completed"
    },
    "tags": []
   },
   "outputs": [],
   "source": [
    "# Compile the model\n",
    "model.compile(optimizer = optimizer , loss = \"categorical_crossentropy\", metrics=[\"accuracy\"])"
   ]
  },
  {
   "cell_type": "code",
   "execution_count": 14,
   "id": "12997792",
   "metadata": {
    "execution": {
     "iopub.execute_input": "2022-12-04T08:54:06.042819Z",
     "iopub.status.busy": "2022-12-04T08:54:06.041976Z",
     "iopub.status.idle": "2022-12-04T08:54:06.046280Z",
     "shell.execute_reply": "2022-12-04T08:54:06.045505Z"
    },
    "papermill": {
     "duration": 0.015199,
     "end_time": "2022-12-04T08:54:06.047944",
     "exception": false,
     "start_time": "2022-12-04T08:54:06.032745",
     "status": "completed"
    },
    "tags": []
   },
   "outputs": [],
   "source": [
    "epochs = 10  # for better result increase the epochs\n",
    "batch_size = 250"
   ]
  },
  {
   "cell_type": "code",
   "execution_count": 15,
   "id": "84fff077",
   "metadata": {
    "execution": {
     "iopub.execute_input": "2022-12-04T08:54:06.066244Z",
     "iopub.status.busy": "2022-12-04T08:54:06.065994Z",
     "iopub.status.idle": "2022-12-04T08:54:21.291719Z",
     "shell.execute_reply": "2022-12-04T08:54:21.291017Z"
    },
    "papermill": {
     "duration": 15.237098,
     "end_time": "2022-12-04T08:54:21.293649",
     "exception": false,
     "start_time": "2022-12-04T08:54:06.056551",
     "status": "completed"
    },
    "tags": []
   },
   "outputs": [
    {
     "name": "stdout",
     "output_type": "stream",
     "text": [
      "Collecting textaugment\r\n",
      "  Downloading textaugment-1.3.4-py3-none-any.whl (16 kB)\r\n",
      "Requirement already satisfied: textblob in /opt/conda/lib/python3.7/site-packages (from textaugment) (0.17.1)\r\n",
      "Requirement already satisfied: numpy in /opt/conda/lib/python3.7/site-packages (from textaugment) (1.21.6)\r\n",
      "Requirement already satisfied: nltk in /opt/conda/lib/python3.7/site-packages (from textaugment) (3.7)\r\n",
      "Requirement already satisfied: gensim in /opt/conda/lib/python3.7/site-packages (from textaugment) (4.0.1)\r\n",
      "Collecting googletrans\r\n",
      "  Downloading googletrans-3.0.0.tar.gz (17 kB)\r\n",
      "  Preparing metadata (setup.py) ... \u001b[?25l-\b \bdone\r\n",
      "\u001b[?25hRequirement already satisfied: scipy>=0.18.1 in /opt/conda/lib/python3.7/site-packages (from gensim->textaugment) (1.7.3)\r\n",
      "Requirement already satisfied: smart-open>=1.8.1 in /opt/conda/lib/python3.7/site-packages (from gensim->textaugment) (5.2.1)\r\n",
      "Collecting httpx==0.13.3\r\n",
      "  Downloading httpx-0.13.3-py3-none-any.whl (55 kB)\r\n",
      "\u001b[2K     \u001b[90m━━━━━━━━━━━━━━━━━━━━━━━━━━━━━━━━━━━━━━━\u001b[0m \u001b[32m55.1/55.1 kB\u001b[0m \u001b[31m438.8 kB/s\u001b[0m eta \u001b[36m0:00:00\u001b[0m\r\n",
      "\u001b[?25hRequirement already satisfied: sniffio in /opt/conda/lib/python3.7/site-packages (from httpx==0.13.3->googletrans->textaugment) (1.2.0)\r\n",
      "Collecting rfc3986<2,>=1.3\r\n",
      "  Downloading rfc3986-1.5.0-py2.py3-none-any.whl (31 kB)\r\n",
      "Collecting httpcore==0.9.*\r\n",
      "  Downloading httpcore-0.9.1-py3-none-any.whl (42 kB)\r\n",
      "\u001b[2K     \u001b[90m━━━━━━━━━━━━━━━━━━━━━━━━━━━━━━━━━━━━━━━━\u001b[0m \u001b[32m42.6/42.6 kB\u001b[0m \u001b[31m1.6 MB/s\u001b[0m eta \u001b[36m0:00:00\u001b[0m\r\n",
      "\u001b[?25hCollecting hstspreload\r\n",
      "  Downloading hstspreload-2022.12.1-py3-none-any.whl (1.5 MB)\r\n",
      "\u001b[2K     \u001b[90m━━━━━━━━━━━━━━━━━━━━━━━━━━━━━━━━━━━━━━━━\u001b[0m \u001b[32m1.5/1.5 MB\u001b[0m \u001b[31m3.6 MB/s\u001b[0m eta \u001b[36m0:00:00\u001b[0m\r\n",
      "\u001b[?25hRequirement already satisfied: certifi in /opt/conda/lib/python3.7/site-packages (from httpx==0.13.3->googletrans->textaugment) (2022.9.24)\r\n",
      "Collecting idna==2.*\r\n",
      "  Downloading idna-2.10-py2.py3-none-any.whl (58 kB)\r\n",
      "\u001b[2K     \u001b[90m━━━━━━━━━━━━━━━━━━━━━━━━━━━━━━━━━━━━━━━━\u001b[0m \u001b[32m58.8/58.8 kB\u001b[0m \u001b[31m5.7 MB/s\u001b[0m eta \u001b[36m0:00:00\u001b[0m\r\n",
      "\u001b[?25hCollecting chardet==3.*\r\n",
      "  Downloading chardet-3.0.4-py2.py3-none-any.whl (133 kB)\r\n",
      "\u001b[2K     \u001b[90m━━━━━━━━━━━━━━━━━━━━━━━━━━━━━━━━━━━━━━\u001b[0m \u001b[32m133.4/133.4 kB\u001b[0m \u001b[31m13.2 MB/s\u001b[0m eta \u001b[36m0:00:00\u001b[0m\r\n",
      "\u001b[?25hCollecting h2==3.*\r\n",
      "  Downloading h2-3.2.0-py2.py3-none-any.whl (65 kB)\r\n",
      "\u001b[2K     \u001b[90m━━━━━━━━━━━━━━━━━━━━━━━━━━━━━━━━━━━━━━━━\u001b[0m \u001b[32m65.0/65.0 kB\u001b[0m \u001b[31m6.6 MB/s\u001b[0m eta \u001b[36m0:00:00\u001b[0m\r\n",
      "\u001b[?25hCollecting h11<0.10,>=0.8\r\n",
      "  Downloading h11-0.9.0-py2.py3-none-any.whl (53 kB)\r\n",
      "\u001b[2K     \u001b[90m━━━━━━━━━━━━━━━━━━━━━━━━━━━━━━━━━━━━━━━━\u001b[0m \u001b[32m53.6/53.6 kB\u001b[0m \u001b[31m5.2 MB/s\u001b[0m eta \u001b[36m0:00:00\u001b[0m\r\n",
      "\u001b[?25hCollecting hpack<4,>=3.0\r\n",
      "  Downloading hpack-3.0.0-py2.py3-none-any.whl (38 kB)\r\n",
      "Collecting hyperframe<6,>=5.2.0\r\n",
      "  Downloading hyperframe-5.2.0-py2.py3-none-any.whl (12 kB)\r\n",
      "Requirement already satisfied: joblib in /opt/conda/lib/python3.7/site-packages (from nltk->textaugment) (1.0.1)\r\n",
      "Requirement already satisfied: tqdm in /opt/conda/lib/python3.7/site-packages (from nltk->textaugment) (4.64.0)\r\n",
      "Requirement already satisfied: click in /opt/conda/lib/python3.7/site-packages (from nltk->textaugment) (8.0.4)\r\n",
      "Requirement already satisfied: regex>=2021.8.3 in /opt/conda/lib/python3.7/site-packages (from nltk->textaugment) (2021.11.10)\r\n",
      "Requirement already satisfied: importlib-metadata in /opt/conda/lib/python3.7/site-packages (from click->nltk->textaugment) (4.13.0)\r\n",
      "Requirement already satisfied: typing-extensions>=3.6.4 in /opt/conda/lib/python3.7/site-packages (from importlib-metadata->click->nltk->textaugment) (4.4.0)\r\n",
      "Requirement already satisfied: zipp>=0.5 in /opt/conda/lib/python3.7/site-packages (from importlib-metadata->click->nltk->textaugment) (3.8.0)\r\n",
      "Building wheels for collected packages: googletrans\r\n",
      "  Building wheel for googletrans (setup.py) ... \u001b[?25l-\b \b\\\b \bdone\r\n",
      "\u001b[?25h  Created wheel for googletrans: filename=googletrans-3.0.0-py3-none-any.whl size=15735 sha256=d6079f6717d126de3ad213681b729b0c6a468498dcc8f89f2d4c2d6a4ead6446\r\n",
      "  Stored in directory: /root/.cache/pip/wheels/20/da/eb/a54579056f265eede0417df537dd56d3df5b9eb2b25df0003d\r\n",
      "Successfully built googletrans\r\n",
      "Installing collected packages: rfc3986, hyperframe, hpack, h11, chardet, idna, hstspreload, h2, httpcore, httpx, googletrans, textaugment\r\n",
      "  Attempting uninstall: h11\r\n",
      "    Found existing installation: h11 0.14.0\r\n",
      "    Uninstalling h11-0.14.0:\r\n",
      "      Successfully uninstalled h11-0.14.0\r\n",
      "  Attempting uninstall: chardet\r\n",
      "    Found existing installation: chardet 5.0.0\r\n",
      "    Uninstalling chardet-5.0.0:\r\n",
      "      Successfully uninstalled chardet-5.0.0\r\n",
      "  Attempting uninstall: idna\r\n",
      "    Found existing installation: idna 3.3\r\n",
      "    Uninstalling idna-3.3:\r\n",
      "      Successfully uninstalled idna-3.3\r\n",
      "\u001b[31mERROR: pip's dependency resolver does not currently take into account all the packages that are installed. This behaviour is the source of the following dependency conflicts.\r\n",
      "beatrix-jupyterlab 3.1.7 requires google-cloud-bigquery-storage, which is not installed.\r\n",
      "pandas-profiling 3.1.0 requires markupsafe~=2.0.1, but you have markupsafe 2.1.1 which is incompatible.\r\n",
      "google-api-core 1.33.2 requires protobuf!=3.20.0,!=3.20.1,!=4.21.0,!=4.21.1,!=4.21.2,!=4.21.3,!=4.21.4,!=4.21.5,<4.0.0dev,>=3.19.5, but you have protobuf 3.19.4 which is incompatible.\r\n",
      "gcsfs 2022.5.0 requires fsspec==2022.5.0, but you have fsspec 2022.8.2 which is incompatible.\r\n",
      "apache-beam 2.40.0 requires dill<0.3.2,>=0.3.1.1, but you have dill 0.3.5.1 which is incompatible.\r\n",
      "apache-beam 2.40.0 requires pyarrow<8.0.0,>=0.15.1, but you have pyarrow 8.0.0 which is incompatible.\r\n",
      "allennlp 2.10.0 requires protobuf==3.20.0, but you have protobuf 3.19.4 which is incompatible.\r\n",
      "aiobotocore 2.4.0 requires botocore<1.27.60,>=1.27.59, but you have botocore 1.27.93 which is incompatible.\u001b[0m\u001b[31m\r\n",
      "\u001b[0mSuccessfully installed chardet-3.0.4 googletrans-3.0.0 h11-0.9.0 h2-3.2.0 hpack-3.0.0 hstspreload-2022.12.1 httpcore-0.9.1 httpx-0.13.3 hyperframe-5.2.0 idna-2.10 rfc3986-1.5.0 textaugment-1.3.4\r\n",
      "\u001b[33mWARNING: Running pip as the 'root' user can result in broken permissions and conflicting behaviour with the system package manager. It is recommended to use a virtual environment instead: https://pip.pypa.io/warnings/venv\u001b[0m\u001b[33m\r\n",
      "\u001b[0m"
     ]
    }
   ],
   "source": [
    "# Import libraries\n",
    "try:\n",
    "  import textaugment\n",
    "except ModuleNotFoundError:\n",
    "  !pip install textaugment\n",
    "  import textaugment\n",
    "\n",
    "import pandas as pd\n",
    "\n",
    "import tensorflow as tf\n",
    "from tensorflow.keras.preprocessing import sequence\n",
    "from tensorflow.keras.models import Sequential\n",
    "from tensorflow.keras.layers import Dense, Dropout, Activation\n",
    "from tensorflow.keras.layers import Embedding\n",
    "from tensorflow.keras.layers import Conv1D, GlobalMaxPooling1D\n",
    "from tensorflow.keras.datasets import imdb\n",
    "\n",
    "from textaugment import MIXUP\n",
    "%matplotlib inline\n"
   ]
  },
  {
   "cell_type": "code",
   "execution_count": 16,
   "id": "d6eae555",
   "metadata": {
    "execution": {
     "iopub.execute_input": "2022-12-04T08:54:21.318333Z",
     "iopub.status.busy": "2022-12-04T08:54:21.317849Z",
     "iopub.status.idle": "2022-12-04T08:54:21.325928Z",
     "shell.execute_reply": "2022-12-04T08:54:21.325377Z"
    },
    "papermill": {
     "duration": 0.022158,
     "end_time": "2022-12-04T08:54:21.327407",
     "exception": false,
     "start_time": "2022-12-04T08:54:21.305249",
     "status": "completed"
    },
    "tags": []
   },
   "outputs": [
    {
     "data": {
      "text/plain": [
       "'2.6.4'"
      ]
     },
     "execution_count": 16,
     "metadata": {},
     "output_type": "execute_result"
    }
   ],
   "source": [
    "tf.__version__"
   ]
  },
  {
   "cell_type": "code",
   "execution_count": 17,
   "id": "f44d3429",
   "metadata": {
    "execution": {
     "iopub.execute_input": "2022-12-04T08:54:21.351560Z",
     "iopub.status.busy": "2022-12-04T08:54:21.351103Z",
     "iopub.status.idle": "2022-12-04T08:54:21.355833Z",
     "shell.execute_reply": "2022-12-04T08:54:21.355075Z"
    },
    "papermill": {
     "duration": 0.018865,
     "end_time": "2022-12-04T08:54:21.357558",
     "exception": false,
     "start_time": "2022-12-04T08:54:21.338693",
     "status": "completed"
    },
    "tags": []
   },
   "outputs": [
    {
     "data": {
      "text/plain": [
       "'1.3.4'"
      ]
     },
     "execution_count": 17,
     "metadata": {},
     "output_type": "execute_result"
    }
   ],
   "source": [
    "textaugment.__version__"
   ]
  },
  {
   "cell_type": "code",
   "execution_count": 18,
   "id": "87baf50b",
   "metadata": {
    "execution": {
     "iopub.execute_input": "2022-12-04T08:54:21.382688Z",
     "iopub.status.busy": "2022-12-04T08:54:21.381620Z",
     "iopub.status.idle": "2022-12-04T08:54:21.386842Z",
     "shell.execute_reply": "2022-12-04T08:54:21.385986Z"
    },
    "papermill": {
     "duration": 0.019541,
     "end_time": "2022-12-04T08:54:21.388547",
     "exception": false,
     "start_time": "2022-12-04T08:54:21.369006",
     "status": "completed"
    },
    "tags": []
   },
   "outputs": [],
   "source": [
    "# set parameters:\n",
    "max_features = 5000\n",
    "maxlen = 400\n",
    "batch_size = 32\n",
    "embedding_dims = 50\n",
    "filters = 250\n",
    "kernel_size = 3\n",
    "hidden_dims = 250\n",
    "epochs = 10\n",
    "runs = 1"
   ]
  },
  {
   "cell_type": "code",
   "execution_count": 19,
   "id": "dcccfb93",
   "metadata": {
    "execution": {
     "iopub.execute_input": "2022-12-04T08:54:21.412908Z",
     "iopub.status.busy": "2022-12-04T08:54:21.412560Z",
     "iopub.status.idle": "2022-12-04T08:54:28.028277Z",
     "shell.execute_reply": "2022-12-04T08:54:28.027255Z"
    },
    "papermill": {
     "duration": 6.63011,
     "end_time": "2022-12-04T08:54:28.030199",
     "exception": false,
     "start_time": "2022-12-04T08:54:21.400089",
     "status": "completed"
    },
    "tags": []
   },
   "outputs": [
    {
     "name": "stdout",
     "output_type": "stream",
     "text": [
      "Loading data...\n",
      "Downloading data from https://storage.googleapis.com/tensorflow/tf-keras-datasets/imdb.npz\n",
      "17465344/17464789 [==============================] - 1s 0us/step\n",
      "17473536/17464789 [==============================] - 1s 0us/step\n",
      "25000 train sequences\n",
      "25000 test sequences\n",
      "Pad sequences (samples x time)\n",
      "x_train shape: (25000, 400)\n",
      "x_test shape: (25000, 400)\n"
     ]
    }
   ],
   "source": [
    "print('Loading data...')\n",
    "(X_train, y_train), (X_test, y_test) = imdb.load_data(num_words=max_features)\n",
    "print(len(X_train), 'train sequences')\n",
    "print(len(X_test), 'test sequences')\n",
    "\n",
    "print('Pad sequences (samples x time)')\n",
    "X_train = sequence.pad_sequences(X_train, maxlen=maxlen)\n",
    "X_test = sequence.pad_sequences(X_test, maxlen=maxlen)\n",
    "print('x_train shape:', X_train.shape)\n",
    "print('x_test shape:', X_test.shape)\n"
   ]
  },
  {
   "cell_type": "code",
   "execution_count": 20,
   "id": "31f9e988",
   "metadata": {
    "execution": {
     "iopub.execute_input": "2022-12-04T08:54:28.057481Z",
     "iopub.status.busy": "2022-12-04T08:54:28.057217Z",
     "iopub.status.idle": "2022-12-04T08:54:28.061845Z",
     "shell.execute_reply": "2022-12-04T08:54:28.061172Z"
    },
    "papermill": {
     "duration": 0.020296,
     "end_time": "2022-12-04T08:54:28.063696",
     "exception": false,
     "start_time": "2022-12-04T08:54:28.043400",
     "status": "completed"
    },
    "tags": []
   },
   "outputs": [],
   "source": [
    "mixup = MIXUP()\n",
    "generator, step = mixup.flow(X_train, y_train, batch_size=batch_size, runs=runs)\n"
   ]
  },
  {
   "cell_type": "code",
   "execution_count": 21,
   "id": "38c2b941",
   "metadata": {
    "execution": {
     "iopub.execute_input": "2022-12-04T08:54:28.093779Z",
     "iopub.status.busy": "2022-12-04T08:54:28.093332Z",
     "iopub.status.idle": "2022-12-04T08:54:28.152045Z",
     "shell.execute_reply": "2022-12-04T08:54:28.151402Z"
    },
    "papermill": {
     "duration": 0.074954,
     "end_time": "2022-12-04T08:54:28.154569",
     "exception": false,
     "start_time": "2022-12-04T08:54:28.079615",
     "status": "completed"
    },
    "tags": []
   },
   "outputs": [
    {
     "name": "stdout",
     "output_type": "stream",
     "text": [
      "Build model...\n",
      "Model: \"sequential_1\"\n",
      "_________________________________________________________________\n",
      "Layer (type)                 Output Shape              Param #   \n",
      "=================================================================\n",
      "embedding (Embedding)        (None, 400, 50)           250000    \n",
      "_________________________________________________________________\n",
      "dropout_3 (Dropout)          (None, 400, 50)           0         \n",
      "_________________________________________________________________\n",
      "conv1d (Conv1D)              (None, 398, 250)          37750     \n",
      "_________________________________________________________________\n",
      "global_max_pooling1d (Global (None, 250)               0         \n",
      "_________________________________________________________________\n",
      "dense_2 (Dense)              (None, 250)               62750     \n",
      "_________________________________________________________________\n",
      "dropout_4 (Dropout)          (None, 250)               0         \n",
      "_________________________________________________________________\n",
      "activation (Activation)      (None, 250)               0         \n",
      "_________________________________________________________________\n",
      "dense_3 (Dense)              (None, 1)                 251       \n",
      "_________________________________________________________________\n",
      "activation_1 (Activation)    (None, 1)                 0         \n",
      "=================================================================\n",
      "Total params: 350,751\n",
      "Trainable params: 350,751\n",
      "Non-trainable params: 0\n",
      "_________________________________________________________________\n"
     ]
    }
   ],
   "source": [
    "print('Build model...')\n",
    "model = Sequential()\n",
    "\n",
    "# we start off with an efficient embedding layer which maps\n",
    "# our vocab indices into embedding_dims dimensions\n",
    "model.add(Embedding(max_features,\n",
    "                    embedding_dims,\n",
    "                    input_length=maxlen))\n",
    "model.add(Dropout(0.2))\n",
    "\n",
    "# we add a Convolution1D, which will learn filters\n",
    "# word group filters of size filter_length:\n",
    "model.add(Conv1D(filters,\n",
    "                 kernel_size,\n",
    "                 padding='valid',\n",
    "                 activation='relu',\n",
    "                 strides=1))\n",
    "# we use max pooling:\n",
    "model.add(GlobalMaxPooling1D())\n",
    "\n",
    "# We add a vanilla hidden layer:\n",
    "model.add(Dense(hidden_dims))\n",
    "model.add(Dropout(0.2))\n",
    "model.add(Activation('relu'))\n",
    "\n",
    "# We project onto a single unit output layer, and squash it with a sigmoid:\n",
    "model.add(Dense(1))\n",
    "model.add(Activation('sigmoid'))\n",
    "\n",
    "model.compile(loss='binary_crossentropy',\n",
    "              optimizer='adam',\n",
    "              metrics=['accuracy'])\n",
    "model.summary()\n"
   ]
  },
  {
   "cell_type": "markdown",
   "id": "06d1f20d",
   "metadata": {
    "papermill": {
     "duration": 0.012554,
     "end_time": "2022-12-04T08:54:28.183311",
     "exception": false,
     "start_time": "2022-12-04T08:54:28.170757",
     "status": "completed"
    },
    "tags": []
   },
   "source": [
    "## <span style=\"color:green\">**Fit the model**</span>\n"
   ]
  },
  {
   "cell_type": "code",
   "execution_count": 22,
   "id": "dbc0297c",
   "metadata": {
    "execution": {
     "iopub.execute_input": "2022-12-04T08:54:28.210747Z",
     "iopub.status.busy": "2022-12-04T08:54:28.210189Z",
     "iopub.status.idle": "2022-12-04T09:01:58.562655Z",
     "shell.execute_reply": "2022-12-04T09:01:58.561186Z"
    },
    "papermill": {
     "duration": 450.368513,
     "end_time": "2022-12-04T09:01:58.564551",
     "exception": false,
     "start_time": "2022-12-04T08:54:28.196038",
     "status": "completed"
    },
    "tags": []
   },
   "outputs": [
    {
     "name": "stderr",
     "output_type": "stream",
     "text": [
      "2022-12-04 08:54:28.292389: I tensorflow/compiler/mlir/mlir_graph_optimization_pass.cc:185] None of the MLIR Optimization Passes are enabled (registered 2)\n"
     ]
    },
    {
     "name": "stdout",
     "output_type": "stream",
     "text": [
      "Epoch 1/10\n",
      "782/782 [==============================] - 46s 57ms/step - loss: 0.6846 - accuracy: 0.2872 - val_loss: 0.6628 - val_accuracy: 0.5896\n",
      "Epoch 2/10\n",
      "782/782 [==============================] - 45s 57ms/step - loss: 0.6609 - accuracy: 0.3165 - val_loss: 0.6007 - val_accuracy: 0.6976\n",
      "Epoch 3/10\n",
      "782/782 [==============================] - 45s 58ms/step - loss: 0.6446 - accuracy: 0.3254 - val_loss: 0.5413 - val_accuracy: 0.7331\n",
      "Epoch 4/10\n",
      "782/782 [==============================] - 45s 57ms/step - loss: 0.6284 - accuracy: 0.3290 - val_loss: 0.5098 - val_accuracy: 0.7510\n",
      "Epoch 5/10\n",
      "782/782 [==============================] - 45s 58ms/step - loss: 0.6154 - accuracy: 0.3288 - val_loss: 0.5248 - val_accuracy: 0.7312\n",
      "Epoch 6/10\n",
      "782/782 [==============================] - 45s 57ms/step - loss: 0.6036 - accuracy: 0.3366 - val_loss: 0.4712 - val_accuracy: 0.7768\n",
      "Epoch 7/10\n",
      "782/782 [==============================] - 45s 58ms/step - loss: 0.5992 - accuracy: 0.3323 - val_loss: 0.4479 - val_accuracy: 0.7929\n",
      "Epoch 8/10\n",
      "782/782 [==============================] - 45s 58ms/step - loss: 0.5911 - accuracy: 0.3421 - val_loss: 0.4340 - val_accuracy: 0.7972\n",
      "Epoch 9/10\n",
      "782/782 [==============================] - 45s 57ms/step - loss: 0.5907 - accuracy: 0.3391 - val_loss: 0.4260 - val_accuracy: 0.8056\n",
      "Epoch 10/10\n",
      "782/782 [==============================] - 45s 58ms/step - loss: 0.5778 - accuracy: 0.3419 - val_loss: 0.4341 - val_accuracy: 0.8027\n"
     ]
    }
   ],
   "source": [
    "h1 = model.fit(generator, steps_per_epoch=step,\n",
    "          epochs=epochs,\n",
    "          validation_data=(X_test, y_test))\n"
   ]
  },
  {
   "cell_type": "markdown",
   "id": "c91e010d",
   "metadata": {
    "papermill": {
     "duration": 0.317698,
     "end_time": "2022-12-04T09:01:59.151176",
     "exception": false,
     "start_time": "2022-12-04T09:01:58.833478",
     "status": "completed"
    },
    "tags": []
   },
   "source": [
    "## <span style=\"color:green\">**Evaluate the model**</span>\n"
   ]
  },
  {
   "cell_type": "code",
   "execution_count": 23,
   "id": "d8565d6f",
   "metadata": {
    "execution": {
     "iopub.execute_input": "2022-12-04T09:01:59.694997Z",
     "iopub.status.busy": "2022-12-04T09:01:59.694235Z",
     "iopub.status.idle": "2022-12-04T09:01:59.871792Z",
     "shell.execute_reply": "2022-12-04T09:01:59.870987Z"
    },
    "papermill": {
     "duration": 0.460017,
     "end_time": "2022-12-04T09:01:59.873858",
     "exception": false,
     "start_time": "2022-12-04T09:01:59.413841",
     "status": "completed"
    },
    "tags": []
   },
   "outputs": [
    {
     "data": {
      "text/plain": [
       "<AxesSubplot:title={'center':'With mixup'}, xlabel='Number of Epochs', ylabel='Loss'>"
      ]
     },
     "execution_count": 23,
     "metadata": {},
     "output_type": "execute_result"
    },
    {
     "data": {
      "image/png": "[encoded data removed]",
      "text/plain": [
       "<Figure size 432x288 with 1 Axes>"
      ]
     },
     "metadata": {
      "needs_background": "light"
     },
     "output_type": "display_data"
    }
   ],
   "source": [
    "pd.DataFrame(h1.history)[['loss','val_loss']].plot(title=\"With mixup\", xlabel='Number of Epochs',ylabel='Loss')\n"
   ]
  },
  {
   "cell_type": "code",
   "execution_count": 24,
   "id": "5680c2e0",
   "metadata": {
    "execution": {
     "iopub.execute_input": "2022-12-04T09:02:00.407317Z",
     "iopub.status.busy": "2022-12-04T09:02:00.406725Z",
     "iopub.status.idle": "2022-12-04T09:02:00.460044Z",
     "shell.execute_reply": "2022-12-04T09:02:00.458934Z"
    },
    "papermill": {
     "duration": 0.322846,
     "end_time": "2022-12-04T09:02:00.462621",
     "exception": false,
     "start_time": "2022-12-04T09:02:00.139775",
     "status": "completed"
    },
    "tags": []
   },
   "outputs": [
    {
     "name": "stdout",
     "output_type": "stream",
     "text": [
      "Build model...\n",
      "Model: \"sequential_2\"\n",
      "_________________________________________________________________\n",
      "Layer (type)                 Output Shape              Param #   \n",
      "=================================================================\n",
      "embedding_1 (Embedding)      (None, 400, 50)           250000    \n",
      "_________________________________________________________________\n",
      "dropout_5 (Dropout)          (None, 400, 50)           0         \n",
      "_________________________________________________________________\n",
      "conv1d_1 (Conv1D)            (None, 398, 250)          37750     \n",
      "_________________________________________________________________\n",
      "global_max_pooling1d_1 (Glob (None, 250)               0         \n",
      "_________________________________________________________________\n",
      "dense_4 (Dense)              (None, 250)               62750     \n",
      "_________________________________________________________________\n",
      "dropout_6 (Dropout)          (None, 250)               0         \n",
      "_________________________________________________________________\n",
      "activation_2 (Activation)    (None, 250)               0         \n",
      "_________________________________________________________________\n",
      "dense_5 (Dense)              (None, 1)                 251       \n",
      "_________________________________________________________________\n",
      "activation_3 (Activation)    (None, 1)                 0         \n",
      "=================================================================\n",
      "Total params: 350,751\n",
      "Trainable params: 350,751\n",
      "Non-trainable params: 0\n",
      "_________________________________________________________________\n"
     ]
    }
   ],
   "source": [
    "print('Build model...')\n",
    "model2 = Sequential()\n",
    "\n",
    "# we start off with an efficient embedding layer which maps\n",
    "# our vocab indices into embedding_dims dimensions\n",
    "model2.add(Embedding(max_features,\n",
    "                    embedding_dims,\n",
    "                    input_length=maxlen))\n",
    "model2.add(Dropout(0.2))\n",
    "\n",
    "# we add a Convolution1D, which will learn filters\n",
    "# word group filters of size filter_length:\n",
    "model2.add(Conv1D(filters,\n",
    "                 kernel_size,\n",
    "                 padding='valid',\n",
    "                 activation='relu',\n",
    "                 strides=1))\n",
    "# we use max pooling:\n",
    "model2.add(GlobalMaxPooling1D())\n",
    "\n",
    "# We add a vanilla hidden layer:\n",
    "model2.add(Dense(hidden_dims))\n",
    "model2.add(Dropout(0.2))\n",
    "model2.add(Activation('relu'))\n",
    "\n",
    "# We project onto a single unit output layer, and squash it with a sigmoid:\n",
    "model2.add(Dense(1))\n",
    "model2.add(Activation('sigmoid'))\n",
    "\n",
    "model2.compile(loss='binary_crossentropy',\n",
    "              optimizer='adam',\n",
    "              metrics=['accuracy'])\n",
    "model2.summary()\n",
    "\n"
   ]
  },
  {
   "cell_type": "code",
   "execution_count": 25,
   "id": "548b609e",
   "metadata": {
    "execution": {
     "iopub.execute_input": "2022-12-04T09:02:00.992415Z",
     "iopub.status.busy": "2022-12-04T09:02:00.992099Z",
     "iopub.status.idle": "2022-12-04T09:09:32.200494Z",
     "shell.execute_reply": "2022-12-04T09:09:32.199329Z"
    },
    "papermill": {
     "duration": 451.476622,
     "end_time": "2022-12-04T09:09:32.202888",
     "exception": false,
     "start_time": "2022-12-04T09:02:00.726266",
     "status": "completed"
    },
    "tags": []
   },
   "outputs": [
    {
     "name": "stdout",
     "output_type": "stream",
     "text": [
      "Epoch 1/10\n",
      "782/782 [==============================] - 46s 58ms/step - loss: 0.4114 - accuracy: 0.7957 - val_loss: 0.2801 - val_accuracy: 0.8826\n",
      "Epoch 2/10\n",
      "782/782 [==============================] - 45s 58ms/step - loss: 0.2352 - accuracy: 0.9056 - val_loss: 0.2572 - val_accuracy: 0.8942\n",
      "Epoch 3/10\n",
      "782/782 [==============================] - 45s 58ms/step - loss: 0.1670 - accuracy: 0.9372 - val_loss: 0.2752 - val_accuracy: 0.8913\n",
      "Epoch 4/10\n",
      "782/782 [==============================] - 45s 58ms/step - loss: 0.1164 - accuracy: 0.9575 - val_loss: 0.4108 - val_accuracy: 0.8584\n",
      "Epoch 5/10\n",
      "782/782 [==============================] - 45s 57ms/step - loss: 0.0808 - accuracy: 0.9710 - val_loss: 0.3377 - val_accuracy: 0.8877\n",
      "Epoch 6/10\n",
      "782/782 [==============================] - 45s 58ms/step - loss: 0.0584 - accuracy: 0.9788 - val_loss: 0.3896 - val_accuracy: 0.8856\n",
      "Epoch 7/10\n",
      "782/782 [==============================] - 45s 57ms/step - loss: 0.0423 - accuracy: 0.9849 - val_loss: 0.4250 - val_accuracy: 0.8855\n",
      "Epoch 8/10\n",
      "782/782 [==============================] - 45s 58ms/step - loss: 0.0421 - accuracy: 0.9849 - val_loss: 0.4301 - val_accuracy: 0.8860\n",
      "Epoch 9/10\n",
      "782/782 [==============================] - 45s 57ms/step - loss: 0.0334 - accuracy: 0.9880 - val_loss: 0.5430 - val_accuracy: 0.8735\n",
      "Epoch 10/10\n",
      "782/782 [==============================] - 45s 58ms/step - loss: 0.0306 - accuracy: 0.9885 - val_loss: 0.5048 - val_accuracy: 0.8830\n"
     ]
    }
   ],
   "source": [
    "h2 = model2.fit(X_train, y_train,\n",
    "          batch_size=batch_size,\n",
    "          epochs=epochs,\n",
    "          validation_data=(X_test, y_test))\n"
   ]
  },
  {
   "cell_type": "code",
   "execution_count": 26,
   "id": "eaaa6cf6",
   "metadata": {
    "execution": {
     "iopub.execute_input": "2022-12-04T09:09:33.251631Z",
     "iopub.status.busy": "2022-12-04T09:09:33.250553Z",
     "iopub.status.idle": "2022-12-04T09:09:33.412573Z",
     "shell.execute_reply": "2022-12-04T09:09:33.411749Z"
    },
    "papermill": {
     "duration": 0.687051,
     "end_time": "2022-12-04T09:09:33.414283",
     "exception": false,
     "start_time": "2022-12-04T09:09:32.727232",
     "status": "completed"
    },
    "tags": []
   },
   "outputs": [
    {
     "data": {
      "text/plain": [
       "<AxesSubplot:title={'center':'Without mixup'}, xlabel='Number of Epochs', ylabel='Loss'>"
      ]
     },
     "execution_count": 26,
     "metadata": {},
     "output_type": "execute_result"
    },
    {
     "data": {
      "image/png": "[encoded data removed]",
      "text/plain": [
       "<Figure size 432x288 with 1 Axes>"
      ]
     },
     "metadata": {
      "needs_background": "light"
     },
     "output_type": "display_data"
    }
   ],
   "source": [
    "pd.DataFrame(h2.history)[['loss','val_loss']].plot(title=\"Without mixup\", xlabel='Number of Epochs',ylabel='Loss')"
   ]
  },
  {
   "cell_type": "code",
   "execution_count": 27,
   "id": "cddde7ef",
   "metadata": {
    "execution": {
     "iopub.execute_input": "2022-12-04T09:09:34.507579Z",
     "iopub.status.busy": "2022-12-04T09:09:34.507083Z",
     "iopub.status.idle": "2022-12-04T09:09:41.482260Z",
     "shell.execute_reply": "2022-12-04T09:09:41.481492Z"
    },
    "papermill": {
     "duration": 7.496296,
     "end_time": "2022-12-04T09:09:41.486095",
     "exception": false,
     "start_time": "2022-12-04T09:09:33.989799",
     "status": "completed"
    },
    "tags": []
   },
   "outputs": [
    {
     "name": "stdout",
     "output_type": "stream",
     "text": [
      "accuracy (on X_test): 0.8830\n"
     ]
    },
    {
     "data": {
      "image/png": "[encoded data removed]",
      "text/plain": [
       "<Figure size 432x288 with 2 Axes>"
      ]
     },
     "metadata": {
      "needs_background": "light"
     },
     "output_type": "display_data"
    }
   ],
   "source": [
    "# confusion matrix\n",
    "import sklearn\n",
    "from sklearn.metrics import confusion_matrix, ConfusionMatrixDisplay, accuracy_score\n",
    "import seaborn as sns\n",
    "# Predict the values from the validation dataset\n",
    "y_pred = model2.predict(X_test)\n",
    "# Convert predictions classes to one hot vectors \n",
    "#y_pred_classes = np.argmax(y_pred,axis = 1) \n",
    "# Convert validation observations to one hot vectors\n",
    "#y_true = np.argmax(y_test,axis =0) \n",
    "# compute the confusion matrix\n",
    "#confusion_mtx = confusion_matrix(y_test, y_pred) \n",
    "#confusion_mtx = sklearn.metrics.confusion_matrix(y_test, np.rint(y_pred))\n",
    "disp = ConfusionMatrixDisplay(confusion_matrix(y_test, np.rint(y_pred)))\n",
    "# plot the confusion matrix\n",
    "#f,ax = plt.subplots(figsize=(8, 8))\n",
    "#sns.heatmap(confusion_mtx, annot=True, linewidths=0.01,cmap=\"Greens\",linecolor=\"gray\", fmt= '.1f',ax=ax)\n",
    "#plt.xlabel(\"Predicted Label\")\n",
    "#plt.ylabel(\"True Label\")\n",
    "#plt.title(\"Confusion Matrix\")\n",
    "#plt.show()\n",
    "disp.plot()\n",
    "print(f\"accuracy (on X_test): {accuracy_score(y_test, np.rint(y_pred)):.4f}\")\n"
   ]
  }
 ],
 "metadata": {
  "kernelspec": {
   "display_name": "Python 3",
   "language": "python",
   "name": "python3"
  },
  "language_info": {
   "codemirror_mode": {
    "name": "ipython",
    "version": 3
   },
   "file_extension": ".py",
   "mimetype": "text/x-python",
   "name": "python",
   "nbconvert_exporter": "python",
   "pygments_lexer": "ipython3",
   "version": "3.7.12"
  },
  "papermill": {
   "default_parameters": {},
   "duration": 961.758462,
   "end_time": "2022-12-04T09:09:45.014387",
   "environment_variables": {},
   "exception": null,
   "input_path": "__notebook__.ipynb",
   "output_path": "__notebook__.ipynb",
   "parameters": {},
   "start_time": "2022-12-04T08:53:43.255925",
   "version": "2.3.4"
  }
 },
 "nbformat": 4,
 "nbformat_minor": 5
}
