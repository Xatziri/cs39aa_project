{
 "cells": [
  {
   "cell_type": "markdown",
   "id": "4848f791",
   "metadata": {
    "papermill": {
     "duration": 0.005114,
     "end_time": "2022-11-02T07:37:30.442704",
     "exception": false,
     "start_time": "2022-11-02T07:37:30.437590",
     "status": "completed"
    },
    "tags": []
   },
   "source": [
    "# Project Part 1\n",
    "\n",
    "[![Kaggle](https://kaggle.com/static/images/open-in-kaggle.svg)](https://www.kaggle.com/code/itzelbailon/project-part1-languagedetection/)\n",
    "\n",
    "## a) Introductory proposal\n",
    "\n",
    "   I will use a Natural Language Processing model for language detection/prediction using a Kaggle data base (https://www.kaggle.com/datasets/basilb2s/language-detection). This database contains 2 columns, one for text details(sample text) with 10267 unique values, and one for Language with 17 different languages:\n",
    "   1. English\n",
    "   2. Malayalam\n",
    "   3. Hindi\n",
    "   4. Tamil\n",
    "   5. Kannada\n",
    "   6. French\n",
    "   7. Spanish\n",
    "   8. Portuguese\n",
    "   9. Italian\n",
    "   10. Russian\n",
    "   11. Sweedish\n",
    "   12. Dutch\n",
    "   13. Arabic\n",
    "   14. Turkish\n",
    "   15. German\n",
    "   16. Danish\n",
    "   17. Greek\n",
    "   \n",
    "   \n",
    "   Predicting a language is a multiclass classification problem, as the model will divide the observations into 17 categories. Support Vector Machines model will be used to predict the language.\n",
    "\n"
   ]
  },
  {
   "cell_type": "markdown",
   "id": "83cb8c28",
   "metadata": {
    "papermill": {
     "duration": 0.003744,
     "end_time": "2022-11-02T07:37:30.450654",
     "exception": false,
     "start_time": "2022-11-02T07:37:30.446910",
     "status": "completed"
    },
    "tags": []
   },
   "source": [
    "## b) Exploratory Data Analysis"
   ]
  },
  {
   "cell_type": "code",
   "execution_count": 1,
   "id": "0587460d",
   "metadata": {
    "execution": {
     "iopub.execute_input": "2022-11-02T07:37:30.461204Z",
     "iopub.status.busy": "2022-11-02T07:37:30.460353Z",
     "iopub.status.idle": "2022-11-02T07:37:31.584437Z",
     "shell.execute_reply": "2022-11-02T07:37:31.583258Z"
    },
    "papermill": {
     "duration": 1.133655,
     "end_time": "2022-11-02T07:37:31.588319",
     "exception": false,
     "start_time": "2022-11-02T07:37:30.454664",
     "status": "completed"
    },
    "tags": []
   },
   "outputs": [
    {
     "data": {
      "text/html": [
       "<div>\n",
       "<style scoped>\n",
       "    .dataframe tbody tr th:only-of-type {\n",
       "        vertical-align: middle;\n",
       "    }\n",
       "\n",
       "    .dataframe tbody tr th {\n",
       "        vertical-align: top;\n",
       "    }\n",
       "\n",
       "    .dataframe thead th {\n",
       "        text-align: right;\n",
       "    }\n",
       "</style>\n",
       "<table border=\"1\" class=\"dataframe\">\n",
       "  <thead>\n",
       "    <tr style=\"text-align: right;\">\n",
       "      <th></th>\n",
       "      <th>Text</th>\n",
       "      <th>Language</th>\n",
       "    </tr>\n",
       "  </thead>\n",
       "  <tbody>\n",
       "    <tr>\n",
       "      <th>0</th>\n",
       "      <td>Nature, in the broadest sense, is the natural...</td>\n",
       "      <td>English</td>\n",
       "    </tr>\n",
       "    <tr>\n",
       "      <th>1</th>\n",
       "      <td>\"Nature\" can refer to the phenomena of the phy...</td>\n",
       "      <td>English</td>\n",
       "    </tr>\n",
       "    <tr>\n",
       "      <th>2</th>\n",
       "      <td>The study of nature is a large, if not the onl...</td>\n",
       "      <td>English</td>\n",
       "    </tr>\n",
       "    <tr>\n",
       "      <th>3</th>\n",
       "      <td>Although humans are part of nature, human acti...</td>\n",
       "      <td>English</td>\n",
       "    </tr>\n",
       "    <tr>\n",
       "      <th>4</th>\n",
       "      <td>[1] The word nature is borrowed from the Old F...</td>\n",
       "      <td>English</td>\n",
       "    </tr>\n",
       "    <tr>\n",
       "      <th>5</th>\n",
       "      <td>[2] In ancient philosophy, natura is mostly us...</td>\n",
       "      <td>English</td>\n",
       "    </tr>\n",
       "    <tr>\n",
       "      <th>6</th>\n",
       "      <td>[3][4] \\nThe concept of nature as a whole, the...</td>\n",
       "      <td>English</td>\n",
       "    </tr>\n",
       "    <tr>\n",
       "      <th>7</th>\n",
       "      <td>During the advent of modern scientific method ...</td>\n",
       "      <td>English</td>\n",
       "    </tr>\n",
       "    <tr>\n",
       "      <th>8</th>\n",
       "      <td>[5][6] With the Industrial revolution, nature ...</td>\n",
       "      <td>English</td>\n",
       "    </tr>\n",
       "    <tr>\n",
       "      <th>9</th>\n",
       "      <td>However, a vitalist vision of nature, closer t...</td>\n",
       "      <td>English</td>\n",
       "    </tr>\n",
       "  </tbody>\n",
       "</table>\n",
       "</div>"
      ],
      "text/plain": [
       "                                                Text Language\n",
       "0   Nature, in the broadest sense, is the natural...  English\n",
       "1  \"Nature\" can refer to the phenomena of the phy...  English\n",
       "2  The study of nature is a large, if not the onl...  English\n",
       "3  Although humans are part of nature, human acti...  English\n",
       "4  [1] The word nature is borrowed from the Old F...  English\n",
       "5  [2] In ancient philosophy, natura is mostly us...  English\n",
       "6  [3][4] \\nThe concept of nature as a whole, the...  English\n",
       "7  During the advent of modern scientific method ...  English\n",
       "8  [5][6] With the Industrial revolution, nature ...  English\n",
       "9  However, a vitalist vision of nature, closer t...  English"
      ]
     },
     "execution_count": 1,
     "metadata": {},
     "output_type": "execute_result"
    }
   ],
   "source": [
    "# import all of the python modules/packages you'll need here\n",
    "import pandas as pd\n",
    "import numpy as np\n",
    "import re\n",
    "from scipy.stats import norm\n",
    "from matplotlib import pyplot\n",
    "# import the dataset\n",
    "df = pd.read_csv(\"../input/language-detection/Language Detection.csv\")\n",
    "df.head(10)"
   ]
  },
  {
   "cell_type": "code",
   "execution_count": 2,
   "id": "c716b743",
   "metadata": {
    "execution": {
     "iopub.execute_input": "2022-11-02T07:37:31.599449Z",
     "iopub.status.busy": "2022-11-02T07:37:31.598521Z",
     "iopub.status.idle": "2022-11-02T07:37:31.605526Z",
     "shell.execute_reply": "2022-11-02T07:37:31.604378Z"
    },
    "papermill": {
     "duration": 0.015118,
     "end_time": "2022-11-02T07:37:31.607986",
     "exception": false,
     "start_time": "2022-11-02T07:37:31.592868",
     "status": "completed"
    },
    "tags": []
   },
   "outputs": [
    {
     "data": {
      "text/plain": [
       "10337"
      ]
     },
     "execution_count": 2,
     "metadata": {},
     "output_type": "execute_result"
    }
   ],
   "source": [
    "#How many rows of data there is in this dataset\n",
    "len(df)\n"
   ]
  },
  {
   "cell_type": "markdown",
   "id": "4ca09ce5",
   "metadata": {
    "papermill": {
     "duration": 0.004038,
     "end_time": "2022-11-02T07:37:31.616540",
     "exception": false,
     "start_time": "2022-11-02T07:37:31.612502",
     "status": "completed"
    },
    "tags": []
   },
   "source": [
    "Knowing how many rows of data are in this dataset will give us an idea of how many repeated samples of text is in this dataset."
   ]
  },
  {
   "cell_type": "markdown",
   "id": "1f954759",
   "metadata": {
    "papermill": {
     "duration": 0.004079,
     "end_time": "2022-11-02T07:37:31.624960",
     "exception": false,
     "start_time": "2022-11-02T07:37:31.620881",
     "status": "completed"
    },
    "tags": []
   },
   "source": [
    "### Preprocessing\n",
    "\n",
    "It's important to clean the data and take some preventive steps before doing the analysis.\n",
    "\n",
    "First, let's convert the 'Text' column to string format in case there is some data not in string format."
   ]
  },
  {
   "cell_type": "code",
   "execution_count": 3,
   "id": "72fc0d52",
   "metadata": {
    "execution": {
     "iopub.execute_input": "2022-11-02T07:37:31.635798Z",
     "iopub.status.busy": "2022-11-02T07:37:31.635007Z",
     "iopub.status.idle": "2022-11-02T07:37:31.645570Z",
     "shell.execute_reply": "2022-11-02T07:37:31.644382Z"
    },
    "papermill": {
     "duration": 0.018654,
     "end_time": "2022-11-02T07:37:31.648016",
     "exception": false,
     "start_time": "2022-11-02T07:37:31.629362",
     "status": "completed"
    },
    "tags": []
   },
   "outputs": [],
   "source": [
    "df['Text']= df['Text'].astype(str)"
   ]
  },
  {
   "cell_type": "markdown",
   "id": "4b7ed64c",
   "metadata": {
    "papermill": {
     "duration": 0.004014,
     "end_time": "2022-11-02T07:37:31.656352",
     "exception": false,
     "start_time": "2022-11-02T07:37:31.652338",
     "status": "completed"
    },
    "tags": []
   },
   "source": [
    "Then, let's delete any row that might have missing text."
   ]
  },
  {
   "cell_type": "code",
   "execution_count": 4,
   "id": "fbdcf105",
   "metadata": {
    "execution": {
     "iopub.execute_input": "2022-11-02T07:37:31.667252Z",
     "iopub.status.busy": "2022-11-02T07:37:31.666139Z",
     "iopub.status.idle": "2022-11-02T07:37:31.679058Z",
     "shell.execute_reply": "2022-11-02T07:37:31.677536Z"
    },
    "papermill": {
     "duration": 0.021,
     "end_time": "2022-11-02T07:37:31.681603",
     "exception": false,
     "start_time": "2022-11-02T07:37:31.660603",
     "status": "completed"
    },
    "tags": []
   },
   "outputs": [
    {
     "data": {
      "text/plain": [
       "10337"
      ]
     },
     "execution_count": 4,
     "metadata": {},
     "output_type": "execute_result"
    }
   ],
   "source": [
    "df=df[~df['Text'].isnull()]\n",
    "len(df)\n"
   ]
  },
  {
   "cell_type": "markdown",
   "id": "0e526d95",
   "metadata": {
    "papermill": {
     "duration": 0.004114,
     "end_time": "2022-11-02T07:37:31.690355",
     "exception": false,
     "start_time": "2022-11-02T07:37:31.686241",
     "status": "completed"
    },
    "tags": []
   },
   "source": [
    "Row number remained unchanged, no null values.\n",
    "\n",
    "Now let's remove special characters and punctuation that are not helpful for analysis. Also let's convert all text to lower case to avoid same words to be consider as different because of an uppercase."
   ]
  },
  {
   "cell_type": "code",
   "execution_count": 5,
   "id": "165dee4c",
   "metadata": {
    "execution": {
     "iopub.execute_input": "2022-11-02T07:37:31.700961Z",
     "iopub.status.busy": "2022-11-02T07:37:31.700516Z",
     "iopub.status.idle": "2022-11-02T07:37:31.817409Z",
     "shell.execute_reply": "2022-11-02T07:37:31.815673Z"
    },
    "papermill": {
     "duration": 0.125512,
     "end_time": "2022-11-02T07:37:31.820282",
     "exception": false,
     "start_time": "2022-11-02T07:37:31.694770",
     "status": "completed"
    },
    "tags": []
   },
   "outputs": [
    {
     "name": "stderr",
     "output_type": "stream",
     "text": [
      "/opt/conda/lib/python3.7/site-packages/ipykernel_launcher.py:14: FutureWarning: The default value of regex will change from True to False in a future version.\n",
      "  \n"
     ]
    }
   ],
   "source": [
    "#Delete the Special Characters\n",
    "\n",
    "\n",
    "#def clean(txt):\n",
    "    #txt = txt.str.replace(\"()\", \"\")\n",
    "    #txt = txt.str.replace('(<a).*(>).*()', '')\n",
    "    #txt = txt.str.replace('(&amp)', '')\n",
    "    #txt = txt.str.replace('(&gt)', '')\n",
    "    #txt = txt.str.replace('(&lt)', '')\n",
    "    #txt = txt.str.replace('(\\xa0)', ' ') \n",
    "    \n",
    "    #return txtdf['Text'] = clean(df['Text'])\n",
    "    \n",
    "df['Text1'] = df['Text'].str.replace('\\W', '')\n",
    "    \n"
   ]
  },
  {
   "cell_type": "code",
   "execution_count": 6,
   "id": "8ae274e3",
   "metadata": {
    "execution": {
     "iopub.execute_input": "2022-11-02T07:37:31.832035Z",
     "iopub.status.busy": "2022-11-02T07:37:31.831619Z",
     "iopub.status.idle": "2022-11-02T07:37:31.920654Z",
     "shell.execute_reply": "2022-11-02T07:37:31.919791Z"
    },
    "papermill": {
     "duration": 0.098218,
     "end_time": "2022-11-02T07:37:31.923078",
     "exception": false,
     "start_time": "2022-11-02T07:37:31.824860",
     "status": "completed"
    },
    "tags": []
   },
   "outputs": [
    {
     "data": {
      "text/plain": [
       "0    nature, in the broadest sense, is the natural,...\n",
       "1    \"nature\" can refer to the phenomena of the phy...\n",
       "2    the study of nature is a large, if not the onl...\n",
       "3    although humans are part of nature, human acti...\n",
       "4    [1] the word nature is borrowed from the old f...\n",
       "Name: Text1, dtype: object"
      ]
     },
     "execution_count": 6,
     "metadata": {},
     "output_type": "execute_result"
    }
   ],
   "source": [
    "#Convert to lower case\n",
    "df['Text1'] = df['Text'].apply(lambda x: \" \".join(x.lower() for x in x.split()))\n",
    "df['Text1'].head()"
   ]
  },
  {
   "cell_type": "code",
   "execution_count": 7,
   "id": "3fc7db91",
   "metadata": {
    "execution": {
     "iopub.execute_input": "2022-11-02T07:37:31.935398Z",
     "iopub.status.busy": "2022-11-02T07:37:31.934973Z",
     "iopub.status.idle": "2022-11-02T07:37:32.002826Z",
     "shell.execute_reply": "2022-11-02T07:37:32.000673Z"
    },
    "papermill": {
     "duration": 0.078331,
     "end_time": "2022-11-02T07:37:32.006472",
     "exception": false,
     "start_time": "2022-11-02T07:37:31.928141",
     "status": "completed"
    },
    "tags": []
   },
   "outputs": [
    {
     "name": "stderr",
     "output_type": "stream",
     "text": [
      "/opt/conda/lib/python3.7/site-packages/ipykernel_launcher.py:3: FutureWarning: The default value of regex will change from True to False in a future version.\n",
      "  This is separate from the ipykernel package so we can avoid doing imports until\n"
     ]
    },
    {
     "data": {
      "text/plain": [
       "0    nature in the broadest sense is the natural ph...\n",
       "1    nature can refer to the phenomena of the physi...\n",
       "2    the study of nature is a large if not the only...\n",
       "3    although humans are part of nature human activ...\n",
       "4    1 the word nature is borrowed from the old fre...\n",
       "Name: Text1, dtype: object"
      ]
     },
     "execution_count": 7,
     "metadata": {},
     "output_type": "execute_result"
    }
   ],
   "source": [
    "#Delete the Punctuation\n",
    "\n",
    "df['Text1'] = df['Text1'].str.replace('[^\\w\\s]', '')\n",
    "df['Text1'].head()"
   ]
  },
  {
   "cell_type": "markdown",
   "id": "42123cc2",
   "metadata": {
    "papermill": {
     "duration": 0.004611,
     "end_time": "2022-11-02T07:37:32.016374",
     "exception": false,
     "start_time": "2022-11-02T07:37:32.011763",
     "status": "completed"
    },
    "tags": []
   },
   "source": [
    "### Data Analysis\n",
    "\n",
    "To start the analysis, I will add the length of the sample text and the word count of each text sample."
   ]
  },
  {
   "cell_type": "code",
   "execution_count": 8,
   "id": "0184bd2c",
   "metadata": {
    "execution": {
     "iopub.execute_input": "2022-11-02T07:37:32.028106Z",
     "iopub.status.busy": "2022-11-02T07:37:32.027642Z",
     "iopub.status.idle": "2022-11-02T07:37:32.555381Z",
     "shell.execute_reply": "2022-11-02T07:37:32.554023Z"
    },
    "papermill": {
     "duration": 0.537208,
     "end_time": "2022-11-02T07:37:32.558380",
     "exception": false,
     "start_time": "2022-11-02T07:37:32.021172",
     "status": "completed"
    },
    "tags": []
   },
   "outputs": [
    {
     "data": {
      "text/plain": [
       "array([[<AxesSubplot:title={'center':'text_len'}>,\n",
       "        <AxesSubplot:title={'center':'word_count'}>]], dtype=object)"
      ]
     },
     "execution_count": 8,
     "metadata": {},
     "output_type": "execute_result"
    },
    {
     "data": {
      "image/png": "[encoded data removed]",
      "text/plain": [
       "<Figure size 720x360 with 2 Axes>"
      ]
     },
     "metadata": {
      "needs_background": "light"
     },
     "output_type": "display_data"
    }
   ],
   "source": [
    "df['text_len'] = df['Text1'].astype(str).apply(len)\n",
    "df['word_count'] = df['Text1'].apply(lambda x: len(str(x).split()))\n",
    "\n",
    "#Distributions\n",
    "df[[\"text_len\", \"word_count\"]].hist(bins=20, figsize=(10, 5))"
   ]
  }
 ],
 "metadata": {
  "kernelspec": {
   "display_name": "Python 3",
   "language": "python",
   "name": "python3"
  },
  "language_info": {
   "codemirror_mode": {
    "name": "ipython",
    "version": 3
   },
   "file_extension": ".py",
   "mimetype": "text/x-python",
   "name": "python",
   "nbconvert_exporter": "python",
   "pygments_lexer": "ipython3",
   "version": "3.7.12"
  },
  "papermill": {
   "default_parameters": {},
   "duration": 11.917787,
   "end_time": "2022-11-02T07:37:33.285660",
   "environment_variables": {},
   "exception": null,
   "input_path": "__notebook__.ipynb",
   "output_path": "__notebook__.ipynb",
   "parameters": {},
   "start_time": "2022-11-02T07:37:21.367873",
   "version": "2.3.4"
  }
 },
 "nbformat": 4,
 "nbformat_minor": 5
}
