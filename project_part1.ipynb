{
 "cells": [
  {
   "cell_type": "markdown",
   "id": "a42ab9d6",
   "metadata": {
    "papermill": {
     "duration": 0.006629,
     "end_time": "2022-11-04T12:34:17.301581",
     "exception": false,
     "start_time": "2022-11-04T12:34:17.294952",
     "status": "completed"
    },
    "tags": []
   },
   "source": [
    "# Project Part 1\n",
    "\n",
    "[![Kaggle](https://kaggle.com/static/images/open-in-kaggle.svg)](https://www.kaggle.com/code/itzelbailon/project-part1-languagedetection/)\n",
    "\n",
    "## a) Introductory proposal\n",
    "\n",
    "   I will use a Natural Language Processing model for language detection/prediction using a Kaggle data base (https://www.kaggle.com/datasets/basilb2s/language-detection). This database contains 2 columns, one for text details(sample text) with 10267 unique values, and one for Language with 17 different languages:\n",
    "   1. English\n",
    "   2. Malayalam\n",
    "   3. Hindi\n",
    "   4. Tamil\n",
    "   5. Kannada\n",
    "   6. French\n",
    "   7. Spanish\n",
    "   8. Portuguese\n",
    "   9. Italian\n",
    "   10. Russian\n",
    "   11. Sweedish\n",
    "   12. Dutch\n",
    "   13. Arabic\n",
    "   14. Turkish\n",
    "   15. German\n",
    "   16. Danish\n",
    "   17. Greek\n",
    "   \n",
    "   \n",
    "   Predicting a language is a multiclass classification problem, as the model will divide the observations into 17 categories. Support Vector Machines model will be used to predict the language.\n",
    "\n"
   ]
  },
  {
   "cell_type": "markdown",
   "id": "76a9e380",
   "metadata": {
    "papermill": {
     "duration": 0.005086,
     "end_time": "2022-11-04T12:34:17.312272",
     "exception": false,
     "start_time": "2022-11-04T12:34:17.307186",
     "status": "completed"
    },
    "tags": []
   },
   "source": [
    "## b) Exploratory Data Analysis"
   ]
  },
  {
   "cell_type": "code",
   "execution_count": 1,
   "id": "e9920022",
   "metadata": {
    "execution": {
     "iopub.execute_input": "2022-11-04T12:34:17.326559Z",
     "iopub.status.busy": "2022-11-04T12:34:17.325544Z",
     "iopub.status.idle": "2022-11-04T12:34:19.838676Z",
     "shell.execute_reply": "2022-11-04T12:34:19.836992Z"
    },
    "papermill": {
     "duration": 2.524912,
     "end_time": "2022-11-04T12:34:19.842763",
     "exception": false,
     "start_time": "2022-11-04T12:34:17.317851",
     "status": "completed"
    },
    "tags": []
   },
   "outputs": [
    {
     "data": {
      "text/html": [
       "<div>\n",
       "<style scoped>\n",
       "    .dataframe tbody tr th:only-of-type {\n",
       "        vertical-align: middle;\n",
       "    }\n",
       "\n",
       "    .dataframe tbody tr th {\n",
       "        vertical-align: top;\n",
       "    }\n",
       "\n",
       "    .dataframe thead th {\n",
       "        text-align: right;\n",
       "    }\n",
       "</style>\n",
       "<table border=\"1\" class=\"dataframe\">\n",
       "  <thead>\n",
       "    <tr style=\"text-align: right;\">\n",
       "      <th></th>\n",
       "      <th>Text</th>\n",
       "      <th>Language</th>\n",
       "    </tr>\n",
       "  </thead>\n",
       "  <tbody>\n",
       "    <tr>\n",
       "      <th>0</th>\n",
       "      <td>Nature, in the broadest sense, is the natural...</td>\n",
       "      <td>English</td>\n",
       "    </tr>\n",
       "    <tr>\n",
       "      <th>1</th>\n",
       "      <td>\"Nature\" can refer to the phenomena of the phy...</td>\n",
       "      <td>English</td>\n",
       "    </tr>\n",
       "    <tr>\n",
       "      <th>2</th>\n",
       "      <td>The study of nature is a large, if not the onl...</td>\n",
       "      <td>English</td>\n",
       "    </tr>\n",
       "    <tr>\n",
       "      <th>3</th>\n",
       "      <td>Although humans are part of nature, human acti...</td>\n",
       "      <td>English</td>\n",
       "    </tr>\n",
       "    <tr>\n",
       "      <th>4</th>\n",
       "      <td>[1] The word nature is borrowed from the Old F...</td>\n",
       "      <td>English</td>\n",
       "    </tr>\n",
       "    <tr>\n",
       "      <th>...</th>\n",
       "      <td>...</td>\n",
       "      <td>...</td>\n",
       "    </tr>\n",
       "    <tr>\n",
       "      <th>10332</th>\n",
       "      <td>ನಿಮ್ಮ ತಪ್ಪು ಏನು ಬಂದಿದೆಯೆಂದರೆ ಆ ದಿನದಿಂದ ನಿಮಗೆ ಒ...</td>\n",
       "      <td>Kannada</td>\n",
       "    </tr>\n",
       "    <tr>\n",
       "      <th>10333</th>\n",
       "      <td>ನಾರ್ಸಿಸಾ ತಾನು ಮೊದಲಿಗೆ ಹೆಣಗಾಡುತ್ತಿದ್ದ ಮಾರ್ಗಗಳನ್...</td>\n",
       "      <td>Kannada</td>\n",
       "    </tr>\n",
       "    <tr>\n",
       "      <th>10334</th>\n",
       "      <td>ಹೇಗೆ ' ನಾರ್ಸಿಸಿಸಮ್ ಈಗ ಮರಿಯನ್ ಅವರಿಗೆ ಸಂಭವಿಸಿದ ಎ...</td>\n",
       "      <td>Kannada</td>\n",
       "    </tr>\n",
       "    <tr>\n",
       "      <th>10335</th>\n",
       "      <td>ಅವಳು ಈಗ ಹೆಚ್ಚು ಚಿನ್ನದ ಬ್ರೆಡ್ ಬಯಸುವುದಿಲ್ಲ ಎಂದು ...</td>\n",
       "      <td>Kannada</td>\n",
       "    </tr>\n",
       "    <tr>\n",
       "      <th>10336</th>\n",
       "      <td>ಟೆರ್ರಿ ನೀವು ನಿಜವಾಗಿಯೂ ಆ ದೇವದೂತನಂತೆ ಸ್ವಲ್ಪ ಕಾಣು...</td>\n",
       "      <td>Kannada</td>\n",
       "    </tr>\n",
       "  </tbody>\n",
       "</table>\n",
       "<p>10337 rows × 2 columns</p>\n",
       "</div>"
      ],
      "text/plain": [
       "                                                    Text Language\n",
       "0       Nature, in the broadest sense, is the natural...  English\n",
       "1      \"Nature\" can refer to the phenomena of the phy...  English\n",
       "2      The study of nature is a large, if not the onl...  English\n",
       "3      Although humans are part of nature, human acti...  English\n",
       "4      [1] The word nature is borrowed from the Old F...  English\n",
       "...                                                  ...      ...\n",
       "10332  ನಿಮ್ಮ ತಪ್ಪು ಏನು ಬಂದಿದೆಯೆಂದರೆ ಆ ದಿನದಿಂದ ನಿಮಗೆ ಒ...  Kannada\n",
       "10333  ನಾರ್ಸಿಸಾ ತಾನು ಮೊದಲಿಗೆ ಹೆಣಗಾಡುತ್ತಿದ್ದ ಮಾರ್ಗಗಳನ್...  Kannada\n",
       "10334  ಹೇಗೆ ' ನಾರ್ಸಿಸಿಸಮ್ ಈಗ ಮರಿಯನ್ ಅವರಿಗೆ ಸಂಭವಿಸಿದ ಎ...  Kannada\n",
       "10335  ಅವಳು ಈಗ ಹೆಚ್ಚು ಚಿನ್ನದ ಬ್ರೆಡ್ ಬಯಸುವುದಿಲ್ಲ ಎಂದು ...  Kannada\n",
       "10336  ಟೆರ್ರಿ ನೀವು ನಿಜವಾಗಿಯೂ ಆ ದೇವದೂತನಂತೆ ಸ್ವಲ್ಪ ಕಾಣು...  Kannada\n",
       "\n",
       "[10337 rows x 2 columns]"
      ]
     },
     "execution_count": 1,
     "metadata": {},
     "output_type": "execute_result"
    }
   ],
   "source": [
    "# import all of the python modules/packages you'll need here\n",
    "import pandas as pd\n",
    "import numpy as np\n",
    "import re\n",
    "from scipy.stats import norm\n",
    "from matplotlib import pyplot\n",
    "import matplotlib.pyplot as plt\n",
    "import seaborn as sns\n",
    "import nltk \n",
    "from sklearn.feature_extraction.text import CountVectorizer\n",
    "from collections import  Counter\n",
    "import warnings\n",
    "warnings.simplefilter(\"ignore\")\n",
    "from wordcloud import WordCloud\n",
    "\n",
    "# import the dataset\n",
    "df = pd.read_csv(\"../input/language-detection/Language Detection.csv\")\n",
    "df"
   ]
  },
  {
   "cell_type": "code",
   "execution_count": 2,
   "id": "fca72342",
   "metadata": {
    "execution": {
     "iopub.execute_input": "2022-11-04T12:34:19.857445Z",
     "iopub.status.busy": "2022-11-04T12:34:19.856918Z",
     "iopub.status.idle": "2022-11-04T12:34:19.864630Z",
     "shell.execute_reply": "2022-11-04T12:34:19.863383Z"
    },
    "papermill": {
     "duration": 0.017986,
     "end_time": "2022-11-04T12:34:19.867511",
     "exception": false,
     "start_time": "2022-11-04T12:34:19.849525",
     "status": "completed"
    },
    "tags": []
   },
   "outputs": [
    {
     "data": {
      "text/plain": [
       "10337"
      ]
     },
     "execution_count": 2,
     "metadata": {},
     "output_type": "execute_result"
    }
   ],
   "source": [
    "#How many rows of data there is in this dataset\n",
    "len(df)\n"
   ]
  },
  {
   "cell_type": "markdown",
   "id": "0eb0552f",
   "metadata": {
    "papermill": {
     "duration": 0.005647,
     "end_time": "2022-11-04T12:34:19.879257",
     "exception": false,
     "start_time": "2022-11-04T12:34:19.873610",
     "status": "completed"
    },
    "tags": []
   },
   "source": [
    "Knowing how many rows of data are in this dataset will give us an idea of how many repeated samples of text is in this dataset."
   ]
  },
  {
   "cell_type": "markdown",
   "id": "1ae5018c",
   "metadata": {
    "papermill": {
     "duration": 0.006182,
     "end_time": "2022-11-04T12:34:19.892504",
     "exception": false,
     "start_time": "2022-11-04T12:34:19.886322",
     "status": "completed"
    },
    "tags": []
   },
   "source": [
    "### Preprocessing\n",
    "\n",
    "It's important to clean the data and take some preventive steps before doing the analysis.\n",
    "\n",
    "First, let's convert the 'Text' column to string format in case there is some data not in string format."
   ]
  },
  {
   "cell_type": "code",
   "execution_count": 3,
   "id": "ce6b5e7f",
   "metadata": {
    "execution": {
     "iopub.execute_input": "2022-11-04T12:34:19.906873Z",
     "iopub.status.busy": "2022-11-04T12:34:19.906426Z",
     "iopub.status.idle": "2022-11-04T12:34:19.917615Z",
     "shell.execute_reply": "2022-11-04T12:34:19.916297Z"
    },
    "papermill": {
     "duration": 0.021816,
     "end_time": "2022-11-04T12:34:19.920340",
     "exception": false,
     "start_time": "2022-11-04T12:34:19.898524",
     "status": "completed"
    },
    "tags": []
   },
   "outputs": [],
   "source": [
    "df['Text']= df['Text'].astype(str)"
   ]
  },
  {
   "cell_type": "markdown",
   "id": "9d5faede",
   "metadata": {
    "papermill": {
     "duration": 0.00785,
     "end_time": "2022-11-04T12:34:19.934834",
     "exception": false,
     "start_time": "2022-11-04T12:34:19.926984",
     "status": "completed"
    },
    "tags": []
   },
   "source": [
    "Then, let's delete any row that might have missing text."
   ]
  },
  {
   "cell_type": "code",
   "execution_count": 4,
   "id": "5e93bbec",
   "metadata": {
    "execution": {
     "iopub.execute_input": "2022-11-04T12:34:19.949195Z",
     "iopub.status.busy": "2022-11-04T12:34:19.948347Z",
     "iopub.status.idle": "2022-11-04T12:34:19.961487Z",
     "shell.execute_reply": "2022-11-04T12:34:19.959847Z"
    },
    "papermill": {
     "duration": 0.023676,
     "end_time": "2022-11-04T12:34:19.964461",
     "exception": false,
     "start_time": "2022-11-04T12:34:19.940785",
     "status": "completed"
    },
    "tags": []
   },
   "outputs": [
    {
     "data": {
      "text/plain": [
       "10337"
      ]
     },
     "execution_count": 4,
     "metadata": {},
     "output_type": "execute_result"
    }
   ],
   "source": [
    "df=df[~df['Text'].isnull()]\n",
    "len(df)\n"
   ]
  },
  {
   "cell_type": "markdown",
   "id": "12b86f49",
   "metadata": {
    "papermill": {
     "duration": 0.005671,
     "end_time": "2022-11-04T12:34:19.976805",
     "exception": false,
     "start_time": "2022-11-04T12:34:19.971134",
     "status": "completed"
    },
    "tags": []
   },
   "source": [
    "Row number remained unchanged, no null values."
   ]
  },
  {
   "cell_type": "markdown",
   "id": "b4ff530a",
   "metadata": {
    "papermill": {
     "duration": 0.005728,
     "end_time": "2022-11-04T12:34:19.988986",
     "exception": false,
     "start_time": "2022-11-04T12:34:19.983258",
     "status": "completed"
    },
    "tags": []
   },
   "source": [
    "Now let's remove special characters and punctuation that are not helpful for analysis. Let's convert all text to lower case to avoid same words to be consider as different because of an uppercase. And finally let's remove numbers, since they are not used for translation purposes."
   ]
  },
  {
   "cell_type": "code",
   "execution_count": 5,
   "id": "d19bdc4e",
   "metadata": {
    "execution": {
     "iopub.execute_input": "2022-11-04T12:34:20.003857Z",
     "iopub.status.busy": "2022-11-04T12:34:20.002958Z",
     "iopub.status.idle": "2022-11-04T12:34:20.259300Z",
     "shell.execute_reply": "2022-11-04T12:34:20.257729Z"
    },
    "papermill": {
     "duration": 0.267227,
     "end_time": "2022-11-04T12:34:20.262135",
     "exception": false,
     "start_time": "2022-11-04T12:34:19.994908",
     "status": "completed"
    },
    "tags": []
   },
   "outputs": [
    {
     "data": {
      "text/html": [
       "<div>\n",
       "<style scoped>\n",
       "    .dataframe tbody tr th:only-of-type {\n",
       "        vertical-align: middle;\n",
       "    }\n",
       "\n",
       "    .dataframe tbody tr th {\n",
       "        vertical-align: top;\n",
       "    }\n",
       "\n",
       "    .dataframe thead th {\n",
       "        text-align: right;\n",
       "    }\n",
       "</style>\n",
       "<table border=\"1\" class=\"dataframe\">\n",
       "  <thead>\n",
       "    <tr style=\"text-align: right;\">\n",
       "      <th></th>\n",
       "      <th>Text</th>\n",
       "      <th>Language</th>\n",
       "      <th>preprocessed_text</th>\n",
       "    </tr>\n",
       "  </thead>\n",
       "  <tbody>\n",
       "    <tr>\n",
       "      <th>0</th>\n",
       "      <td>Nature, in the broadest sense, is the natural...</td>\n",
       "      <td>English</td>\n",
       "      <td>nature in the broadest sense is the natural ph...</td>\n",
       "    </tr>\n",
       "    <tr>\n",
       "      <th>1</th>\n",
       "      <td>\"Nature\" can refer to the phenomena of the phy...</td>\n",
       "      <td>English</td>\n",
       "      <td>nature can refer to the phenomena of the physi...</td>\n",
       "    </tr>\n",
       "    <tr>\n",
       "      <th>2</th>\n",
       "      <td>The study of nature is a large, if not the onl...</td>\n",
       "      <td>English</td>\n",
       "      <td>the study of nature is a large if not the only...</td>\n",
       "    </tr>\n",
       "    <tr>\n",
       "      <th>3</th>\n",
       "      <td>Although humans are part of nature, human acti...</td>\n",
       "      <td>English</td>\n",
       "      <td>although humans are part of nature human activ...</td>\n",
       "    </tr>\n",
       "    <tr>\n",
       "      <th>4</th>\n",
       "      <td>[1] The word nature is borrowed from the Old F...</td>\n",
       "      <td>English</td>\n",
       "      <td>the word nature is borrowed from the old fren...</td>\n",
       "    </tr>\n",
       "    <tr>\n",
       "      <th>...</th>\n",
       "      <td>...</td>\n",
       "      <td>...</td>\n",
       "      <td>...</td>\n",
       "    </tr>\n",
       "    <tr>\n",
       "      <th>10332</th>\n",
       "      <td>ನಿಮ್ಮ ತಪ್ಪು ಏನು ಬಂದಿದೆಯೆಂದರೆ ಆ ದಿನದಿಂದ ನಿಮಗೆ ಒ...</td>\n",
       "      <td>Kannada</td>\n",
       "      <td>ನ ಮ ಮ ತಪ ಪ ಏನ ಬ ದ ದ ಯ ದರ ಆ ದ ನದ ದ ನ ಮಗ ಒಳ ಳ ಯದ...</td>\n",
       "    </tr>\n",
       "    <tr>\n",
       "      <th>10333</th>\n",
       "      <td>ನಾರ್ಸಿಸಾ ತಾನು ಮೊದಲಿಗೆ ಹೆಣಗಾಡುತ್ತಿದ್ದ ಮಾರ್ಗಗಳನ್...</td>\n",
       "      <td>Kannada</td>\n",
       "      <td>ನ ರ ಸ ಸ ತ ನ ಮ ದಲ ಗ ಹ ಣಗ ಡ ತ ತ ದ ದ ಮ ರ ಗಗಳನ ನ ಬ...</td>\n",
       "    </tr>\n",
       "    <tr>\n",
       "      <th>10334</th>\n",
       "      <td>ಹೇಗೆ ' ನಾರ್ಸಿಸಿಸಮ್ ಈಗ ಮರಿಯನ್ ಅವರಿಗೆ ಸಂಭವಿಸಿದ ಎ...</td>\n",
       "      <td>Kannada</td>\n",
       "      <td>ಹ ಗ ನ ರ ಸ ಸ ಸಮ ಈಗ ಮರ ಯನ ಅವರ ಗ ಸ ಭವ ಸ ದ ಎಲ ಲವನ ...</td>\n",
       "    </tr>\n",
       "    <tr>\n",
       "      <th>10335</th>\n",
       "      <td>ಅವಳು ಈಗ ಹೆಚ್ಚು ಚಿನ್ನದ ಬ್ರೆಡ್ ಬಯಸುವುದಿಲ್ಲ ಎಂದು ...</td>\n",
       "      <td>Kannada</td>\n",
       "      <td>ಅವಳ ಈಗ ಹ ಚ ಚ ಚ ನ ನದ ಬ ರ ಡ ಬಯಸ ವ ದ ಲ ಲ ಎ ದ ನ ನ ...</td>\n",
       "    </tr>\n",
       "    <tr>\n",
       "      <th>10336</th>\n",
       "      <td>ಟೆರ್ರಿ ನೀವು ನಿಜವಾಗಿಯೂ ಆ ದೇವದೂತನಂತೆ ಸ್ವಲ್ಪ ಕಾಣು...</td>\n",
       "      <td>Kannada</td>\n",
       "      <td>ಟ ರ ರ ನ ವ ನ ಜವ ಗ ಯ ಆ ದ ವದ ತನ ತ ಸ ವಲ ಪ ಕ ಣ ತ ತ ...</td>\n",
       "    </tr>\n",
       "  </tbody>\n",
       "</table>\n",
       "<p>10337 rows × 3 columns</p>\n",
       "</div>"
      ],
      "text/plain": [
       "                                                    Text Language  \\\n",
       "0       Nature, in the broadest sense, is the natural...  English   \n",
       "1      \"Nature\" can refer to the phenomena of the phy...  English   \n",
       "2      The study of nature is a large, if not the onl...  English   \n",
       "3      Although humans are part of nature, human acti...  English   \n",
       "4      [1] The word nature is borrowed from the Old F...  English   \n",
       "...                                                  ...      ...   \n",
       "10332  ನಿಮ್ಮ ತಪ್ಪು ಏನು ಬಂದಿದೆಯೆಂದರೆ ಆ ದಿನದಿಂದ ನಿಮಗೆ ಒ...  Kannada   \n",
       "10333  ನಾರ್ಸಿಸಾ ತಾನು ಮೊದಲಿಗೆ ಹೆಣಗಾಡುತ್ತಿದ್ದ ಮಾರ್ಗಗಳನ್...  Kannada   \n",
       "10334  ಹೇಗೆ ' ನಾರ್ಸಿಸಿಸಮ್ ಈಗ ಮರಿಯನ್ ಅವರಿಗೆ ಸಂಭವಿಸಿದ ಎ...  Kannada   \n",
       "10335  ಅವಳು ಈಗ ಹೆಚ್ಚು ಚಿನ್ನದ ಬ್ರೆಡ್ ಬಯಸುವುದಿಲ್ಲ ಎಂದು ...  Kannada   \n",
       "10336  ಟೆರ್ರಿ ನೀವು ನಿಜವಾಗಿಯೂ ಆ ದೇವದೂತನಂತೆ ಸ್ವಲ್ಪ ಕಾಣು...  Kannada   \n",
       "\n",
       "                                       preprocessed_text  \n",
       "0      nature in the broadest sense is the natural ph...  \n",
       "1      nature can refer to the phenomena of the physi...  \n",
       "2      the study of nature is a large if not the only...  \n",
       "3      although humans are part of nature human activ...  \n",
       "4       the word nature is borrowed from the old fren...  \n",
       "...                                                  ...  \n",
       "10332  ನ ಮ ಮ ತಪ ಪ ಏನ ಬ ದ ದ ಯ ದರ ಆ ದ ನದ ದ ನ ಮಗ ಒಳ ಳ ಯದ...  \n",
       "10333  ನ ರ ಸ ಸ ತ ನ ಮ ದಲ ಗ ಹ ಣಗ ಡ ತ ತ ದ ದ ಮ ರ ಗಗಳನ ನ ಬ...  \n",
       "10334  ಹ ಗ ನ ರ ಸ ಸ ಸಮ ಈಗ ಮರ ಯನ ಅವರ ಗ ಸ ಭವ ಸ ದ ಎಲ ಲವನ ...  \n",
       "10335  ಅವಳ ಈಗ ಹ ಚ ಚ ಚ ನ ನದ ಬ ರ ಡ ಬಯಸ ವ ದ ಲ ಲ ಎ ದ ನ ನ ...  \n",
       "10336  ಟ ರ ರ ನ ವ ನ ಜವ ಗ ಯ ಆ ದ ವದ ತನ ತ ಸ ವಲ ಪ ಕ ಣ ತ ತ ...  \n",
       "\n",
       "[10337 rows x 3 columns]"
      ]
     },
     "execution_count": 5,
     "metadata": {},
     "output_type": "execute_result"
    }
   ],
   "source": [
    "#Deleting the Special Characters and Punctuation\n",
    "\n",
    "#This removes any characters that are not letters or numbers\n",
    "df['preprocessed_text'] = df['Text'].str.replace('\\W',' ') \n",
    "\n",
    "\n",
    "#Convert to lower case\n",
    "\n",
    "df['preprocessed_text'] = df['preprocessed_text'].apply(lambda x: \" \".join(x.lower() for x in x.split()))\n",
    "\n",
    "#Remove numbers\n",
    "df['preprocessed_text'] = df['preprocessed_text'].str.replace('\\d+','')\n",
    "\n",
    "df\n"
   ]
  },
  {
   "cell_type": "markdown",
   "id": "97d262ba",
   "metadata": {
    "papermill": {
     "duration": 0.005851,
     "end_time": "2022-11-04T12:34:20.274708",
     "exception": false,
     "start_time": "2022-11-04T12:34:20.268857",
     "status": "completed"
    },
    "tags": []
   },
   "source": [
    "Remove duplicate text."
   ]
  },
  {
   "cell_type": "code",
   "execution_count": 6,
   "id": "d7ff210c",
   "metadata": {
    "execution": {
     "iopub.execute_input": "2022-11-04T12:34:20.290525Z",
     "iopub.status.busy": "2022-11-04T12:34:20.290080Z",
     "iopub.status.idle": "2022-11-04T12:34:20.325999Z",
     "shell.execute_reply": "2022-11-04T12:34:20.324396Z"
    },
    "papermill": {
     "duration": 0.048012,
     "end_time": "2022-11-04T12:34:20.329208",
     "exception": false,
     "start_time": "2022-11-04T12:34:20.281196",
     "status": "completed"
    },
    "tags": []
   },
   "outputs": [
    {
     "name": "stdout",
     "output_type": "stream",
     "text": [
      "(10267, 3)\n"
     ]
    },
    {
     "data": {
      "text/html": [
       "<div>\n",
       "<style scoped>\n",
       "    .dataframe tbody tr th:only-of-type {\n",
       "        vertical-align: middle;\n",
       "    }\n",
       "\n",
       "    .dataframe tbody tr th {\n",
       "        vertical-align: top;\n",
       "    }\n",
       "\n",
       "    .dataframe thead th {\n",
       "        text-align: right;\n",
       "    }\n",
       "</style>\n",
       "<table border=\"1\" class=\"dataframe\">\n",
       "  <thead>\n",
       "    <tr style=\"text-align: right;\">\n",
       "      <th></th>\n",
       "      <th>Text</th>\n",
       "      <th>Language</th>\n",
       "      <th>preprocessed_text</th>\n",
       "    </tr>\n",
       "  </thead>\n",
       "  <tbody>\n",
       "    <tr>\n",
       "      <th>0</th>\n",
       "      <td>Nature, in the broadest sense, is the natural...</td>\n",
       "      <td>English</td>\n",
       "      <td>nature in the broadest sense is the natural ph...</td>\n",
       "    </tr>\n",
       "    <tr>\n",
       "      <th>1</th>\n",
       "      <td>\"Nature\" can refer to the phenomena of the phy...</td>\n",
       "      <td>English</td>\n",
       "      <td>nature can refer to the phenomena of the physi...</td>\n",
       "    </tr>\n",
       "    <tr>\n",
       "      <th>2</th>\n",
       "      <td>The study of nature is a large, if not the onl...</td>\n",
       "      <td>English</td>\n",
       "      <td>the study of nature is a large if not the only...</td>\n",
       "    </tr>\n",
       "    <tr>\n",
       "      <th>3</th>\n",
       "      <td>Although humans are part of nature, human acti...</td>\n",
       "      <td>English</td>\n",
       "      <td>although humans are part of nature human activ...</td>\n",
       "    </tr>\n",
       "    <tr>\n",
       "      <th>4</th>\n",
       "      <td>[1] The word nature is borrowed from the Old F...</td>\n",
       "      <td>English</td>\n",
       "      <td>the word nature is borrowed from the old fren...</td>\n",
       "    </tr>\n",
       "    <tr>\n",
       "      <th>5</th>\n",
       "      <td>[2] In ancient philosophy, natura is mostly us...</td>\n",
       "      <td>English</td>\n",
       "      <td>in ancient philosophy natura is mostly used a...</td>\n",
       "    </tr>\n",
       "    <tr>\n",
       "      <th>6</th>\n",
       "      <td>[3][4] \\nThe concept of nature as a whole, the...</td>\n",
       "      <td>English</td>\n",
       "      <td>the concept of nature as a whole the physica...</td>\n",
       "    </tr>\n",
       "    <tr>\n",
       "      <th>7</th>\n",
       "      <td>During the advent of modern scientific method ...</td>\n",
       "      <td>English</td>\n",
       "      <td>during the advent of modern scientific method ...</td>\n",
       "    </tr>\n",
       "    <tr>\n",
       "      <th>8</th>\n",
       "      <td>[5][6] With the Industrial revolution, nature ...</td>\n",
       "      <td>English</td>\n",
       "      <td>with the industrial revolution nature increa...</td>\n",
       "    </tr>\n",
       "    <tr>\n",
       "      <th>9</th>\n",
       "      <td>However, a vitalist vision of nature, closer t...</td>\n",
       "      <td>English</td>\n",
       "      <td>however a vitalist vision of nature closer to ...</td>\n",
       "    </tr>\n",
       "  </tbody>\n",
       "</table>\n",
       "</div>"
      ],
      "text/plain": [
       "                                                Text Language  \\\n",
       "0   Nature, in the broadest sense, is the natural...  English   \n",
       "1  \"Nature\" can refer to the phenomena of the phy...  English   \n",
       "2  The study of nature is a large, if not the onl...  English   \n",
       "3  Although humans are part of nature, human acti...  English   \n",
       "4  [1] The word nature is borrowed from the Old F...  English   \n",
       "5  [2] In ancient philosophy, natura is mostly us...  English   \n",
       "6  [3][4] \\nThe concept of nature as a whole, the...  English   \n",
       "7  During the advent of modern scientific method ...  English   \n",
       "8  [5][6] With the Industrial revolution, nature ...  English   \n",
       "9  However, a vitalist vision of nature, closer t...  English   \n",
       "\n",
       "                                   preprocessed_text  \n",
       "0  nature in the broadest sense is the natural ph...  \n",
       "1  nature can refer to the phenomena of the physi...  \n",
       "2  the study of nature is a large if not the only...  \n",
       "3  although humans are part of nature human activ...  \n",
       "4   the word nature is borrowed from the old fren...  \n",
       "5   in ancient philosophy natura is mostly used a...  \n",
       "6    the concept of nature as a whole the physica...  \n",
       "7  during the advent of modern scientific method ...  \n",
       "8    with the industrial revolution nature increa...  \n",
       "9  however a vitalist vision of nature closer to ...  "
      ]
     },
     "execution_count": 6,
     "metadata": {},
     "output_type": "execute_result"
    }
   ],
   "source": [
    "#Delete the Punctuation\n",
    "\n",
    "#df['preprocessed_text'] = df['preprocessed_text'].str.replace('[^\\w\\s]', '')\n",
    "#df['preprocessed_text'].head()\n",
    "\n",
    "\n",
    "df.drop_duplicates(subset=['Text'],keep='first',inplace=True)\n",
    "print(df.shape)\n",
    "df.head(10)"
   ]
  },
  {
   "cell_type": "markdown",
   "id": "9afa07c6",
   "metadata": {
    "papermill": {
     "duration": 0.006346,
     "end_time": "2022-11-04T12:34:20.342645",
     "exception": false,
     "start_time": "2022-11-04T12:34:20.336299",
     "status": "completed"
    },
    "tags": []
   },
   "source": [
    "### Data Analysis\n",
    "\n",
    "To start the analysis, we will count how many text sample there is for each language and plotted to an histogram to visualize the distribution of the text sample across the languages."
   ]
  },
  {
   "cell_type": "code",
   "execution_count": 7,
   "id": "7e5c138f",
   "metadata": {
    "execution": {
     "iopub.execute_input": "2022-11-04T12:34:20.358242Z",
     "iopub.status.busy": "2022-11-04T12:34:20.357793Z",
     "iopub.status.idle": "2022-11-04T12:34:20.369579Z",
     "shell.execute_reply": "2022-11-04T12:34:20.368537Z"
    },
    "papermill": {
     "duration": 0.022189,
     "end_time": "2022-11-04T12:34:20.371810",
     "exception": false,
     "start_time": "2022-11-04T12:34:20.349621",
     "status": "completed"
    },
    "tags": []
   },
   "outputs": [
    {
     "data": {
      "text/plain": [
       "English       1382\n",
       "French        1006\n",
       "Spanish        815\n",
       "Portugeese     736\n",
       "Italian        694\n",
       "Russian        688\n",
       "Sweedish       672\n",
       "Malayalam      591\n",
       "Dutch          541\n",
       "Arabic         532\n",
       "Turkish        471\n",
       "German         465\n",
       "Tamil          464\n",
       "Danish         424\n",
       "Kannada        366\n",
       "Greek          358\n",
       "Hindi           62\n",
       "Name: Language, dtype: int64"
      ]
     },
     "execution_count": 7,
     "metadata": {},
     "output_type": "execute_result"
    }
   ],
   "source": [
    "df['Language'].value_counts()"
   ]
  },
  {
   "cell_type": "code",
   "execution_count": 8,
   "id": "a905c5d2",
   "metadata": {
    "execution": {
     "iopub.execute_input": "2022-11-04T12:34:20.387486Z",
     "iopub.status.busy": "2022-11-04T12:34:20.387048Z",
     "iopub.status.idle": "2022-11-04T12:34:20.845383Z",
     "shell.execute_reply": "2022-11-04T12:34:20.844203Z"
    },
    "papermill": {
     "duration": 0.469586,
     "end_time": "2022-11-04T12:34:20.848157",
     "exception": false,
     "start_time": "2022-11-04T12:34:20.378571",
     "status": "completed"
    },
    "tags": []
   },
   "outputs": [
    {
     "data": {
      "text/plain": [
       "<AxesSubplot:>"
      ]
     },
     "execution_count": 8,
     "metadata": {},
     "output_type": "execute_result"
    },
    {
     "data": {
      "image/png": "[encoded data removed]",
      "text/plain": [
       "<Figure size 1080x1800 with 1 Axes>"
      ]
     },
     "metadata": {
      "needs_background": "light"
     },
     "output_type": "display_data"
    }
   ],
   "source": [
    "plt.figure(figsize=(15,25))\n",
    "\n",
    "\n",
    "df['Language'].value_counts().sort_values().plot(kind = 'barh')"
   ]
  },
  {
   "cell_type": "markdown",
   "id": "9ac48c81",
   "metadata": {
    "papermill": {
     "duration": 0.007469,
     "end_time": "2022-11-04T12:34:20.863222",
     "exception": false,
     "start_time": "2022-11-04T12:34:20.855753",
     "status": "completed"
    },
    "tags": []
   },
   "source": [
    "Then, we will look at the word count and lenght of each text sample."
   ]
  },
  {
   "cell_type": "code",
   "execution_count": 9,
   "id": "bd221dc6",
   "metadata": {
    "execution": {
     "iopub.execute_input": "2022-11-04T12:34:20.879881Z",
     "iopub.status.busy": "2022-11-04T12:34:20.879456Z",
     "iopub.status.idle": "2022-11-04T12:34:20.932831Z",
     "shell.execute_reply": "2022-11-04T12:34:20.931168Z"
    },
    "papermill": {
     "duration": 0.065061,
     "end_time": "2022-11-04T12:34:20.935655",
     "exception": false,
     "start_time": "2022-11-04T12:34:20.870594",
     "status": "completed"
    },
    "tags": []
   },
   "outputs": [
    {
     "data": {
      "text/html": [
       "<div>\n",
       "<style scoped>\n",
       "    .dataframe tbody tr th:only-of-type {\n",
       "        vertical-align: middle;\n",
       "    }\n",
       "\n",
       "    .dataframe tbody tr th {\n",
       "        vertical-align: top;\n",
       "    }\n",
       "\n",
       "    .dataframe thead th {\n",
       "        text-align: right;\n",
       "    }\n",
       "</style>\n",
       "<table border=\"1\" class=\"dataframe\">\n",
       "  <thead>\n",
       "    <tr style=\"text-align: right;\">\n",
       "      <th></th>\n",
       "      <th>Text</th>\n",
       "      <th>Language</th>\n",
       "      <th>preprocessed_text</th>\n",
       "      <th>text_len</th>\n",
       "      <th>word_count</th>\n",
       "    </tr>\n",
       "  </thead>\n",
       "  <tbody>\n",
       "    <tr>\n",
       "      <th>0</th>\n",
       "      <td>Nature, in the broadest sense, is the natural...</td>\n",
       "      <td>English</td>\n",
       "      <td>nature in the broadest sense is the natural ph...</td>\n",
       "      <td>79</td>\n",
       "      <td>13</td>\n",
       "    </tr>\n",
       "    <tr>\n",
       "      <th>1</th>\n",
       "      <td>\"Nature\" can refer to the phenomena of the phy...</td>\n",
       "      <td>English</td>\n",
       "      <td>nature can refer to the phenomena of the physi...</td>\n",
       "      <td>83</td>\n",
       "      <td>16</td>\n",
       "    </tr>\n",
       "    <tr>\n",
       "      <th>2</th>\n",
       "      <td>The study of nature is a large, if not the onl...</td>\n",
       "      <td>English</td>\n",
       "      <td>the study of nature is a large if not the only...</td>\n",
       "      <td>62</td>\n",
       "      <td>14</td>\n",
       "    </tr>\n",
       "    <tr>\n",
       "      <th>3</th>\n",
       "      <td>Although humans are part of nature, human acti...</td>\n",
       "      <td>English</td>\n",
       "      <td>although humans are part of nature human activ...</td>\n",
       "      <td>121</td>\n",
       "      <td>19</td>\n",
       "    </tr>\n",
       "    <tr>\n",
       "      <th>4</th>\n",
       "      <td>[1] The word nature is borrowed from the Old F...</td>\n",
       "      <td>English</td>\n",
       "      <td>the word nature is borrowed from the old fren...</td>\n",
       "      <td>182</td>\n",
       "      <td>30</td>\n",
       "    </tr>\n",
       "    <tr>\n",
       "      <th>...</th>\n",
       "      <td>...</td>\n",
       "      <td>...</td>\n",
       "      <td>...</td>\n",
       "      <td>...</td>\n",
       "      <td>...</td>\n",
       "    </tr>\n",
       "    <tr>\n",
       "      <th>10332</th>\n",
       "      <td>ನಿಮ್ಮ ತಪ್ಪು ಏನು ಬಂದಿದೆಯೆಂದರೆ ಆ ದಿನದಿಂದ ನಿಮಗೆ ಒ...</td>\n",
       "      <td>Kannada</td>\n",
       "      <td>ನ ಮ ಮ ತಪ ಪ ಏನ ಬ ದ ದ ಯ ದರ ಆ ದ ನದ ದ ನ ಮಗ ಒಳ ಳ ಯದ...</td>\n",
       "      <td>55</td>\n",
       "      <td>24</td>\n",
       "    </tr>\n",
       "    <tr>\n",
       "      <th>10333</th>\n",
       "      <td>ನಾರ್ಸಿಸಾ ತಾನು ಮೊದಲಿಗೆ ಹೆಣಗಾಡುತ್ತಿದ್ದ ಮಾರ್ಗಗಳನ್...</td>\n",
       "      <td>Kannada</td>\n",
       "      <td>ನ ರ ಸ ಸ ತ ನ ಮ ದಲ ಗ ಹ ಣಗ ಡ ತ ತ ದ ದ ಮ ರ ಗಗಳನ ನ ಬ...</td>\n",
       "      <td>201</td>\n",
       "      <td>84</td>\n",
       "    </tr>\n",
       "    <tr>\n",
       "      <th>10334</th>\n",
       "      <td>ಹೇಗೆ ' ನಾರ್ಸಿಸಿಸಮ್ ಈಗ ಮರಿಯನ್ ಅವರಿಗೆ ಸಂಭವಿಸಿದ ಎ...</td>\n",
       "      <td>Kannada</td>\n",
       "      <td>ಹ ಗ ನ ರ ಸ ಸ ಸಮ ಈಗ ಮರ ಯನ ಅವರ ಗ ಸ ಭವ ಸ ದ ಎಲ ಲವನ ...</td>\n",
       "      <td>87</td>\n",
       "      <td>35</td>\n",
       "    </tr>\n",
       "    <tr>\n",
       "      <th>10335</th>\n",
       "      <td>ಅವಳು ಈಗ ಹೆಚ್ಚು ಚಿನ್ನದ ಬ್ರೆಡ್ ಬಯಸುವುದಿಲ್ಲ ಎಂದು ...</td>\n",
       "      <td>Kannada</td>\n",
       "      <td>ಅವಳ ಈಗ ಹ ಚ ಚ ಚ ನ ನದ ಬ ರ ಡ ಬಯಸ ವ ದ ಲ ಲ ಎ ದ ನ ನ ...</td>\n",
       "      <td>59</td>\n",
       "      <td>26</td>\n",
       "    </tr>\n",
       "    <tr>\n",
       "      <th>10336</th>\n",
       "      <td>ಟೆರ್ರಿ ನೀವು ನಿಜವಾಗಿಯೂ ಆ ದೇವದೂತನಂತೆ ಸ್ವಲ್ಪ ಕಾಣು...</td>\n",
       "      <td>Kannada</td>\n",
       "      <td>ಟ ರ ರ ನ ವ ನ ಜವ ಗ ಯ ಆ ದ ವದ ತನ ತ ಸ ವಲ ಪ ಕ ಣ ತ ತ ...</td>\n",
       "      <td>117</td>\n",
       "      <td>51</td>\n",
       "    </tr>\n",
       "  </tbody>\n",
       "</table>\n",
       "<p>10267 rows × 5 columns</p>\n",
       "</div>"
      ],
      "text/plain": [
       "                                                    Text Language  \\\n",
       "0       Nature, in the broadest sense, is the natural...  English   \n",
       "1      \"Nature\" can refer to the phenomena of the phy...  English   \n",
       "2      The study of nature is a large, if not the onl...  English   \n",
       "3      Although humans are part of nature, human acti...  English   \n",
       "4      [1] The word nature is borrowed from the Old F...  English   \n",
       "...                                                  ...      ...   \n",
       "10332  ನಿಮ್ಮ ತಪ್ಪು ಏನು ಬಂದಿದೆಯೆಂದರೆ ಆ ದಿನದಿಂದ ನಿಮಗೆ ಒ...  Kannada   \n",
       "10333  ನಾರ್ಸಿಸಾ ತಾನು ಮೊದಲಿಗೆ ಹೆಣಗಾಡುತ್ತಿದ್ದ ಮಾರ್ಗಗಳನ್...  Kannada   \n",
       "10334  ಹೇಗೆ ' ನಾರ್ಸಿಸಿಸಮ್ ಈಗ ಮರಿಯನ್ ಅವರಿಗೆ ಸಂಭವಿಸಿದ ಎ...  Kannada   \n",
       "10335  ಅವಳು ಈಗ ಹೆಚ್ಚು ಚಿನ್ನದ ಬ್ರೆಡ್ ಬಯಸುವುದಿಲ್ಲ ಎಂದು ...  Kannada   \n",
       "10336  ಟೆರ್ರಿ ನೀವು ನಿಜವಾಗಿಯೂ ಆ ದೇವದೂತನಂತೆ ಸ್ವಲ್ಪ ಕಾಣು...  Kannada   \n",
       "\n",
       "                                       preprocessed_text  text_len  word_count  \n",
       "0      nature in the broadest sense is the natural ph...        79          13  \n",
       "1      nature can refer to the phenomena of the physi...        83          16  \n",
       "2      the study of nature is a large if not the only...        62          14  \n",
       "3      although humans are part of nature human activ...       121          19  \n",
       "4       the word nature is borrowed from the old fren...       182          30  \n",
       "...                                                  ...       ...         ...  \n",
       "10332  ನ ಮ ಮ ತಪ ಪ ಏನ ಬ ದ ದ ಯ ದರ ಆ ದ ನದ ದ ನ ಮಗ ಒಳ ಳ ಯದ...        55          24  \n",
       "10333  ನ ರ ಸ ಸ ತ ನ ಮ ದಲ ಗ ಹ ಣಗ ಡ ತ ತ ದ ದ ಮ ರ ಗಗಳನ ನ ಬ...       201          84  \n",
       "10334  ಹ ಗ ನ ರ ಸ ಸ ಸಮ ಈಗ ಮರ ಯನ ಅವರ ಗ ಸ ಭವ ಸ ದ ಎಲ ಲವನ ...        87          35  \n",
       "10335  ಅವಳ ಈಗ ಹ ಚ ಚ ಚ ನ ನದ ಬ ರ ಡ ಬಯಸ ವ ದ ಲ ಲ ಎ ದ ನ ನ ...        59          26  \n",
       "10336  ಟ ರ ರ ನ ವ ನ ಜವ ಗ ಯ ಆ ದ ವದ ತನ ತ ಸ ವಲ ಪ ಕ ಣ ತ ತ ...       117          51  \n",
       "\n",
       "[10267 rows x 5 columns]"
      ]
     },
     "execution_count": 9,
     "metadata": {},
     "output_type": "execute_result"
    }
   ],
   "source": [
    "df['text_len'] = df['preprocessed_text'].astype(str).apply(len)\n",
    "df['word_count'] = df['preprocessed_text'].apply(lambda x: len(str(x).split()))\n",
    "df\n"
   ]
  },
  {
   "cell_type": "markdown",
   "id": "66e9b575",
   "metadata": {
    "papermill": {
     "duration": 0.007241,
     "end_time": "2022-11-04T12:34:20.950651",
     "exception": false,
     "start_time": "2022-11-04T12:34:20.943410",
     "status": "completed"
    },
    "tags": []
   },
   "source": [
    "Visualizing how many words each text sample have. "
   ]
  },
  {
   "cell_type": "code",
   "execution_count": 10,
   "id": "5fc6ee05",
   "metadata": {
    "execution": {
     "iopub.execute_input": "2022-11-04T12:34:20.969157Z",
     "iopub.status.busy": "2022-11-04T12:34:20.968713Z",
     "iopub.status.idle": "2022-11-04T12:34:41.271842Z",
     "shell.execute_reply": "2022-11-04T12:34:41.270493Z"
    },
    "papermill": {
     "duration": 20.317417,
     "end_time": "2022-11-04T12:34:41.275632",
     "exception": false,
     "start_time": "2022-11-04T12:34:20.958215",
     "status": "completed"
    },
    "tags": []
   },
   "outputs": [
    {
     "data": {
      "image/png": "[encoded data removed]",
      "text/plain": [
       "<Figure size 720x360 with 1 Axes>"
      ]
     },
     "metadata": {
      "needs_background": "light"
     },
     "output_type": "display_data"
    }
   ],
   "source": [
    "df['word_counts'] = df.preprocessed_text.apply(lambda x: len(x.split()))\n",
    "plt.figure(figsize=(10,5))\n",
    "plt.bar(np.arange(len(df.word_counts)), df.word_counts.values, width=1)\n",
    "plt.ylim(0,500)\n",
    "plt.xlabel(\"Text Samples\", fontsize=15)\n",
    "plt.ylabel(\"Word Counts\", fontsize=15);\n"
   ]
  },
  {
   "cell_type": "code",
   "execution_count": 11,
   "id": "6166af8f",
   "metadata": {
    "execution": {
     "iopub.execute_input": "2022-11-04T12:34:41.294949Z",
     "iopub.status.busy": "2022-11-04T12:34:41.294512Z",
     "iopub.status.idle": "2022-11-04T12:35:01.847685Z",
     "shell.execute_reply": "2022-11-04T12:35:01.846090Z"
    },
    "papermill": {
     "duration": 20.566043,
     "end_time": "2022-11-04T12:35:01.850780",
     "exception": false,
     "start_time": "2022-11-04T12:34:41.284737",
     "status": "completed"
    },
    "tags": []
   },
   "outputs": [
    {
     "data": {
      "image/png": "[encoded data removed]",
      "text/plain": [
       "<Figure size 720x360 with 1 Axes>"
      ]
     },
     "metadata": {
      "needs_background": "light"
     },
     "output_type": "display_data"
    }
   ],
   "source": [
    "df['lenght'] = df.preprocessed_text.apply(lambda x: len(x))\n",
    "plt.figure(figsize=(10,5))\n",
    "plt.bar(np.arange(len(df.lenght)), df.lenght.values, width=1)\n",
    "plt.ylim(0,1000)\n",
    "plt.xlabel(\"Text Samples\", fontsize=15)\n",
    "plt.ylabel(\"Lenght\", fontsize=15);\n",
    "\n"
   ]
  },
  {
   "cell_type": "code",
   "execution_count": 12,
   "id": "55626c4d",
   "metadata": {
    "execution": {
     "iopub.execute_input": "2022-11-04T12:35:01.869519Z",
     "iopub.status.busy": "2022-11-04T12:35:01.869059Z",
     "iopub.status.idle": "2022-11-04T12:35:01.874864Z",
     "shell.execute_reply": "2022-11-04T12:35:01.873184Z"
    },
    "papermill": {
     "duration": 0.018615,
     "end_time": "2022-11-04T12:35:01.878081",
     "exception": false,
     "start_time": "2022-11-04T12:35:01.859466",
     "status": "completed"
    },
    "tags": []
   },
   "outputs": [],
   "source": [
    "#wordcloud = WordCloud(background_color=\"white\",width=1600, height=800).generate(' '.join(df['Text'].tolist()))\n",
    "#plt.figure( figsize=(20,10), facecolor='k')\n",
    "#plt.imshow(wordcloud)\n"
   ]
  }
 ],
 "metadata": {
  "kernelspec": {
   "display_name": "Python 3",
   "language": "python",
   "name": "python3"
  },
  "language_info": {
   "codemirror_mode": {
    "name": "ipython",
    "version": 3
   },
   "file_extension": ".py",
   "mimetype": "text/x-python",
   "name": "python",
   "nbconvert_exporter": "python",
   "pygments_lexer": "ipython3",
   "version": "3.7.12"
  },
  "papermill": {
   "default_parameters": {},
   "duration": 56.341144,
   "end_time": "2022-11-04T12:35:03.317356",
   "environment_variables": {},
   "exception": null,
   "input_path": "__notebook__.ipynb",
   "output_path": "__notebook__.ipynb",
   "parameters": {},
   "start_time": "2022-11-04T12:34:06.976212",
   "version": "2.3.4"
  }
 },
 "nbformat": 4,
 "nbformat_minor": 5
}
