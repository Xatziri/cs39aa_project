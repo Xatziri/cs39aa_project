{
 "cells": [
  {
   "cell_type": "markdown",
   "id": "094d81d9",
   "metadata": {
    "papermill": {
     "duration": 0.004122,
     "end_time": "2022-11-02T07:11:50.819677",
     "exception": false,
     "start_time": "2022-11-02T07:11:50.815555",
     "status": "completed"
    },
    "tags": []
   },
   "source": [
    "# Project Part 1\n",
    "\n",
    "[![Kaggle](https://kaggle.com/static/images/open-in-kaggle.svg)]\n",
    "(https://www.kaggle.com/code/itzelbailon/project-part1-languagedetection/)\n",
    "\n",
    "## a) Introductory proposal\n",
    "\n",
    "   I will use a Natural Language Processing model for language detection/prediction using a Kaggle data base (https://www.kaggle.com/datasets/basilb2s/language-detection). This database contains 2 columns, one for text details(sample text) with 10267 unique values, and one for Language with 17 different languages:\n",
    "   1. English\n",
    "   2. Malayalam\n",
    "   3. Hindi\n",
    "   4. Tamil\n",
    "   5. Kannada\n",
    "   6. French\n",
    "   7. Spanish\n",
    "   8. Portuguese\n",
    "   9. Italian\n",
    "   10. Russian\n",
    "   11. Sweedish\n",
    "   12. Dutch\n",
    "   13. Arabic\n",
    "   14. Turkish\n",
    "   15. German\n",
    "   16. Danish\n",
    "   17. Greek\n",
    "   \n",
    "   \n",
    "   Predicting a language is a multiclass classification problem, as the model will divide the observations into 17 categories. Support Vector Machines model will be used to predict the language.\n",
    "\n"
   ]
  },
  {
   "cell_type": "markdown",
   "id": "33876f6c",
   "metadata": {
    "papermill": {
     "duration": 0.002925,
     "end_time": "2022-11-02T07:11:50.825907",
     "exception": false,
     "start_time": "2022-11-02T07:11:50.822982",
     "status": "completed"
    },
    "tags": []
   },
   "source": [
    "## b) Exploratory Data Analysis"
   ]
  },
  {
   "cell_type": "code",
   "execution_count": 1,
   "id": "d51e0312",
   "metadata": {
    "execution": {
     "iopub.execute_input": "2022-11-02T07:11:50.834610Z",
     "iopub.status.busy": "2022-11-02T07:11:50.833521Z",
     "iopub.status.idle": "2022-11-02T07:11:51.684122Z",
     "shell.execute_reply": "2022-11-02T07:11:51.682704Z"
    },
    "papermill": {
     "duration": 0.857107,
     "end_time": "2022-11-02T07:11:51.686149",
     "exception": false,
     "start_time": "2022-11-02T07:11:50.829042",
     "status": "completed"
    },
    "tags": []
   },
   "outputs": [
    {
     "data": {
      "text/html": [
       "<div>\n",
       "<style scoped>\n",
       "    .dataframe tbody tr th:only-of-type {\n",
       "        vertical-align: middle;\n",
       "    }\n",
       "\n",
       "    .dataframe tbody tr th {\n",
       "        vertical-align: top;\n",
       "    }\n",
       "\n",
       "    .dataframe thead th {\n",
       "        text-align: right;\n",
       "    }\n",
       "</style>\n",
       "<table border=\"1\" class=\"dataframe\">\n",
       "  <thead>\n",
       "    <tr style=\"text-align: right;\">\n",
       "      <th></th>\n",
       "      <th>Text</th>\n",
       "      <th>Language</th>\n",
       "    </tr>\n",
       "  </thead>\n",
       "  <tbody>\n",
       "    <tr>\n",
       "      <th>0</th>\n",
       "      <td>Nature, in the broadest sense, is the natural...</td>\n",
       "      <td>English</td>\n",
       "    </tr>\n",
       "    <tr>\n",
       "      <th>1</th>\n",
       "      <td>\"Nature\" can refer to the phenomena of the phy...</td>\n",
       "      <td>English</td>\n",
       "    </tr>\n",
       "    <tr>\n",
       "      <th>2</th>\n",
       "      <td>The study of nature is a large, if not the onl...</td>\n",
       "      <td>English</td>\n",
       "    </tr>\n",
       "    <tr>\n",
       "      <th>3</th>\n",
       "      <td>Although humans are part of nature, human acti...</td>\n",
       "      <td>English</td>\n",
       "    </tr>\n",
       "    <tr>\n",
       "      <th>4</th>\n",
       "      <td>[1] The word nature is borrowed from the Old F...</td>\n",
       "      <td>English</td>\n",
       "    </tr>\n",
       "    <tr>\n",
       "      <th>5</th>\n",
       "      <td>[2] In ancient philosophy, natura is mostly us...</td>\n",
       "      <td>English</td>\n",
       "    </tr>\n",
       "    <tr>\n",
       "      <th>6</th>\n",
       "      <td>[3][4] \\nThe concept of nature as a whole, the...</td>\n",
       "      <td>English</td>\n",
       "    </tr>\n",
       "    <tr>\n",
       "      <th>7</th>\n",
       "      <td>During the advent of modern scientific method ...</td>\n",
       "      <td>English</td>\n",
       "    </tr>\n",
       "    <tr>\n",
       "      <th>8</th>\n",
       "      <td>[5][6] With the Industrial revolution, nature ...</td>\n",
       "      <td>English</td>\n",
       "    </tr>\n",
       "    <tr>\n",
       "      <th>9</th>\n",
       "      <td>However, a vitalist vision of nature, closer t...</td>\n",
       "      <td>English</td>\n",
       "    </tr>\n",
       "  </tbody>\n",
       "</table>\n",
       "</div>"
      ],
      "text/plain": [
       "                                                Text Language\n",
       "0   Nature, in the broadest sense, is the natural...  English\n",
       "1  \"Nature\" can refer to the phenomena of the phy...  English\n",
       "2  The study of nature is a large, if not the onl...  English\n",
       "3  Although humans are part of nature, human acti...  English\n",
       "4  [1] The word nature is borrowed from the Old F...  English\n",
       "5  [2] In ancient philosophy, natura is mostly us...  English\n",
       "6  [3][4] \\nThe concept of nature as a whole, the...  English\n",
       "7  During the advent of modern scientific method ...  English\n",
       "8  [5][6] With the Industrial revolution, nature ...  English\n",
       "9  However, a vitalist vision of nature, closer t...  English"
      ]
     },
     "execution_count": 1,
     "metadata": {},
     "output_type": "execute_result"
    }
   ],
   "source": [
    "# import all of the python modules/packages you'll need here\n",
    "import pandas as pd\n",
    "import numpy as np\n",
    "import re\n",
    "from scipy.stats import norm\n",
    "from matplotlib import pyplot\n",
    "# import the dataset\n",
    "df = pd.read_csv(\"../input/language-detection/Language Detection.csv\")\n",
    "df.head(10)"
   ]
  },
  {
   "cell_type": "code",
   "execution_count": 2,
   "id": "ef32224a",
   "metadata": {
    "execution": {
     "iopub.execute_input": "2022-11-02T07:11:51.695182Z",
     "iopub.status.busy": "2022-11-02T07:11:51.694783Z",
     "iopub.status.idle": "2022-11-02T07:11:51.700325Z",
     "shell.execute_reply": "2022-11-02T07:11:51.699462Z"
    },
    "papermill": {
     "duration": 0.012898,
     "end_time": "2022-11-02T07:11:51.702740",
     "exception": false,
     "start_time": "2022-11-02T07:11:51.689842",
     "status": "completed"
    },
    "tags": []
   },
   "outputs": [
    {
     "data": {
      "text/plain": [
       "10337"
      ]
     },
     "execution_count": 2,
     "metadata": {},
     "output_type": "execute_result"
    }
   ],
   "source": [
    "#How many rows of data there is in this dataset\n",
    "len(df)\n"
   ]
  },
  {
   "cell_type": "markdown",
   "id": "4ce3891a",
   "metadata": {
    "papermill": {
     "duration": 0.003527,
     "end_time": "2022-11-02T07:11:51.710373",
     "exception": false,
     "start_time": "2022-11-02T07:11:51.706846",
     "status": "completed"
    },
    "tags": []
   },
   "source": [
    "Knowing how many rows of data are in this dataset will give us an idea of how many repeated samples of text is in this dataset."
   ]
  },
  {
   "cell_type": "markdown",
   "id": "85a152e8",
   "metadata": {
    "papermill": {
     "duration": 0.003584,
     "end_time": "2022-11-02T07:11:51.717713",
     "exception": false,
     "start_time": "2022-11-02T07:11:51.714129",
     "status": "completed"
    },
    "tags": []
   },
   "source": [
    "### Preprocessing\n",
    "\n",
    "It's important to clean the data and take some preventive steps before doing the analysis.\n",
    "\n",
    "First, let's convert the 'Text' column to string format in case there is some data not in string format."
   ]
  },
  {
   "cell_type": "code",
   "execution_count": 3,
   "id": "90f76cd9",
   "metadata": {
    "execution": {
     "iopub.execute_input": "2022-11-02T07:11:51.726888Z",
     "iopub.status.busy": "2022-11-02T07:11:51.726504Z",
     "iopub.status.idle": "2022-11-02T07:11:51.735986Z",
     "shell.execute_reply": "2022-11-02T07:11:51.734757Z"
    },
    "papermill": {
     "duration": 0.016613,
     "end_time": "2022-11-02T07:11:51.738006",
     "exception": false,
     "start_time": "2022-11-02T07:11:51.721393",
     "status": "completed"
    },
    "tags": []
   },
   "outputs": [],
   "source": [
    "df['Text']= df['Text'].astype(str)"
   ]
  },
  {
   "cell_type": "markdown",
   "id": "3cd1c1e3",
   "metadata": {
    "papermill": {
     "duration": 0.003315,
     "end_time": "2022-11-02T07:11:51.745190",
     "exception": false,
     "start_time": "2022-11-02T07:11:51.741875",
     "status": "completed"
    },
    "tags": []
   },
   "source": [
    "Then, let's delete any row that might have missing text."
   ]
  },
  {
   "cell_type": "code",
   "execution_count": 4,
   "id": "2b9ca3a6",
   "metadata": {
    "execution": {
     "iopub.execute_input": "2022-11-02T07:11:51.753908Z",
     "iopub.status.busy": "2022-11-02T07:11:51.753565Z",
     "iopub.status.idle": "2022-11-02T07:11:51.763887Z",
     "shell.execute_reply": "2022-11-02T07:11:51.762816Z"
    },
    "papermill": {
     "duration": 0.01691,
     "end_time": "2022-11-02T07:11:51.765703",
     "exception": false,
     "start_time": "2022-11-02T07:11:51.748793",
     "status": "completed"
    },
    "tags": []
   },
   "outputs": [
    {
     "data": {
      "text/plain": [
       "10337"
      ]
     },
     "execution_count": 4,
     "metadata": {},
     "output_type": "execute_result"
    }
   ],
   "source": [
    "df=df[~df['Text'].isnull()]\n",
    "len(df)\n"
   ]
  },
  {
   "cell_type": "markdown",
   "id": "f1120f66",
   "metadata": {
    "papermill": {
     "duration": 0.003465,
     "end_time": "2022-11-02T07:11:51.773167",
     "exception": false,
     "start_time": "2022-11-02T07:11:51.769702",
     "status": "completed"
    },
    "tags": []
   },
   "source": [
    "Row number remained unchanged, no null values.\n",
    "\n",
    "Now let's remove special characters and punctuation that are not helpful for analysis. Also let's convert all text to lower case to avoid same words to be consider as different because of an uppercase."
   ]
  },
  {
   "cell_type": "code",
   "execution_count": 5,
   "id": "58c06abe",
   "metadata": {
    "execution": {
     "iopub.execute_input": "2022-11-02T07:11:51.782058Z",
     "iopub.status.busy": "2022-11-02T07:11:51.781513Z",
     "iopub.status.idle": "2022-11-02T07:11:51.855252Z",
     "shell.execute_reply": "2022-11-02T07:11:51.854303Z"
    },
    "papermill": {
     "duration": 0.080711,
     "end_time": "2022-11-02T07:11:51.857526",
     "exception": false,
     "start_time": "2022-11-02T07:11:51.776815",
     "status": "completed"
    },
    "tags": []
   },
   "outputs": [
    {
     "name": "stderr",
     "output_type": "stream",
     "text": [
      "/opt/conda/lib/python3.7/site-packages/ipykernel_launcher.py:14: FutureWarning: The default value of regex will change from True to False in a future version.\n",
      "  \n"
     ]
    }
   ],
   "source": [
    "#Delete the Special Characters\n",
    "\n",
    "\n",
    "#def clean(txt):\n",
    "    #txt = txt.str.replace(\"()\", \"\")\n",
    "    #txt = txt.str.replace('(<a).*(>).*()', '')\n",
    "    #txt = txt.str.replace('(&amp)', '')\n",
    "    #txt = txt.str.replace('(&gt)', '')\n",
    "    #txt = txt.str.replace('(&lt)', '')\n",
    "    #txt = txt.str.replace('(\\xa0)', ' ') \n",
    "    \n",
    "    #return txtdf['Text'] = clean(df['Text'])\n",
    "    \n",
    "df['Text1'] = df['Text'].str.replace('\\W', '')\n",
    "    \n"
   ]
  },
  {
   "cell_type": "code",
   "execution_count": 6,
   "id": "eb234f3c",
   "metadata": {
    "execution": {
     "iopub.execute_input": "2022-11-02T07:11:51.866835Z",
     "iopub.status.busy": "2022-11-02T07:11:51.866324Z",
     "iopub.status.idle": "2022-11-02T07:11:51.934045Z",
     "shell.execute_reply": "2022-11-02T07:11:51.932897Z"
    },
    "papermill": {
     "duration": 0.07563,
     "end_time": "2022-11-02T07:11:51.937121",
     "exception": false,
     "start_time": "2022-11-02T07:11:51.861491",
     "status": "completed"
    },
    "tags": []
   },
   "outputs": [
    {
     "data": {
      "text/plain": [
       "0    nature, in the broadest sense, is the natural,...\n",
       "1    \"nature\" can refer to the phenomena of the phy...\n",
       "2    the study of nature is a large, if not the onl...\n",
       "3    although humans are part of nature, human acti...\n",
       "4    [1] the word nature is borrowed from the old f...\n",
       "Name: Text1, dtype: object"
      ]
     },
     "execution_count": 6,
     "metadata": {},
     "output_type": "execute_result"
    }
   ],
   "source": [
    "#Convert to lower case\n",
    "df['Text1'] = df['Text'].apply(lambda x: \" \".join(x.lower() for x in x.split()))\n",
    "df['Text1'].head()"
   ]
  },
  {
   "cell_type": "code",
   "execution_count": 7,
   "id": "9e7b26e0",
   "metadata": {
    "execution": {
     "iopub.execute_input": "2022-11-02T07:11:51.948324Z",
     "iopub.status.busy": "2022-11-02T07:11:51.947896Z",
     "iopub.status.idle": "2022-11-02T07:11:52.008534Z",
     "shell.execute_reply": "2022-11-02T07:11:52.007118Z"
    },
    "papermill": {
     "duration": 0.068857,
     "end_time": "2022-11-02T07:11:52.010688",
     "exception": false,
     "start_time": "2022-11-02T07:11:51.941831",
     "status": "completed"
    },
    "tags": []
   },
   "outputs": [
    {
     "name": "stderr",
     "output_type": "stream",
     "text": [
      "/opt/conda/lib/python3.7/site-packages/ipykernel_launcher.py:3: FutureWarning: The default value of regex will change from True to False in a future version.\n",
      "  This is separate from the ipykernel package so we can avoid doing imports until\n"
     ]
    },
    {
     "data": {
      "text/plain": [
       "0    nature in the broadest sense is the natural ph...\n",
       "1    nature can refer to the phenomena of the physi...\n",
       "2    the study of nature is a large if not the only...\n",
       "3    although humans are part of nature human activ...\n",
       "4    1 the word nature is borrowed from the old fre...\n",
       "Name: Text1, dtype: object"
      ]
     },
     "execution_count": 7,
     "metadata": {},
     "output_type": "execute_result"
    }
   ],
   "source": [
    "#Delete the Punctuation\n",
    "\n",
    "df['Text1'] = df['Text1'].str.replace('[^\\w\\s]', '')\n",
    "df['Text1'].head()"
   ]
  },
  {
   "cell_type": "markdown",
   "id": "69c5807a",
   "metadata": {
    "papermill": {
     "duration": 0.00417,
     "end_time": "2022-11-02T07:11:52.019121",
     "exception": false,
     "start_time": "2022-11-02T07:11:52.014951",
     "status": "completed"
    },
    "tags": []
   },
   "source": [
    "### Data Analysis\n",
    "\n",
    "To start the analysis, I will add the length of the sample text and the word count of each text sample."
   ]
  },
  {
   "cell_type": "code",
   "execution_count": 8,
   "id": "5940d592",
   "metadata": {
    "execution": {
     "iopub.execute_input": "2022-11-02T07:11:52.029006Z",
     "iopub.status.busy": "2022-11-02T07:11:52.028607Z",
     "iopub.status.idle": "2022-11-02T07:11:52.418265Z",
     "shell.execute_reply": "2022-11-02T07:11:52.417123Z"
    },
    "papermill": {
     "duration": 0.397121,
     "end_time": "2022-11-02T07:11:52.420394",
     "exception": false,
     "start_time": "2022-11-02T07:11:52.023273",
     "status": "completed"
    },
    "tags": []
   },
   "outputs": [
    {
     "data": {
      "text/plain": [
       "array([[<AxesSubplot:title={'center':'text_len'}>,\n",
       "        <AxesSubplot:title={'center':'word_count'}>]], dtype=object)"
      ]
     },
     "execution_count": 8,
     "metadata": {},
     "output_type": "execute_result"
    },
    {
     "data": {
      "image/png": "[encoded data removed]",
      "text/plain": [
       "<Figure size 720x360 with 2 Axes>"
      ]
     },
     "metadata": {
      "needs_background": "light"
     },
     "output_type": "display_data"
    }
   ],
   "source": [
    "df['text_len'] = df['Text1'].astype(str).apply(len)\n",
    "df['word_count'] = df['Text1'].apply(lambda x: len(str(x).split()))\n",
    "\n",
    "#Distributions\n",
    "df[[\"text_len\", \"word_count\"]].hist(bins=20, figsize=(10, 5))"
   ]
  }
 ],
 "metadata": {
  "kernelspec": {
   "display_name": "Python 3",
   "language": "python",
   "name": "python3"
  },
  "language_info": {
   "codemirror_mode": {
    "name": "ipython",
    "version": 3
   },
   "file_extension": ".py",
   "mimetype": "text/x-python",
   "name": "python",
   "nbconvert_exporter": "python",
   "pygments_lexer": "ipython3",
   "version": "3.7.12"
  },
  "papermill": {
   "default_parameters": {},
   "duration": 11.166878,
   "end_time": "2022-11-02T07:11:53.145732",
   "environment_variables": {},
   "exception": null,
   "input_path": "__notebook__.ipynb",
   "output_path": "__notebook__.ipynb",
   "parameters": {},
   "start_time": "2022-11-02T07:11:41.978854",
   "version": "2.3.4"
  }
 },
 "nbformat": 4,
 "nbformat_minor": 5
}
