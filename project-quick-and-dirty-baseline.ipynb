{
 "cells": [
  {
   "cell_type": "markdown",
   "id": "828dbb7c",
   "metadata": {
    "papermill": {
     "duration": 0.003993,
     "end_time": "2022-11-21T05:38:56.483825",
     "exception": false,
     "start_time": "2022-11-21T05:38:56.479832",
     "status": "completed"
    },
    "tags": []
   },
   "source": [
    "# <span style=\"color:purple\">**CS 39AA-Project Part 2**</span>\n",
    "\n",
    "\n",
    "\n",
    "In part 1 we did an exploratory analysis of the data, in this second part we will do a quick and dirty baseline model."
   ]
  },
  {
   "cell_type": "code",
   "execution_count": 1,
   "id": "8962a001",
   "metadata": {
    "execution": {
     "iopub.execute_input": "2022-11-21T05:38:56.492229Z",
     "iopub.status.busy": "2022-11-21T05:38:56.491759Z",
     "iopub.status.idle": "2022-11-21T05:38:58.483087Z",
     "shell.execute_reply": "2022-11-21T05:38:58.481379Z"
    },
    "papermill": {
     "duration": 1.998285,
     "end_time": "2022-11-21T05:38:58.485498",
     "exception": false,
     "start_time": "2022-11-21T05:38:56.487213",
     "status": "completed"
    },
    "tags": []
   },
   "outputs": [
    {
     "name": "stdout",
     "output_type": "stream",
     "text": [
      "/kaggle/input/language-detection/Language Detection.csv\n",
      "df.shape: (10337, 2)\n"
     ]
    },
    {
     "data": {
      "text/html": [
       "<div>\n",
       "<style scoped>\n",
       "    .dataframe tbody tr th:only-of-type {\n",
       "        vertical-align: middle;\n",
       "    }\n",
       "\n",
       "    .dataframe tbody tr th {\n",
       "        vertical-align: top;\n",
       "    }\n",
       "\n",
       "    .dataframe thead th {\n",
       "        text-align: right;\n",
       "    }\n",
       "</style>\n",
       "<table border=\"1\" class=\"dataframe\">\n",
       "  <thead>\n",
       "    <tr style=\"text-align: right;\">\n",
       "      <th></th>\n",
       "      <th>Text</th>\n",
       "      <th>Language</th>\n",
       "    </tr>\n",
       "  </thead>\n",
       "  <tbody>\n",
       "    <tr>\n",
       "      <th>0</th>\n",
       "      <td>Nature, in the broadest sense, is the natural, physical, material world or universe.</td>\n",
       "      <td>English</td>\n",
       "    </tr>\n",
       "    <tr>\n",
       "      <th>1</th>\n",
       "      <td>\"Nature\" can refer to the phenomena of the physical world, and also to life in general.</td>\n",
       "      <td>English</td>\n",
       "    </tr>\n",
       "    <tr>\n",
       "      <th>2</th>\n",
       "      <td>The study of nature is a large, if not the only, part of science.</td>\n",
       "      <td>English</td>\n",
       "    </tr>\n",
       "    <tr>\n",
       "      <th>3</th>\n",
       "      <td>Although humans are part of nature, human activity is often understood as a separate category from other natural phenomena.</td>\n",
       "      <td>English</td>\n",
       "    </tr>\n",
       "    <tr>\n",
       "      <th>4</th>\n",
       "      <td>[1] The word nature is borrowed from the Old French nature and is derived from the Latin word natura, or \"essential qualities, innate disposition\", and in ancient times, literally meant \"birth\".</td>\n",
       "      <td>English</td>\n",
       "    </tr>\n",
       "    <tr>\n",
       "      <th>...</th>\n",
       "      <td>...</td>\n",
       "      <td>...</td>\n",
       "    </tr>\n",
       "    <tr>\n",
       "      <th>10332</th>\n",
       "      <td>ನಿಮ್ಮ ತಪ್ಪು ಏನು ಬಂದಿದೆಯೆಂದರೆ ಆ ದಿನದಿಂದ ನಿಮಗೆ ಒಳ್ಳೆಯದನ್ನು ನೀಡೋಣ.</td>\n",
       "      <td>Kannada</td>\n",
       "    </tr>\n",
       "    <tr>\n",
       "      <th>10333</th>\n",
       "      <td>ನಾರ್ಸಿಸಾ ತಾನು ಮೊದಲಿಗೆ ಹೆಣಗಾಡುತ್ತಿದ್ದ ಮಾರ್ಗಗಳನ್ನು ಬದಲಾಯಿಸಿದಳು ಆದರೆ ನಿಧಾನವಾಗಿ ಮತ್ತು ತಾಳ್ಮೆಯಿಂದ ಅವಳು ಒಂದು ದಿನ ಮೆಲ್ಲಿ ಆಗಲು ಪ್ರಾರಂಭಿಸಿದಳು ಮೆಲ್ಲಿ ಮತ್ತು ಟೆರ್ರಿ ಮತ್ತೆ ಮರಿಯನ್ ಅವರನ್ನು ಭೇಟಿಯಾಗಲು ಬಂದರು ಓಹ್ ಹಲೋ ನೀವಿರಿ ಆದ್ದರಿಂದ ನಮಗೆ ಮರಿಯನ್ ಹೇಳಿ.</td>\n",
       "      <td>Kannada</td>\n",
       "    </tr>\n",
       "    <tr>\n",
       "      <th>10334</th>\n",
       "      <td>ಹೇಗೆ ' ನಾರ್ಸಿಸಿಸಮ್ ಈಗ ಮರಿಯನ್ ಅವರಿಗೆ ಸಂಭವಿಸಿದ ಎಲ್ಲವನ್ನೂ ಹೇಳಿದೆ ಮತ್ತು ಅವಳು ಆ ಸಮಯದಿಂದ ತುಂಬಾ ಬದಲಾಗಿದ್ದಾಳೆ.</td>\n",
       "      <td>Kannada</td>\n",
       "    </tr>\n",
       "    <tr>\n",
       "      <th>10335</th>\n",
       "      <td>ಅವಳು ಈಗ ಹೆಚ್ಚು ಚಿನ್ನದ ಬ್ರೆಡ್ ಬಯಸುವುದಿಲ್ಲ ಎಂದು ನಾನು ess ಹಿಸಿದ್ದೇನೆ.</td>\n",
       "      <td>Kannada</td>\n",
       "    </tr>\n",
       "    <tr>\n",
       "      <th>10336</th>\n",
       "      <td>ಟೆರ್ರಿ ನೀವು ನಿಜವಾಗಿಯೂ ಆ ದೇವದೂತನಂತೆ ಸ್ವಲ್ಪ ಕಾಣುತ್ತಿದ್ದೀರಿ ಆದರೆ ನಾನು ಏನು ನೋಡುತ್ತಿದ್ದೇನೆ ನೀವು ಹೇಗೆ ಅವನಾಗಬಹುದು ನೀವು ಇಬ್ಬರು ತುಂಬಾ ಒಳ್ಳೆಯವರು</td>\n",
       "      <td>Kannada</td>\n",
       "    </tr>\n",
       "  </tbody>\n",
       "</table>\n",
       "<p>10337 rows × 2 columns</p>\n",
       "</div>"
      ],
      "text/plain": [
       "                                                                                                                                                                                                                                          Text  \\\n",
       "0                                                                                                                                                         Nature, in the broadest sense, is the natural, physical, material world or universe.   \n",
       "1                                                                                                                                                      \"Nature\" can refer to the phenomena of the physical world, and also to life in general.   \n",
       "2                                                                                                                                                                            The study of nature is a large, if not the only, part of science.   \n",
       "3                                                                                                                  Although humans are part of nature, human activity is often understood as a separate category from other natural phenomena.   \n",
       "4                                           [1] The word nature is borrowed from the Old French nature and is derived from the Latin word natura, or \"essential qualities, innate disposition\", and in ancient times, literally meant \"birth\".   \n",
       "...                                                                                                                                                                                                                                        ...   \n",
       "10332                                                                                                                                                                          ನಿಮ್ಮ ತಪ್ಪು ಏನು ಬಂದಿದೆಯೆಂದರೆ ಆ ದಿನದಿಂದ ನಿಮಗೆ ಒಳ್ಳೆಯದನ್ನು ನೀಡೋಣ.   \n",
       "10333  ನಾರ್ಸಿಸಾ ತಾನು ಮೊದಲಿಗೆ ಹೆಣಗಾಡುತ್ತಿದ್ದ ಮಾರ್ಗಗಳನ್ನು ಬದಲಾಯಿಸಿದಳು ಆದರೆ ನಿಧಾನವಾಗಿ ಮತ್ತು ತಾಳ್ಮೆಯಿಂದ ಅವಳು ಒಂದು ದಿನ ಮೆಲ್ಲಿ ಆಗಲು ಪ್ರಾರಂಭಿಸಿದಳು ಮೆಲ್ಲಿ ಮತ್ತು ಟೆರ್ರಿ ಮತ್ತೆ ಮರಿಯನ್ ಅವರನ್ನು ಭೇಟಿಯಾಗಲು ಬಂದರು ಓಹ್ ಹಲೋ ನೀವಿರಿ ಆದ್ದರಿಂದ ನಮಗೆ ಮರಿಯನ್ ಹೇಳಿ.   \n",
       "10334                                                                                                                                   ಹೇಗೆ ' ನಾರ್ಸಿಸಿಸಮ್ ಈಗ ಮರಿಯನ್ ಅವರಿಗೆ ಸಂಭವಿಸಿದ ಎಲ್ಲವನ್ನೂ ಹೇಳಿದೆ ಮತ್ತು ಅವಳು ಆ ಸಮಯದಿಂದ ತುಂಬಾ ಬದಲಾಗಿದ್ದಾಳೆ.   \n",
       "10335                                                                                                                                                                       ಅವಳು ಈಗ ಹೆಚ್ಚು ಚಿನ್ನದ ಬ್ರೆಡ್ ಬಯಸುವುದಿಲ್ಲ ಎಂದು ನಾನು ess ಹಿಸಿದ್ದೇನೆ.   \n",
       "10336                                                                                                   ಟೆರ್ರಿ ನೀವು ನಿಜವಾಗಿಯೂ ಆ ದೇವದೂತನಂತೆ ಸ್ವಲ್ಪ ಕಾಣುತ್ತಿದ್ದೀರಿ ಆದರೆ ನಾನು ಏನು ನೋಡುತ್ತಿದ್ದೇನೆ ನೀವು ಹೇಗೆ ಅವನಾಗಬಹುದು ನೀವು ಇಬ್ಬರು ತುಂಬಾ ಒಳ್ಳೆಯವರು   \n",
       "\n",
       "      Language  \n",
       "0      English  \n",
       "1      English  \n",
       "2      English  \n",
       "3      English  \n",
       "4      English  \n",
       "...        ...  \n",
       "10332  Kannada  \n",
       "10333  Kannada  \n",
       "10334  Kannada  \n",
       "10335  Kannada  \n",
       "10336  Kannada  \n",
       "\n",
       "[10337 rows x 2 columns]"
      ]
     },
     "execution_count": 1,
     "metadata": {},
     "output_type": "execute_result"
    }
   ],
   "source": [
    "# import all of the python modules/packages you'll need here\n",
    "import pandas as pd# data processing, CSV file I/O (e.g. pd.read_csv)\n",
    "import numpy as np# linear algebra\n",
    "import re\n",
    "from scipy.stats import norm\n",
    "from matplotlib import pyplot\n",
    "import matplotlib.pyplot as plt\n",
    "import seaborn as sns\n",
    "import nltk \n",
    "from sklearn.feature_extraction.text import CountVectorizer\n",
    "from collections import  Counter\n",
    "import warnings\n",
    "warnings.simplefilter(\"ignore\")\n",
    "from wordcloud import WordCloud\n",
    "from sklearn.preprocessing import LabelEncoder\n",
    "from sklearn.feature_extraction.text import CountVectorizer\n",
    "from sklearn.model_selection import train_test_split\n",
    "from sklearn.naive_bayes import MultinomialNB\n",
    "from sklearn.metrics import accuracy_score, confusion_matrix, classification_report\n",
    "\n",
    "# Input data files are available in the read-only \"../input/\" directory\n",
    "# For example, running this (by clicking run or pressing Shift+Enter) will list all files under the input directory\n",
    "import os\n",
    "for dirname, _, filenames in os.walk('/kaggle/input'):\n",
    "    for filename in filenames:\n",
    "        print(os.path.join(dirname, filename))\n",
    "# You can write up to 20GB to the current directory (/kaggle/working/) that gets preserved as output when you create a version using \"Save & Run All\" \n",
    "# You can also write temporary files to /kaggle/temp/, but they won't be saved outside of the current session\n",
    "\n",
    "# import the dataset\n",
    "data_URL = \"../input/language-detection/Language Detection.csv\"\n",
    "df = pd.read_csv(data_URL)\n",
    "print(f\"df.shape: {df.shape}\")\n",
    "#A change in the default display width for a pandas dataframe column\n",
    "pd.set_option(\"display.max_colwidth\", 240)\n",
    "df"
   ]
  },
  {
   "cell_type": "markdown",
   "id": "8d1b1e4c",
   "metadata": {
    "papermill": {
     "duration": 0.003328,
     "end_time": "2022-11-21T05:38:58.492823",
     "exception": false,
     "start_time": "2022-11-21T05:38:58.489495",
     "status": "completed"
    },
    "tags": []
   },
   "source": [
    "### <span style=\"color:green\">**Data cleanup**</span>\n",
    "Better Tokenization"
   ]
  },
  {
   "cell_type": "code",
   "execution_count": 2,
   "id": "bed4a244",
   "metadata": {
    "_cell_guid": "b1076dfc-b9ad-4769-8c92-a6c4dae69d19",
    "_uuid": "8f2839f25d086af736a60e9eeb907d3b93b6e0e5",
    "execution": {
     "iopub.execute_input": "2022-11-21T05:38:58.502336Z",
     "iopub.status.busy": "2022-11-21T05:38:58.501170Z",
     "iopub.status.idle": "2022-11-21T05:38:58.700520Z",
     "shell.execute_reply": "2022-11-21T05:38:58.699704Z"
    },
    "papermill": {
     "duration": 0.206507,
     "end_time": "2022-11-21T05:38:58.702854",
     "exception": false,
     "start_time": "2022-11-21T05:38:58.496347",
     "status": "completed"
    },
    "tags": []
   },
   "outputs": [],
   "source": [
    "\n",
    "#Let's convert the 'Text' column to string format in case there is some data not in string format.\n",
    "df['Text']= df['Text'].astype(str)\n",
    "\n",
    "#Let's delete any row that might have missing text\n",
    "df=df[~df['Text'].isnull()]\n",
    "\n",
    "#This removes any characters that are not letters or numbers\n",
    "df['preprocessed_text'] = df['Text'].str.replace('\\W',' ') \n",
    "\n",
    "#Convert to lower case\n",
    "df['preprocessed_text'] = df['preprocessed_text'].apply(lambda x: \" \".join(x.lower() for x in x.split()))\n",
    "\n",
    "#Remove numbers\n",
    "df['preprocessed_text'] = df['preprocessed_text'].str.replace('\\d+','')\n",
    "\n",
    "#Remove duplicate text\n",
    "df.drop_duplicates(subset=['Text'],keep='first',inplace=True)"
   ]
  },
  {
   "cell_type": "markdown",
   "id": "a56ba5bb",
   "metadata": {
    "papermill": {
     "duration": 0.003213,
     "end_time": "2022-11-21T05:38:58.709757",
     "exception": false,
     "start_time": "2022-11-21T05:38:58.706544",
     "status": "completed"
    },
    "tags": []
   },
   "source": [
    "Recall the distribution of the sample text across the 17 languages. "
   ]
  },
  {
   "cell_type": "code",
   "execution_count": 3,
   "id": "7e19f764",
   "metadata": {
    "execution": {
     "iopub.execute_input": "2022-11-21T05:38:58.719068Z",
     "iopub.status.busy": "2022-11-21T05:38:58.717827Z",
     "iopub.status.idle": "2022-11-21T05:38:58.729224Z",
     "shell.execute_reply": "2022-11-21T05:38:58.728172Z"
    },
    "papermill": {
     "duration": 0.017965,
     "end_time": "2022-11-21T05:38:58.731212",
     "exception": false,
     "start_time": "2022-11-21T05:38:58.713247",
     "status": "completed"
    },
    "tags": []
   },
   "outputs": [
    {
     "data": {
      "text/plain": [
       "English       1382\n",
       "French        1006\n",
       "Spanish        815\n",
       "Portugeese     736\n",
       "Italian        694\n",
       "Russian        688\n",
       "Sweedish       672\n",
       "Malayalam      591\n",
       "Dutch          541\n",
       "Arabic         532\n",
       "Turkish        471\n",
       "German         465\n",
       "Tamil          464\n",
       "Danish         424\n",
       "Kannada        366\n",
       "Greek          358\n",
       "Hindi           62\n",
       "Name: Language, dtype: int64"
      ]
     },
     "execution_count": 3,
     "metadata": {},
     "output_type": "execute_result"
    }
   ],
   "source": [
    "df['Language'].value_counts()"
   ]
  },
  {
   "cell_type": "code",
   "execution_count": 4,
   "id": "bc69a58e",
   "metadata": {
    "execution": {
     "iopub.execute_input": "2022-11-21T05:38:58.740719Z",
     "iopub.status.busy": "2022-11-21T05:38:58.740178Z",
     "iopub.status.idle": "2022-11-21T05:38:58.744976Z",
     "shell.execute_reply": "2022-11-21T05:38:58.743829Z"
    },
    "papermill": {
     "duration": 0.012288,
     "end_time": "2022-11-21T05:38:58.747435",
     "exception": false,
     "start_time": "2022-11-21T05:38:58.735147",
     "status": "completed"
    },
    "tags": []
   },
   "outputs": [],
   "source": [
    "#Separate independent and dependent features\n",
    "X=df['preprocessed_text']\n",
    "y=df['Language']"
   ]
  },
  {
   "cell_type": "markdown",
   "id": "952d4cfd",
   "metadata": {
    "papermill": {
     "duration": 0.003529,
     "end_time": "2022-11-21T05:38:58.754937",
     "exception": false,
     "start_time": "2022-11-21T05:38:58.751408",
     "status": "completed"
    },
    "tags": []
   },
   "source": [
    "### <span style=\"color:green\">**Label Encoding & Bag of words**</span>\n",
    "Vectorization"
   ]
  },
  {
   "cell_type": "code",
   "execution_count": 5,
   "id": "11260242",
   "metadata": {
    "execution": {
     "iopub.execute_input": "2022-11-21T05:38:58.765183Z",
     "iopub.status.busy": "2022-11-21T05:38:58.764636Z",
     "iopub.status.idle": "2022-11-21T05:38:59.127925Z",
     "shell.execute_reply": "2022-11-21T05:38:59.126821Z"
    },
    "papermill": {
     "duration": 0.370754,
     "end_time": "2022-11-21T05:38:59.129986",
     "exception": false,
     "start_time": "2022-11-21T05:38:58.759232",
     "status": "completed"
    },
    "tags": []
   },
   "outputs": [
    {
     "data": {
      "text/plain": [
       "(10267, 39390)"
      ]
     },
     "execution_count": 5,
     "metadata": {},
     "output_type": "execute_result"
    }
   ],
   "source": [
    "#After cleaning up the data, we need to convert the tokens into \n",
    "#a numerical representation, so we are perfomrming label encoding \n",
    "#on the categorical labels(Languages). This will allow us to be \n",
    "#able to use many different types of models, including neural networks.\n",
    "\n",
    "le = LabelEncoder()\n",
    "y = le.fit_transform(y)\n",
    "\n",
    "# creating a list for appending the preprocessed text\n",
    "data_list = []\n",
    "# iterating through all the text\n",
    "for text in df['preprocessed_text']:\n",
    "        # appending to data_list\n",
    "        data_list.append(text)\n",
    "        \n",
    "#The sample text should be in a numerical representation as well. \n",
    "#So we are converting the sample text into numerical representation\n",
    "#by creating a Bag of Words model.\n",
    "cv = CountVectorizer()\n",
    "X = cv.fit_transform(data_list).toarray()\n",
    "X.shape # (10267, 39390)"
   ]
  },
  {
   "cell_type": "markdown",
   "id": "3000c484",
   "metadata": {
    "papermill": {
     "duration": 0.003595,
     "end_time": "2022-11-21T05:38:59.137796",
     "exception": false,
     "start_time": "2022-11-21T05:38:59.134201",
     "status": "completed"
    },
    "tags": []
   },
   "source": [
    "### <span style=\"color:green\">**Training set & Testing set**</span>\n",
    "\n",
    "Modeling Process/Evaluation"
   ]
  },
  {
   "cell_type": "code",
   "execution_count": 6,
   "id": "02c1e794",
   "metadata": {
    "execution": {
     "iopub.execute_input": "2022-11-21T05:38:59.146711Z",
     "iopub.status.busy": "2022-11-21T05:38:59.146384Z",
     "iopub.status.idle": "2022-11-21T05:39:27.370971Z",
     "shell.execute_reply": "2022-11-21T05:39:27.369266Z"
    },
    "papermill": {
     "duration": 28.232045,
     "end_time": "2022-11-21T05:39:27.373646",
     "exception": false,
     "start_time": "2022-11-21T05:38:59.141601",
     "status": "completed"
    },
    "tags": []
   },
   "outputs": [
    {
     "name": "stdout",
     "output_type": "stream",
     "text": [
      "Accuracy is : 0.9756572541382668\n"
     ]
    },
    {
     "data": {
      "image/png": "[encoded data removed]",
      "text/plain": [
       "<Figure size 1080x720 with 2 Axes>"
      ]
     },
     "metadata": {
      "needs_background": "light"
     },
     "output_type": "display_data"
    }
   ],
   "source": [
    "#We need to compare our model performance metrics to\n",
    "#a suitable baseline. We don't have a validation and/or test set \n",
    "#right now. We need to remove a portion of the dataset from the \n",
    "#'training',then evaluate our model against this.\n",
    "\n",
    "#We need to create the training set to train the model and test set\n",
    "x_train, x_test, y_train, y_test = train_test_split(X, y, test_size = 0.20)\n",
    "\n",
    "#We will use the Naive Bayes algotrithm for our model\n",
    "model = MultinomialNB()\n",
    "model.fit(x_train, y_train)\n",
    "\n",
    "#Let's predict the output for the test set\n",
    "y_pred = model.predict(x_test)\n",
    "\n",
    "#Let's evaluate our model and create the confusion matrix\n",
    "ac = accuracy_score(y_test, y_pred)\n",
    "cm = confusion_matrix(y_test, y_pred)\n",
    "\n",
    "print(\"Accuracy is :\",ac)\n",
    "\n",
    "#We plot the confusion matrix\n",
    "plt.figure(figsize=(15,10))\n",
    "sns.heatmap(cm, annot = True)\n",
    "plt.show()\n"
   ]
  },
  {
   "cell_type": "code",
   "execution_count": 7,
   "id": "e50ad406",
   "metadata": {
    "execution": {
     "iopub.execute_input": "2022-11-21T05:39:27.384085Z",
     "iopub.status.busy": "2022-11-21T05:39:27.383635Z",
     "iopub.status.idle": "2022-11-21T05:39:27.390446Z",
     "shell.execute_reply": "2022-11-21T05:39:27.388990Z"
    },
    "papermill": {
     "duration": 0.015226,
     "end_time": "2022-11-21T05:39:27.393436",
     "exception": false,
     "start_time": "2022-11-21T05:39:27.378210",
     "status": "completed"
    },
    "tags": []
   },
   "outputs": [],
   "source": [
    "#Function to predict a language\n",
    "def predict(text):\n",
    "     x = cv.transform([text]).toarray() # converting the input text to a bag of words model\n",
    "     language = model.predict(x) # predicting the language\n",
    "     language = le.inverse_transform(language) # finding the language corresponding the the predicted value\n",
    "     print(\"The language is in\",language[0]) # printing the language"
   ]
  },
  {
   "cell_type": "code",
   "execution_count": 8,
   "id": "ed4a453e",
   "metadata": {
    "execution": {
     "iopub.execute_input": "2022-11-21T05:39:27.403973Z",
     "iopub.status.busy": "2022-11-21T05:39:27.403596Z",
     "iopub.status.idle": "2022-11-21T05:39:27.417226Z",
     "shell.execute_reply": "2022-11-21T05:39:27.416406Z"
    },
    "papermill": {
     "duration": 0.021441,
     "end_time": "2022-11-21T05:39:27.419514",
     "exception": false,
     "start_time": "2022-11-21T05:39:27.398073",
     "status": "completed"
    },
    "tags": []
   },
   "outputs": [
    {
     "name": "stdout",
     "output_type": "stream",
     "text": [
      "The language is in Spanish\n",
      "The language is in English\n",
      "The language is in Spanish\n",
      "The language is in Spanish\n"
     ]
    }
   ],
   "source": [
    "#Evaluating our function\n",
    "predict('Hola como estas?')\n",
    "predict('Hi how are you?')\n",
    "predict('Hola como mademoiselle?')\n",
    "predict('Hola bonjour mademoiselle?')"
   ]
  }
 ],
 "metadata": {
  "kernelspec": {
   "display_name": "Python 3",
   "language": "python",
   "name": "python3"
  },
  "language_info": {
   "codemirror_mode": {
    "name": "ipython",
    "version": 3
   },
   "file_extension": ".py",
   "mimetype": "text/x-python",
   "name": "python",
   "nbconvert_exporter": "python",
   "pygments_lexer": "ipython3",
   "version": "3.7.12"
  },
  "papermill": {
   "default_parameters": {},
   "duration": 39.303736,
   "end_time": "2022-11-21T05:39:28.345241",
   "environment_variables": {},
   "exception": null,
   "input_path": "__notebook__.ipynb",
   "output_path": "__notebook__.ipynb",
   "parameters": {},
   "start_time": "2022-11-21T05:38:49.041505",
   "version": "2.3.4"
  }
 },
 "nbformat": 4,
 "nbformat_minor": 5
}
