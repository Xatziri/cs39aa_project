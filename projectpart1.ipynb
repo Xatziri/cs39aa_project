{
 "cells": [
  {
   "cell_type": "markdown",
   "id": "2e2bbc7d",
   "metadata": {
    "papermill": {
     "duration": 0.006712,
     "end_time": "2022-12-01T17:26:10.679492",
     "exception": false,
     "start_time": "2022-12-01T17:26:10.672780",
     "status": "completed"
    },
    "tags": []
   },
   "source": [
    "# Project Part 1\n",
    "\n",
    "[![Kaggle](https://kaggle.com/static/images/open-in-kaggle.svg)](https://www.kaggle.com/itzelbailon/projectpart1/)\n",
    "\n",
    "## a) Introductory proposal\n",
    "\n",
    "   I will use a Natural Language Processing model for language detection/prediction using a Kaggle data base (https://www.kaggle.com/datasets/zarajamshaid/language-identification-datasst). This database contains 2 columns, one for text details(sample text) with 22000 unique values, and one for Language with 22 different languages:\n",
    "   \n",
    " 1. English\n",
    " 2. Arabic\n",
    " 3. French\n",
    " 4. Hindi\n",
    " 5. Urdu\n",
    " 6. Portuguese\n",
    " 7. Persian\n",
    " 8. Pushto\n",
    " 9. Spanish\n",
    " 10. Korean\n",
    " 11. Tamil\n",
    " 12. Turkish\n",
    " 13. Estonian\n",
    " 14. Russian\n",
    " 15. Romanian\n",
    " 16. Chinese\n",
    " 17. Swedish\n",
    " 18. Latin\n",
    " 19. Indonesian\n",
    " 20. Dutch\n",
    " 21. Japanese\n",
    " 22. Thai\n",
    "   \n",
    "   Predicting a language is a multiclass classification problem, as the model will divide the observations into 22 categories. Support Vector Machines model and Multinomial Naive Bayes will be used to predict the language.\n",
    "\n"
   ]
  },
  {
   "cell_type": "markdown",
   "id": "9e2ad494",
   "metadata": {
    "papermill": {
     "duration": 0.004966,
     "end_time": "2022-12-01T17:26:10.690110",
     "exception": false,
     "start_time": "2022-12-01T17:26:10.685144",
     "status": "completed"
    },
    "tags": []
   },
   "source": [
    "## b) Exploratory Data Analysis"
   ]
  },
  {
   "cell_type": "code",
   "execution_count": 1,
   "id": "56019e1c",
   "metadata": {
    "_cell_guid": "b1076dfc-b9ad-4769-8c92-a6c4dae69d19",
    "_uuid": "8f2839f25d086af736a60e9eeb907d3b93b6e0e5",
    "execution": {
     "iopub.execute_input": "2022-12-01T17:26:10.703690Z",
     "iopub.status.busy": "2022-12-01T17:26:10.702652Z",
     "iopub.status.idle": "2022-12-01T17:26:13.036745Z",
     "shell.execute_reply": "2022-12-01T17:26:13.035191Z"
    },
    "papermill": {
     "duration": 2.346782,
     "end_time": "2022-12-01T17:26:13.042300",
     "exception": false,
     "start_time": "2022-12-01T17:26:10.695518",
     "status": "completed"
    },
    "tags": []
   },
   "outputs": [
    {
     "name": "stdout",
     "output_type": "stream",
     "text": [
      "/kaggle/input/language-identification-datasst/dataset.csv\n",
      "df.shape: (22000, 2)\n"
     ]
    },
    {
     "data": {
      "text/html": [
       "<div>\n",
       "<style scoped>\n",
       "    .dataframe tbody tr th:only-of-type {\n",
       "        vertical-align: middle;\n",
       "    }\n",
       "\n",
       "    .dataframe tbody tr th {\n",
       "        vertical-align: top;\n",
       "    }\n",
       "\n",
       "    .dataframe thead th {\n",
       "        text-align: right;\n",
       "    }\n",
       "</style>\n",
       "<table border=\"1\" class=\"dataframe\">\n",
       "  <thead>\n",
       "    <tr style=\"text-align: right;\">\n",
       "      <th></th>\n",
       "      <th>Text</th>\n",
       "      <th>language</th>\n",
       "    </tr>\n",
       "  </thead>\n",
       "  <tbody>\n",
       "    <tr>\n",
       "      <th>0</th>\n",
       "      <td>klement gottwaldi surnukeha palsameeriti ning paigutati mausoleumi surnukeha oli aga liiga hilja ja oskamatult palsameeritud ning hakkas ilmutama lagunemise tundemärke  aastal viidi ta surnukeha mausoleumist ära ja kremeeriti zlíni linn...</td>\n",
       "      <td>Estonian</td>\n",
       "    </tr>\n",
       "    <tr>\n",
       "      <th>1</th>\n",
       "      <td>sebes joseph pereira thomas  på eng the jesuits and the sino-russian treaty of nerchinsk  the diary of thomas pereira bibliotheca instituti historici s i --   rome libris</td>\n",
       "      <td>Swedish</td>\n",
       "    </tr>\n",
       "    <tr>\n",
       "      <th>2</th>\n",
       "      <td>ถนนเจริญกรุง อักษรโรมัน thanon charoen krung เริ่มตั้งแต่ถนนสนามไชยถึงแม่น้ำเจ้าพระยาที่ถนนตก กรุงเทพมหานคร เป็นถนนรุ่นแรกที่ใช้เทคนิคการสร้างแบบตะวันตก ปัจจุบันผ่านพื้นที่เขตพระนคร เขตป้อมปราบศัตรูพ่าย เขตสัมพันธวงศ์ เขตบางรัก เขตสาทร ...</td>\n",
       "      <td>Thai</td>\n",
       "    </tr>\n",
       "    <tr>\n",
       "      <th>3</th>\n",
       "      <td>விசாகப்பட்டினம் தமிழ்ச்சங்கத்தை இந்துப் பத்திரிகை-விசாகப்பட்டின ஆசிரியர் சம்பத்துடன் இணைந்து விரிவுபடுத்தினார்  ஆண்டுகள் தொடர்ந்து செயலராக இருந்து தமிழ்மன்றத்தை நடத்திச் சென்றார்  கோவை செம்மொழி மாநாட்டில் \"தமிழ்ச்சங்கங்களும் தமிழும்\" என...</td>\n",
       "      <td>Tamil</td>\n",
       "    </tr>\n",
       "    <tr>\n",
       "      <th>4</th>\n",
       "      <td>de spons behoort tot het geslacht haliclona en behoort tot de familie chalinidae de wetenschappelijke naam van de soort werd voor het eerst geldig gepubliceerd in  door kudelin</td>\n",
       "      <td>Dutch</td>\n",
       "    </tr>\n",
       "    <tr>\n",
       "      <th>...</th>\n",
       "      <td>...</td>\n",
       "      <td>...</td>\n",
       "    </tr>\n",
       "    <tr>\n",
       "      <th>21995</th>\n",
       "      <td>hors du terrain les années  et  sont des années de crise pour le championnat le titre de champion de france attise les convoitises et entraîne des dérives  violence sur les terrains et accusations d’amateurisme marron rythment de plus e...</td>\n",
       "      <td>French</td>\n",
       "    </tr>\n",
       "    <tr>\n",
       "      <th>21996</th>\n",
       "      <td>ใน พศ  หลักจากที่เสด็จประพาสแหลมมลายู ชวา อินเดียทรงได้พบอดียรองกงสุลอังกฤษ นายเฮนรี่ อลาบาสเตอร์ ได้กราบบังคมทูลถวายคำแนะนำในสำรวจและทำแผนที่ จึงได้ทรงพระกรุณาโปรดเกล้าฯ ให้ตั้งกองทำแผนที่ทดลอง ใน พศ</td>\n",
       "      <td>Thai</td>\n",
       "    </tr>\n",
       "    <tr>\n",
       "      <th>21997</th>\n",
       "      <td>con motivo de la celebración del septuagésimoquinto ° aniversario de la fundación del departamento en  guillermo ceballos espinosa presentó a la gobernación de caldas por encargo de su titular dilia estrada de gómez el himno que fue ado...</td>\n",
       "      <td>Spanish</td>\n",
       "    </tr>\n",
       "    <tr>\n",
       "      <th>21998</th>\n",
       "      <td>年月，當時還只有歲的她在美國出道，以mai-k名義推出首張英文《baby i like》，由美國的獨立廠牌bip·record發行，以外國輸入盤的形式在日本發售，旋即被抢购一空。其後於月日發行以倉木麻衣名義發行的首張日文單曲《love day after tomorrow》，正式於日本出道。這張單曲初動銷量只得約萬張，可是其後每週銷量一直上升，並於年月正式突破百萬銷量，合计万张。成為年最耀眼的新人歌手。</td>\n",
       "      <td>Chinese</td>\n",
       "    </tr>\n",
       "    <tr>\n",
       "      <th>21999</th>\n",
       "      <td>aprilie sonda spațială messenger a nasa și-a încheiat misiunea de studiu de  ani prăbușindu-se pe suprafața planetei mercur sonda a rămas fără combustibil fiind împinsă de gravitația solară din ce în ce mai aproape de mercur</td>\n",
       "      <td>Romanian</td>\n",
       "    </tr>\n",
       "  </tbody>\n",
       "</table>\n",
       "<p>22000 rows × 2 columns</p>\n",
       "</div>"
      ],
      "text/plain": [
       "                                                                                                                                                                                                                                                  Text  \\\n",
       "0      klement gottwaldi surnukeha palsameeriti ning paigutati mausoleumi surnukeha oli aga liiga hilja ja oskamatult palsameeritud ning hakkas ilmutama lagunemise tundemärke  aastal viidi ta surnukeha mausoleumist ära ja kremeeriti zlíni linn...   \n",
       "1                                                                          sebes joseph pereira thomas  på eng the jesuits and the sino-russian treaty of nerchinsk  the diary of thomas pereira bibliotheca instituti historici s i --   rome libris    \n",
       "2      ถนนเจริญกรุง อักษรโรมัน thanon charoen krung เริ่มตั้งแต่ถนนสนามไชยถึงแม่น้ำเจ้าพระยาที่ถนนตก กรุงเทพมหานคร เป็นถนนรุ่นแรกที่ใช้เทคนิคการสร้างแบบตะวันตก ปัจจุบันผ่านพื้นที่เขตพระนคร เขตป้อมปราบศัตรูพ่าย เขตสัมพันธวงศ์ เขตบางรัก เขตสาทร ...   \n",
       "3      விசாகப்பட்டினம் தமிழ்ச்சங்கத்தை இந்துப் பத்திரிகை-விசாகப்பட்டின ஆசிரியர் சம்பத்துடன் இணைந்து விரிவுபடுத்தினார்  ஆண்டுகள் தொடர்ந்து செயலராக இருந்து தமிழ்மன்றத்தை நடத்திச் சென்றார்  கோவை செம்மொழி மாநாட்டில் \"தமிழ்ச்சங்கங்களும் தமிழும்\" என...   \n",
       "4                                                                     de spons behoort tot het geslacht haliclona en behoort tot de familie chalinidae de wetenschappelijke naam van de soort werd voor het eerst geldig gepubliceerd in  door kudelin   \n",
       "...                                                                                                                                                                                                                                                ...   \n",
       "21995  hors du terrain les années  et  sont des années de crise pour le championnat le titre de champion de france attise les convoitises et entraîne des dérives  violence sur les terrains et accusations d’amateurisme marron rythment de plus e...   \n",
       "21996                                        ใน พศ  หลักจากที่เสด็จประพาสแหลมมลายู ชวา อินเดียทรงได้พบอดียรองกงสุลอังกฤษ นายเฮนรี่ อลาบาสเตอร์ ได้กราบบังคมทูลถวายคำแนะนำในสำรวจและทำแผนที่ จึงได้ทรงพระกรุณาโปรดเกล้าฯ ให้ตั้งกองทำแผนที่ทดลอง ใน พศ    \n",
       "21997  con motivo de la celebración del septuagésimoquinto ° aniversario de la fundación del departamento en  guillermo ceballos espinosa presentó a la gobernación de caldas por encargo de su titular dilia estrada de gómez el himno que fue ado...   \n",
       "21998                                      年月，當時還只有歲的她在美國出道，以mai-k名義推出首張英文《baby i like》，由美國的獨立廠牌bip·record發行，以外國輸入盤的形式在日本發售，旋即被抢购一空。其後於月日發行以倉木麻衣名義發行的首張日文單曲《love day after tomorrow》，正式於日本出道。這張單曲初動銷量只得約萬張，可是其後每週銷量一直上升，並於年月正式突破百萬銷量，合计万张。成為年最耀眼的新人歌手。   \n",
       "21999                 aprilie sonda spațială messenger a nasa și-a încheiat misiunea de studiu de  ani prăbușindu-se pe suprafața planetei mercur sonda a rămas fără combustibil fiind împinsă de gravitația solară din ce în ce mai aproape de mercur   \n",
       "\n",
       "       language  \n",
       "0      Estonian  \n",
       "1       Swedish  \n",
       "2          Thai  \n",
       "3         Tamil  \n",
       "4         Dutch  \n",
       "...         ...  \n",
       "21995    French  \n",
       "21996      Thai  \n",
       "21997   Spanish  \n",
       "21998   Chinese  \n",
       "21999  Romanian  \n",
       "\n",
       "[22000 rows x 2 columns]"
      ]
     },
     "execution_count": 1,
     "metadata": {},
     "output_type": "execute_result"
    }
   ],
   "source": [
    "# import all of the python modules/packages you'll need here\n",
    "import pandas as pd# data processsing, CSV file I/O (e.g. pd.read_csv)\n",
    "import numpy as np# linear algebra\n",
    "import re\n",
    "from scipy.stats import norm\n",
    "from matplotlib import pyplot\n",
    "import matplotlib.pyplot as plt\n",
    "import seaborn as sns\n",
    "import nltk \n",
    "from sklearn.feature_extraction.text import CountVectorizer\n",
    "from collections import  Counter\n",
    "import warnings\n",
    "warnings.simplefilter(\"ignore\")\n",
    "from wordcloud import WordCloud\n",
    "from sklearn.preprocessing import LabelEncoder\n",
    "from sklearn.feature_extraction.text import CountVectorizer\n",
    "from sklearn.model_selection import train_test_split\n",
    "from sklearn.naive_bayes import MultinomialNB\n",
    "from sklearn.metrics import accuracy_score, confusion_matrix, classification_report\n",
    "from nltk.tokenize import regexp_tokenize\n",
    "from nltk.tokenize import sent_tokenize\n",
    "from nltk.tokenize import word_tokenize\n",
    "from sklearn.model_selection import GridSearchCV\n",
    "from sklearn import svm\n",
    "\n",
    "# Input data files are available in the read-only \"../input/\" directory\n",
    "# For example, running this (by clicking run or pressing Shift+Enter) will list all files under the input directory\n",
    "import os\n",
    "for dirname, _, filenames in os.walk('/kaggle/input'):\n",
    "    for filename in filenames:\n",
    "        print(os.path.join(dirname, filename))\n",
    "# You can write up to 20GB to the current directory (/kaggle/working/) that gets preserved as output when you create a version using \"Save & Run All\" \n",
    "# You can also write temporary files to /kaggle/temp/, but they won't be saved outside of the current session\n",
    "\n",
    "\n",
    "# import the dataset \n",
    "data_URL = \"../input/language-identification-datasst/dataset.csv\"\n",
    "df = pd.read_csv(data_URL)#dataset with 22 languages\n",
    "print(f\"df.shape: {df.shape}\")\n",
    "#A change in the default display width for a pandas dataframe column\n",
    "pd.set_option(\"display.max_colwidth\", 240)\n",
    "df"
   ]
  },
  {
   "cell_type": "code",
   "execution_count": 2,
   "id": "3b83976c",
   "metadata": {
    "execution": {
     "iopub.execute_input": "2022-12-01T17:26:13.057549Z",
     "iopub.status.busy": "2022-12-01T17:26:13.056547Z",
     "iopub.status.idle": "2022-12-01T17:26:13.063668Z",
     "shell.execute_reply": "2022-12-01T17:26:13.062670Z"
    },
    "papermill": {
     "duration": 0.017157,
     "end_time": "2022-12-01T17:26:13.066015",
     "exception": false,
     "start_time": "2022-12-01T17:26:13.048858",
     "status": "completed"
    },
    "tags": []
   },
   "outputs": [
    {
     "data": {
      "text/plain": [
       "22000"
      ]
     },
     "execution_count": 2,
     "metadata": {},
     "output_type": "execute_result"
    }
   ],
   "source": [
    "#How many rows of data there is in this dataset\n",
    "len(df)"
   ]
  },
  {
   "cell_type": "markdown",
   "id": "0b7bd464",
   "metadata": {
    "papermill": {
     "duration": 0.005775,
     "end_time": "2022-12-01T17:26:13.077986",
     "exception": false,
     "start_time": "2022-12-01T17:26:13.072211",
     "status": "completed"
    },
    "tags": []
   },
   "source": [
    "Knowing how many rows of data are in this dataset will give us an idea of how many repeated samples of text is in this dataset."
   ]
  },
  {
   "cell_type": "markdown",
   "id": "97dadae8",
   "metadata": {
    "papermill": {
     "duration": 0.005736,
     "end_time": "2022-12-01T17:26:13.090122",
     "exception": false,
     "start_time": "2022-12-01T17:26:13.084386",
     "status": "completed"
    },
    "tags": []
   },
   "source": [
    "### Preprocessing\n",
    "\n",
    "It's important to clean the data and take some preventive steps before doing the analysis.\n",
    "\n",
    "First, let's convert the 'Text' column to string format in case there is some data not in string format."
   ]
  },
  {
   "cell_type": "code",
   "execution_count": 3,
   "id": "acb1ae4c",
   "metadata": {
    "execution": {
     "iopub.execute_input": "2022-12-01T17:26:13.104930Z",
     "iopub.status.busy": "2022-12-01T17:26:13.104389Z",
     "iopub.status.idle": "2022-12-01T17:26:13.116918Z",
     "shell.execute_reply": "2022-12-01T17:26:13.115784Z"
    },
    "papermill": {
     "duration": 0.02356,
     "end_time": "2022-12-01T17:26:13.120280",
     "exception": false,
     "start_time": "2022-12-01T17:26:13.096720",
     "status": "completed"
    },
    "tags": []
   },
   "outputs": [],
   "source": [
    "df['Text']= df['Text'].astype(str)"
   ]
  },
  {
   "cell_type": "markdown",
   "id": "09e43c27",
   "metadata": {
    "papermill": {
     "duration": 0.00748,
     "end_time": "2022-12-01T17:26:13.134014",
     "exception": false,
     "start_time": "2022-12-01T17:26:13.126534",
     "status": "completed"
    },
    "tags": []
   },
   "source": [
    "Then, let's delete any row that might have missing text."
   ]
  },
  {
   "cell_type": "code",
   "execution_count": 4,
   "id": "e048e503",
   "metadata": {
    "execution": {
     "iopub.execute_input": "2022-12-01T17:26:13.148367Z",
     "iopub.status.busy": "2022-12-01T17:26:13.147901Z",
     "iopub.status.idle": "2022-12-01T17:26:13.165148Z",
     "shell.execute_reply": "2022-12-01T17:26:13.164153Z"
    },
    "papermill": {
     "duration": 0.027458,
     "end_time": "2022-12-01T17:26:13.167567",
     "exception": false,
     "start_time": "2022-12-01T17:26:13.140109",
     "status": "completed"
    },
    "tags": []
   },
   "outputs": [
    {
     "data": {
      "text/plain": [
       "22000"
      ]
     },
     "execution_count": 4,
     "metadata": {},
     "output_type": "execute_result"
    }
   ],
   "source": [
    "df=df[~df['Text'].isnull()]\n",
    "len(df)"
   ]
  },
  {
   "cell_type": "markdown",
   "id": "401c3247",
   "metadata": {
    "papermill": {
     "duration": 0.005914,
     "end_time": "2022-12-01T17:26:13.179903",
     "exception": false,
     "start_time": "2022-12-01T17:26:13.173989",
     "status": "completed"
    },
    "tags": []
   },
   "source": [
    "Now let's remove special characters and punctuation that are not helpful for analysis. Let's convert all text to lower case to avoid same words to be consider as different because of an uppercase. And finally let's remove numbers, since they are not used for translation purposes."
   ]
  },
  {
   "cell_type": "code",
   "execution_count": 5,
   "id": "184a3deb",
   "metadata": {
    "execution": {
     "iopub.execute_input": "2022-12-01T17:26:13.195131Z",
     "iopub.status.busy": "2022-12-01T17:26:13.193897Z",
     "iopub.status.idle": "2022-12-01T17:26:14.455579Z",
     "shell.execute_reply": "2022-12-01T17:26:14.454337Z"
    },
    "papermill": {
     "duration": 1.272573,
     "end_time": "2022-12-01T17:26:14.458694",
     "exception": false,
     "start_time": "2022-12-01T17:26:13.186121",
     "status": "completed"
    },
    "tags": []
   },
   "outputs": [
    {
     "data": {
      "text/html": [
       "<div>\n",
       "<style scoped>\n",
       "    .dataframe tbody tr th:only-of-type {\n",
       "        vertical-align: middle;\n",
       "    }\n",
       "\n",
       "    .dataframe tbody tr th {\n",
       "        vertical-align: top;\n",
       "    }\n",
       "\n",
       "    .dataframe thead th {\n",
       "        text-align: right;\n",
       "    }\n",
       "</style>\n",
       "<table border=\"1\" class=\"dataframe\">\n",
       "  <thead>\n",
       "    <tr style=\"text-align: right;\">\n",
       "      <th></th>\n",
       "      <th>Text</th>\n",
       "      <th>language</th>\n",
       "      <th>preprocessed_text</th>\n",
       "    </tr>\n",
       "  </thead>\n",
       "  <tbody>\n",
       "    <tr>\n",
       "      <th>0</th>\n",
       "      <td>klement gottwaldi surnukeha palsameeriti ning paigutati mausoleumi surnukeha oli aga liiga hilja ja oskamatult palsameeritud ning hakkas ilmutama lagunemise tundemärke  aastal viidi ta surnukeha mausoleumist ära ja kremeeriti zlíni linn...</td>\n",
       "      <td>Estonian</td>\n",
       "      <td>klement gottwaldi surnukeha palsameeriti ning paigutati mausoleumi surnukeha oli aga liiga hilja ja oskamatult palsameeritud ning hakkas ilmutama lagunemise tundemärke aastal viidi ta surnukeha mausoleumist ära ja kremeeriti zlíni linn ...</td>\n",
       "    </tr>\n",
       "    <tr>\n",
       "      <th>1</th>\n",
       "      <td>sebes joseph pereira thomas  på eng the jesuits and the sino-russian treaty of nerchinsk  the diary of thomas pereira bibliotheca instituti historici s i --   rome libris</td>\n",
       "      <td>Swedish</td>\n",
       "      <td>sebes joseph pereira thomas på eng the jesuits and the sino russian treaty of nerchinsk the diary of thomas pereira bibliotheca instituti historici s i rome libris</td>\n",
       "    </tr>\n",
       "    <tr>\n",
       "      <th>2</th>\n",
       "      <td>ถนนเจริญกรุง อักษรโรมัน thanon charoen krung เริ่มตั้งแต่ถนนสนามไชยถึงแม่น้ำเจ้าพระยาที่ถนนตก กรุงเทพมหานคร เป็นถนนรุ่นแรกที่ใช้เทคนิคการสร้างแบบตะวันตก ปัจจุบันผ่านพื้นที่เขตพระนคร เขตป้อมปราบศัตรูพ่าย เขตสัมพันธวงศ์ เขตบางรัก เขตสาทร ...</td>\n",
       "      <td>Thai</td>\n",
       "      <td>ถนนเจร ญกร ง อ กษรโรม น thanon charoen krung เร มต งแต ถนนสนามไชยถ งแม น ำเจ าพระยาท ถนนตก กร งเทพมหานคร เป นถนนร นแรกท ใช เทคน คการสร างแบบตะว นตก ป จจ บ นผ านพ นท เขตพระนคร เขตป อมปราบศ ตร พ าย เขตส มพ นธวงศ เขตบางร ก เขตสาทร และเขตบา...</td>\n",
       "    </tr>\n",
       "    <tr>\n",
       "      <th>3</th>\n",
       "      <td>விசாகப்பட்டினம் தமிழ்ச்சங்கத்தை இந்துப் பத்திரிகை-விசாகப்பட்டின ஆசிரியர் சம்பத்துடன் இணைந்து விரிவுபடுத்தினார்  ஆண்டுகள் தொடர்ந்து செயலராக இருந்து தமிழ்மன்றத்தை நடத்திச் சென்றார்  கோவை செம்மொழி மாநாட்டில் \"தமிழ்ச்சங்கங்களும் தமிழும்\" என...</td>\n",
       "      <td>Tamil</td>\n",
       "      <td>வ ச கப பட ட னம தம ழ ச சங கத த இந த ப பத த ர க வ ச கப பட ட ன ஆச ர யர சம பத த டன இண ந த வ ர வ பட த த ன ர ஆண ட கள த டர ந த ச யலர க இர ந த தம ழ மன றத த நடத த ச ச ன ற ர க வ ச ம ம ழ ம ந ட ட ல தம ழ ச சங கங கள ம தம ழ ம என ம தல ப ப ல ப ற ம ந லங ...</td>\n",
       "    </tr>\n",
       "    <tr>\n",
       "      <th>4</th>\n",
       "      <td>de spons behoort tot het geslacht haliclona en behoort tot de familie chalinidae de wetenschappelijke naam van de soort werd voor het eerst geldig gepubliceerd in  door kudelin</td>\n",
       "      <td>Dutch</td>\n",
       "      <td>de spons behoort tot het geslacht haliclona en behoort tot de familie chalinidae de wetenschappelijke naam van de soort werd voor het eerst geldig gepubliceerd in door kudelin</td>\n",
       "    </tr>\n",
       "    <tr>\n",
       "      <th>...</th>\n",
       "      <td>...</td>\n",
       "      <td>...</td>\n",
       "      <td>...</td>\n",
       "    </tr>\n",
       "    <tr>\n",
       "      <th>21995</th>\n",
       "      <td>hors du terrain les années  et  sont des années de crise pour le championnat le titre de champion de france attise les convoitises et entraîne des dérives  violence sur les terrains et accusations d’amateurisme marron rythment de plus e...</td>\n",
       "      <td>French</td>\n",
       "      <td>hors du terrain les années et sont des années de crise pour le championnat le titre de champion de france attise les convoitises et entraîne des dérives violence sur les terrains et accusations d amateurisme marron rythment de plus en p...</td>\n",
       "    </tr>\n",
       "    <tr>\n",
       "      <th>21996</th>\n",
       "      <td>ใน พศ  หลักจากที่เสด็จประพาสแหลมมลายู ชวา อินเดียทรงได้พบอดียรองกงสุลอังกฤษ นายเฮนรี่ อลาบาสเตอร์ ได้กราบบังคมทูลถวายคำแนะนำในสำรวจและทำแผนที่ จึงได้ทรงพระกรุณาโปรดเกล้าฯ ให้ตั้งกองทำแผนที่ทดลอง ใน พศ</td>\n",
       "      <td>Thai</td>\n",
       "      <td>ใน พศ หล กจากท เสด จประพาสแหลมมลาย ชวา อ นเด ยทรงได พบอด ยรองกงส ลอ งกฤษ นายเฮนร อลาบาสเตอร ได กราบบ งคมท ลถวายคำแนะนำในสำรวจและทำแผนท จ งได ทรงพระกร ณาโปรดเกล าฯ ให ต งกองทำแผนท ทดลอง ใน พศ</td>\n",
       "    </tr>\n",
       "    <tr>\n",
       "      <th>21997</th>\n",
       "      <td>con motivo de la celebración del septuagésimoquinto ° aniversario de la fundación del departamento en  guillermo ceballos espinosa presentó a la gobernación de caldas por encargo de su titular dilia estrada de gómez el himno que fue ado...</td>\n",
       "      <td>Spanish</td>\n",
       "      <td>con motivo de la celebración del septuagésimoquinto aniversario de la fundación del departamento en guillermo ceballos espinosa presentó a la gobernación de caldas por encargo de su titular dilia estrada de gómez el himno que fue adopta...</td>\n",
       "    </tr>\n",
       "    <tr>\n",
       "      <th>21998</th>\n",
       "      <td>年月，當時還只有歲的她在美國出道，以mai-k名義推出首張英文《baby i like》，由美國的獨立廠牌bip·record發行，以外國輸入盤的形式在日本發售，旋即被抢购一空。其後於月日發行以倉木麻衣名義發行的首張日文單曲《love day after tomorrow》，正式於日本出道。這張單曲初動銷量只得約萬張，可是其後每週銷量一直上升，並於年月正式突破百萬銷量，合计万张。成為年最耀眼的新人歌手。</td>\n",
       "      <td>Chinese</td>\n",
       "      <td>年月 當時還只有歲的她在美國出道 以mai k名義推出首張英文 baby i like 由美國的獨立廠牌bip record發行 以外國輸入盤的形式在日本發售 旋即被抢购一空 其後於月日發行以倉木麻衣名義發行的首張日文單曲 love day after tomorrow 正式於日本出道 這張單曲初動銷量只得約萬張 可是其後每週銷量一直上升 並於年月正式突破百萬銷量 合计万张 成為年最耀眼的新人歌手</td>\n",
       "    </tr>\n",
       "    <tr>\n",
       "      <th>21999</th>\n",
       "      <td>aprilie sonda spațială messenger a nasa și-a încheiat misiunea de studiu de  ani prăbușindu-se pe suprafața planetei mercur sonda a rămas fără combustibil fiind împinsă de gravitația solară din ce în ce mai aproape de mercur</td>\n",
       "      <td>Romanian</td>\n",
       "      <td>aprilie sonda spațială messenger a nasa și a încheiat misiunea de studiu de ani prăbușindu se pe suprafața planetei mercur sonda a rămas fără combustibil fiind împinsă de gravitația solară din ce în ce mai aproape de mercur</td>\n",
       "    </tr>\n",
       "  </tbody>\n",
       "</table>\n",
       "<p>22000 rows × 3 columns</p>\n",
       "</div>"
      ],
      "text/plain": [
       "                                                                                                                                                                                                                                                  Text  \\\n",
       "0      klement gottwaldi surnukeha palsameeriti ning paigutati mausoleumi surnukeha oli aga liiga hilja ja oskamatult palsameeritud ning hakkas ilmutama lagunemise tundemärke  aastal viidi ta surnukeha mausoleumist ära ja kremeeriti zlíni linn...   \n",
       "1                                                                          sebes joseph pereira thomas  på eng the jesuits and the sino-russian treaty of nerchinsk  the diary of thomas pereira bibliotheca instituti historici s i --   rome libris    \n",
       "2      ถนนเจริญกรุง อักษรโรมัน thanon charoen krung เริ่มตั้งแต่ถนนสนามไชยถึงแม่น้ำเจ้าพระยาที่ถนนตก กรุงเทพมหานคร เป็นถนนรุ่นแรกที่ใช้เทคนิคการสร้างแบบตะวันตก ปัจจุบันผ่านพื้นที่เขตพระนคร เขตป้อมปราบศัตรูพ่าย เขตสัมพันธวงศ์ เขตบางรัก เขตสาทร ...   \n",
       "3      விசாகப்பட்டினம் தமிழ்ச்சங்கத்தை இந்துப் பத்திரிகை-விசாகப்பட்டின ஆசிரியர் சம்பத்துடன் இணைந்து விரிவுபடுத்தினார்  ஆண்டுகள் தொடர்ந்து செயலராக இருந்து தமிழ்மன்றத்தை நடத்திச் சென்றார்  கோவை செம்மொழி மாநாட்டில் \"தமிழ்ச்சங்கங்களும் தமிழும்\" என...   \n",
       "4                                                                     de spons behoort tot het geslacht haliclona en behoort tot de familie chalinidae de wetenschappelijke naam van de soort werd voor het eerst geldig gepubliceerd in  door kudelin   \n",
       "...                                                                                                                                                                                                                                                ...   \n",
       "21995  hors du terrain les années  et  sont des années de crise pour le championnat le titre de champion de france attise les convoitises et entraîne des dérives  violence sur les terrains et accusations d’amateurisme marron rythment de plus e...   \n",
       "21996                                        ใน พศ  หลักจากที่เสด็จประพาสแหลมมลายู ชวา อินเดียทรงได้พบอดียรองกงสุลอังกฤษ นายเฮนรี่ อลาบาสเตอร์ ได้กราบบังคมทูลถวายคำแนะนำในสำรวจและทำแผนที่ จึงได้ทรงพระกรุณาโปรดเกล้าฯ ให้ตั้งกองทำแผนที่ทดลอง ใน พศ    \n",
       "21997  con motivo de la celebración del septuagésimoquinto ° aniversario de la fundación del departamento en  guillermo ceballos espinosa presentó a la gobernación de caldas por encargo de su titular dilia estrada de gómez el himno que fue ado...   \n",
       "21998                                      年月，當時還只有歲的她在美國出道，以mai-k名義推出首張英文《baby i like》，由美國的獨立廠牌bip·record發行，以外國輸入盤的形式在日本發售，旋即被抢购一空。其後於月日發行以倉木麻衣名義發行的首張日文單曲《love day after tomorrow》，正式於日本出道。這張單曲初動銷量只得約萬張，可是其後每週銷量一直上升，並於年月正式突破百萬銷量，合计万张。成為年最耀眼的新人歌手。   \n",
       "21999                 aprilie sonda spațială messenger a nasa și-a încheiat misiunea de studiu de  ani prăbușindu-se pe suprafața planetei mercur sonda a rămas fără combustibil fiind împinsă de gravitația solară din ce în ce mai aproape de mercur   \n",
       "\n",
       "       language  \\\n",
       "0      Estonian   \n",
       "1       Swedish   \n",
       "2          Thai   \n",
       "3         Tamil   \n",
       "4         Dutch   \n",
       "...         ...   \n",
       "21995    French   \n",
       "21996      Thai   \n",
       "21997   Spanish   \n",
       "21998   Chinese   \n",
       "21999  Romanian   \n",
       "\n",
       "                                                                                                                                                                                                                                     preprocessed_text  \n",
       "0      klement gottwaldi surnukeha palsameeriti ning paigutati mausoleumi surnukeha oli aga liiga hilja ja oskamatult palsameeritud ning hakkas ilmutama lagunemise tundemärke aastal viidi ta surnukeha mausoleumist ära ja kremeeriti zlíni linn ...  \n",
       "1                                                                                  sebes joseph pereira thomas på eng the jesuits and the sino russian treaty of nerchinsk the diary of thomas pereira bibliotheca instituti historici s i rome libris  \n",
       "2      ถนนเจร ญกร ง อ กษรโรม น thanon charoen krung เร มต งแต ถนนสนามไชยถ งแม น ำเจ าพระยาท ถนนตก กร งเทพมหานคร เป นถนนร นแรกท ใช เทคน คการสร างแบบตะว นตก ป จจ บ นผ านพ นท เขตพระนคร เขตป อมปราบศ ตร พ าย เขตส มพ นธวงศ เขตบางร ก เขตสาทร และเขตบา...  \n",
       "3      வ ச கப பட ட னம தம ழ ச சங கத த இந த ப பத த ர க வ ச கப பட ட ன ஆச ர யர சம பத த டன இண ந த வ ர வ பட த த ன ர ஆண ட கள த டர ந த ச யலர க இர ந த தம ழ மன றத த நடத த ச ச ன ற ர க வ ச ம ம ழ ம ந ட ட ல தம ழ ச சங கங கள ம தம ழ ம என ம தல ப ப ல ப ற ம ந லங ...  \n",
       "4                                                                      de spons behoort tot het geslacht haliclona en behoort tot de familie chalinidae de wetenschappelijke naam van de soort werd voor het eerst geldig gepubliceerd in door kudelin  \n",
       "...                                                                                                                                                                                                                                                ...  \n",
       "21995  hors du terrain les années et sont des années de crise pour le championnat le titre de champion de france attise les convoitises et entraîne des dérives violence sur les terrains et accusations d amateurisme marron rythment de plus en p...  \n",
       "21996                                                   ใน พศ หล กจากท เสด จประพาสแหลมมลาย ชวา อ นเด ยทรงได พบอด ยรองกงส ลอ งกฤษ นายเฮนร อลาบาสเตอร ได กราบบ งคมท ลถวายคำแนะนำในสำรวจและทำแผนท จ งได ทรงพระกร ณาโปรดเกล าฯ ให ต งกองทำแผนท ทดลอง ใน พศ  \n",
       "21997  con motivo de la celebración del septuagésimoquinto aniversario de la fundación del departamento en guillermo ceballos espinosa presentó a la gobernación de caldas por encargo de su titular dilia estrada de gómez el himno que fue adopta...  \n",
       "21998                                         年月 當時還只有歲的她在美國出道 以mai k名義推出首張英文 baby i like 由美國的獨立廠牌bip record發行 以外國輸入盤的形式在日本發售 旋即被抢购一空 其後於月日發行以倉木麻衣名義發行的首張日文單曲 love day after tomorrow 正式於日本出道 這張單曲初動銷量只得約萬張 可是其後每週銷量一直上升 並於年月正式突破百萬銷量 合计万张 成為年最耀眼的新人歌手  \n",
       "21999                  aprilie sonda spațială messenger a nasa și a încheiat misiunea de studiu de ani prăbușindu se pe suprafața planetei mercur sonda a rămas fără combustibil fiind împinsă de gravitația solară din ce în ce mai aproape de mercur  \n",
       "\n",
       "[22000 rows x 3 columns]"
      ]
     },
     "execution_count": 5,
     "metadata": {},
     "output_type": "execute_result"
    }
   ],
   "source": [
    "#Deleting the Special Characters and Punctuation\n",
    "\n",
    "#This removes any characters that are not letters or numbers\n",
    "df['preprocessed_text'] = df['Text'].str.replace('\\W',' ') \n",
    "\n",
    "\n",
    "#Convert to lower case\n",
    "\n",
    "df['preprocessed_text'] = df['preprocessed_text'].apply(lambda x: \" \".join(x.lower() for x in x.split()))\n",
    "\n",
    "#Remove numbers\n",
    "df['preprocessed_text'] = df['preprocessed_text'].str.replace('\\d+','')\n",
    "\n",
    "df"
   ]
  },
  {
   "cell_type": "markdown",
   "id": "edb1a18f",
   "metadata": {
    "papermill": {
     "duration": 0.006343,
     "end_time": "2022-12-01T17:26:14.471960",
     "exception": false,
     "start_time": "2022-12-01T17:26:14.465617",
     "status": "completed"
    },
    "tags": []
   },
   "source": [
    "Remove duplicate text."
   ]
  },
  {
   "cell_type": "code",
   "execution_count": 6,
   "id": "f25c5d9e",
   "metadata": {
    "execution": {
     "iopub.execute_input": "2022-12-01T17:26:14.487919Z",
     "iopub.status.busy": "2022-12-01T17:26:14.486939Z",
     "iopub.status.idle": "2022-12-01T17:26:14.587612Z",
     "shell.execute_reply": "2022-12-01T17:26:14.585801Z"
    },
    "papermill": {
     "duration": 0.113102,
     "end_time": "2022-12-01T17:26:14.591763",
     "exception": false,
     "start_time": "2022-12-01T17:26:14.478661",
     "status": "completed"
    },
    "tags": []
   },
   "outputs": [
    {
     "name": "stdout",
     "output_type": "stream",
     "text": [
      "(21859, 3)\n"
     ]
    },
    {
     "data": {
      "text/html": [
       "<div>\n",
       "<style scoped>\n",
       "    .dataframe tbody tr th:only-of-type {\n",
       "        vertical-align: middle;\n",
       "    }\n",
       "\n",
       "    .dataframe tbody tr th {\n",
       "        vertical-align: top;\n",
       "    }\n",
       "\n",
       "    .dataframe thead th {\n",
       "        text-align: right;\n",
       "    }\n",
       "</style>\n",
       "<table border=\"1\" class=\"dataframe\">\n",
       "  <thead>\n",
       "    <tr style=\"text-align: right;\">\n",
       "      <th></th>\n",
       "      <th>Text</th>\n",
       "      <th>language</th>\n",
       "      <th>preprocessed_text</th>\n",
       "    </tr>\n",
       "  </thead>\n",
       "  <tbody>\n",
       "    <tr>\n",
       "      <th>0</th>\n",
       "      <td>klement gottwaldi surnukeha palsameeriti ning paigutati mausoleumi surnukeha oli aga liiga hilja ja oskamatult palsameeritud ning hakkas ilmutama lagunemise tundemärke  aastal viidi ta surnukeha mausoleumist ära ja kremeeriti zlíni linn...</td>\n",
       "      <td>Estonian</td>\n",
       "      <td>klement gottwaldi surnukeha palsameeriti ning paigutati mausoleumi surnukeha oli aga liiga hilja ja oskamatult palsameeritud ning hakkas ilmutama lagunemise tundemärke aastal viidi ta surnukeha mausoleumist ära ja kremeeriti zlíni linn ...</td>\n",
       "    </tr>\n",
       "    <tr>\n",
       "      <th>1</th>\n",
       "      <td>sebes joseph pereira thomas  på eng the jesuits and the sino-russian treaty of nerchinsk  the diary of thomas pereira bibliotheca instituti historici s i --   rome libris</td>\n",
       "      <td>Swedish</td>\n",
       "      <td>sebes joseph pereira thomas på eng the jesuits and the sino russian treaty of nerchinsk the diary of thomas pereira bibliotheca instituti historici s i rome libris</td>\n",
       "    </tr>\n",
       "    <tr>\n",
       "      <th>2</th>\n",
       "      <td>ถนนเจริญกรุง อักษรโรมัน thanon charoen krung เริ่มตั้งแต่ถนนสนามไชยถึงแม่น้ำเจ้าพระยาที่ถนนตก กรุงเทพมหานคร เป็นถนนรุ่นแรกที่ใช้เทคนิคการสร้างแบบตะวันตก ปัจจุบันผ่านพื้นที่เขตพระนคร เขตป้อมปราบศัตรูพ่าย เขตสัมพันธวงศ์ เขตบางรัก เขตสาทร ...</td>\n",
       "      <td>Thai</td>\n",
       "      <td>ถนนเจร ญกร ง อ กษรโรม น thanon charoen krung เร มต งแต ถนนสนามไชยถ งแม น ำเจ าพระยาท ถนนตก กร งเทพมหานคร เป นถนนร นแรกท ใช เทคน คการสร างแบบตะว นตก ป จจ บ นผ านพ นท เขตพระนคร เขตป อมปราบศ ตร พ าย เขตส มพ นธวงศ เขตบางร ก เขตสาทร และเขตบา...</td>\n",
       "    </tr>\n",
       "    <tr>\n",
       "      <th>3</th>\n",
       "      <td>விசாகப்பட்டினம் தமிழ்ச்சங்கத்தை இந்துப் பத்திரிகை-விசாகப்பட்டின ஆசிரியர் சம்பத்துடன் இணைந்து விரிவுபடுத்தினார்  ஆண்டுகள் தொடர்ந்து செயலராக இருந்து தமிழ்மன்றத்தை நடத்திச் சென்றார்  கோவை செம்மொழி மாநாட்டில் \"தமிழ்ச்சங்கங்களும் தமிழும்\" என...</td>\n",
       "      <td>Tamil</td>\n",
       "      <td>வ ச கப பட ட னம தம ழ ச சங கத த இந த ப பத த ர க வ ச கப பட ட ன ஆச ர யர சம பத த டன இண ந த வ ர வ பட த த ன ர ஆண ட கள த டர ந த ச யலர க இர ந த தம ழ மன றத த நடத த ச ச ன ற ர க வ ச ம ம ழ ம ந ட ட ல தம ழ ச சங கங கள ம தம ழ ம என ம தல ப ப ல ப ற ம ந லங ...</td>\n",
       "    </tr>\n",
       "    <tr>\n",
       "      <th>4</th>\n",
       "      <td>de spons behoort tot het geslacht haliclona en behoort tot de familie chalinidae de wetenschappelijke naam van de soort werd voor het eerst geldig gepubliceerd in  door kudelin</td>\n",
       "      <td>Dutch</td>\n",
       "      <td>de spons behoort tot het geslacht haliclona en behoort tot de familie chalinidae de wetenschappelijke naam van de soort werd voor het eerst geldig gepubliceerd in door kudelin</td>\n",
       "    </tr>\n",
       "    <tr>\n",
       "      <th>5</th>\n",
       "      <td>エノが行きがかりでバスに乗ってしまい、気分が悪くなった際に助けるが、今すぐバスを降りたいと運転手に頼む際、本当のことを言ってしまうと彼女が恥ずかしい思いをすると察して「僕ウンコしたいんです」と言ってバスを降りた。エノは内心「私もしたいみたいじゃないの」と思うも、別れ際にエノの髪を「ふわふわのお菓子みたい」と言い、この台詞に憧れていたエノに強い衝撃を与えた。この話を聞いたリコは、以後彼のことを『ウンコ王子』または『ウンコ』というあだ名で呼ぶようになったが、エノは普通に「...</td>\n",
       "      <td>Japanese</td>\n",
       "      <td>エノが行きがかりでバスに乗ってしまい 気分が悪くなった際に助けるが 今すぐバスを降りたいと運転手に頼む際 本当のことを言ってしまうと彼女が恥ずかしい思いをすると察して 僕ウンコしたいんです と言ってバスを降りた エノは内心 私もしたいみたいじゃないの と思うも 別れ際にエノの髪を ふわふわのお菓子みたい と言い この台詞に憧れていたエノに強い衝撃を与えた この話を聞いたリコは 以後彼のことを ウンコ王子 または ウンコ というあだ名で呼ぶようになったが エノは普通に ...</td>\n",
       "    </tr>\n",
       "    <tr>\n",
       "      <th>6</th>\n",
       "      <td>tsutinalar i̇ngilizce tsuutina kanadada alberta bölgesinde calgaryde yaşarlar tek başına grup oluştururlar ve pasifik ve güney atabaskları ile antik yakınlıklar göstermiştir</td>\n",
       "      <td>Turkish</td>\n",
       "      <td>tsutinalar i ngilizce tsuutina kanadada alberta bölgesinde calgaryde yaşarlar tek başına grup oluştururlar ve pasifik ve güney atabaskları ile antik yakınlıklar göstermiştir</td>\n",
       "    </tr>\n",
       "    <tr>\n",
       "      <th>7</th>\n",
       "      <td>müller mox figura centralis circulorum doctorum vindobonesium fiebat quibus intererant petrus altenberg albertus ehrenstein egon friedell anscharius kokoschka adolphus loos egon schiele et alii</td>\n",
       "      <td>Latin</td>\n",
       "      <td>müller mox figura centralis circulorum doctorum vindobonesium fiebat quibus intererant petrus altenberg albertus ehrenstein egon friedell anscharius kokoschka adolphus loos egon schiele et alii</td>\n",
       "    </tr>\n",
       "    <tr>\n",
       "      <th>8</th>\n",
       "      <td>برقی بار electric charge تمام زیرجوہری ذرات کی ا یک بنیادی محفوظہ conserved خصوصیت ہے جو انکے برقناطیسی تفاعلات کا تعین کرتی ہے۔ اس بات یوں بھی کہ سکتے ہیں کہ برقی بار کا حامل ذرہ یا مادہ  ایک برقناطیسی میدان کی وجہ سے متاثر ہوتا ہے یا ...</td>\n",
       "      <td>Urdu</td>\n",
       "      <td>برقی بار electric charge تمام زیرجوہری ذرات کی ا یک بنیادی محفوظہ conserved خصوصیت ہے جو انکے برقناطیسی تفاعلات کا تعین کرتی ہے اس بات یوں بھی کہ سکتے ہیں کہ برقی بار کا حامل ذرہ یا مادہ ایک برقناطیسی میدان کی وجہ سے متاثر ہوتا ہے یا اس...</td>\n",
       "    </tr>\n",
       "    <tr>\n",
       "      <th>9</th>\n",
       "      <td>シャーリー・フィールドは、サン・ベルナルド・アベニュー沿い市民センターとrtマーティン高校に隣接してある。年にマーティン高校と共に建設された。ラレド独立学区のアウトドア・アスレチックがあり、毎年ボーダー・オリンピックが開催される。通常席だが、エンドゾーンに追加席を加えることで席まで拡大できる。メキシコのプロ・サッカークラブがここで様々な練習試合を行い、天然芝が「良い」サッカー試合を作るとしている。フットボール、サッカーおよび陸上競技が行われる。この歴史ある競技場に大き...</td>\n",
       "      <td>Japanese</td>\n",
       "      <td>シャーリー フィールドは サン ベルナルド アベニュー沿い市民センターとrtマーティン高校に隣接してある 年にマーティン高校と共に建設された ラレド独立学区のアウトドア アスレチックがあり 毎年ボーダー オリンピックが開催される 通常席だが エンドゾーンに追加席を加えることで席まで拡大できる メキシコのプロ サッカークラブがここで様々な練習試合を行い 天然芝が 良い サッカー試合を作るとしている フットボール サッカーおよび陸上競技が行われる この歴史ある競技場に大き...</td>\n",
       "    </tr>\n",
       "  </tbody>\n",
       "</table>\n",
       "</div>"
      ],
      "text/plain": [
       "                                                                                                                                                                                                                                              Text  \\\n",
       "0  klement gottwaldi surnukeha palsameeriti ning paigutati mausoleumi surnukeha oli aga liiga hilja ja oskamatult palsameeritud ning hakkas ilmutama lagunemise tundemärke  aastal viidi ta surnukeha mausoleumist ära ja kremeeriti zlíni linn...   \n",
       "1                                                                      sebes joseph pereira thomas  på eng the jesuits and the sino-russian treaty of nerchinsk  the diary of thomas pereira bibliotheca instituti historici s i --   rome libris    \n",
       "2  ถนนเจริญกรุง อักษรโรมัน thanon charoen krung เริ่มตั้งแต่ถนนสนามไชยถึงแม่น้ำเจ้าพระยาที่ถนนตก กรุงเทพมหานคร เป็นถนนรุ่นแรกที่ใช้เทคนิคการสร้างแบบตะวันตก ปัจจุบันผ่านพื้นที่เขตพระนคร เขตป้อมปราบศัตรูพ่าย เขตสัมพันธวงศ์ เขตบางรัก เขตสาทร ...   \n",
       "3  விசாகப்பட்டினம் தமிழ்ச்சங்கத்தை இந்துப் பத்திரிகை-விசாகப்பட்டின ஆசிரியர் சம்பத்துடன் இணைந்து விரிவுபடுத்தினார்  ஆண்டுகள் தொடர்ந்து செயலராக இருந்து தமிழ்மன்றத்தை நடத்திச் சென்றார்  கோவை செம்மொழி மாநாட்டில் \"தமிழ்ச்சங்கங்களும் தமிழும்\" என...   \n",
       "4                                                                 de spons behoort tot het geslacht haliclona en behoort tot de familie chalinidae de wetenschappelijke naam van de soort werd voor het eerst geldig gepubliceerd in  door kudelin   \n",
       "5  エノが行きがかりでバスに乗ってしまい、気分が悪くなった際に助けるが、今すぐバスを降りたいと運転手に頼む際、本当のことを言ってしまうと彼女が恥ずかしい思いをすると察して「僕ウンコしたいんです」と言ってバスを降りた。エノは内心「私もしたいみたいじゃないの」と思うも、別れ際にエノの髪を「ふわふわのお菓子みたい」と言い、この台詞に憧れていたエノに強い衝撃を与えた。この話を聞いたリコは、以後彼のことを『ウンコ王子』または『ウンコ』というあだ名で呼ぶようになったが、エノは普通に「...   \n",
       "6                                                                    tsutinalar i̇ngilizce tsuutina kanadada alberta bölgesinde calgaryde yaşarlar tek başına grup oluştururlar ve pasifik ve güney atabaskları ile antik yakınlıklar göstermiştir   \n",
       "7                                                müller mox figura centralis circulorum doctorum vindobonesium fiebat quibus intererant petrus altenberg albertus ehrenstein egon friedell anscharius kokoschka adolphus loos egon schiele et alii   \n",
       "8  برقی بار electric charge تمام زیرجوہری ذرات کی ا یک بنیادی محفوظہ conserved خصوصیت ہے جو انکے برقناطیسی تفاعلات کا تعین کرتی ہے۔ اس بات یوں بھی کہ سکتے ہیں کہ برقی بار کا حامل ذرہ یا مادہ  ایک برقناطیسی میدان کی وجہ سے متاثر ہوتا ہے یا ...   \n",
       "9  シャーリー・フィールドは、サン・ベルナルド・アベニュー沿い市民センターとrtマーティン高校に隣接してある。年にマーティン高校と共に建設された。ラレド独立学区のアウトドア・アスレチックがあり、毎年ボーダー・オリンピックが開催される。通常席だが、エンドゾーンに追加席を加えることで席まで拡大できる。メキシコのプロ・サッカークラブがここで様々な練習試合を行い、天然芝が「良い」サッカー試合を作るとしている。フットボール、サッカーおよび陸上競技が行われる。この歴史ある競技場に大き...   \n",
       "\n",
       "   language  \\\n",
       "0  Estonian   \n",
       "1   Swedish   \n",
       "2      Thai   \n",
       "3     Tamil   \n",
       "4     Dutch   \n",
       "5  Japanese   \n",
       "6   Turkish   \n",
       "7     Latin   \n",
       "8      Urdu   \n",
       "9  Japanese   \n",
       "\n",
       "                                                                                                                                                                                                                                 preprocessed_text  \n",
       "0  klement gottwaldi surnukeha palsameeriti ning paigutati mausoleumi surnukeha oli aga liiga hilja ja oskamatult palsameeritud ning hakkas ilmutama lagunemise tundemärke aastal viidi ta surnukeha mausoleumist ära ja kremeeriti zlíni linn ...  \n",
       "1                                                                              sebes joseph pereira thomas på eng the jesuits and the sino russian treaty of nerchinsk the diary of thomas pereira bibliotheca instituti historici s i rome libris  \n",
       "2  ถนนเจร ญกร ง อ กษรโรม น thanon charoen krung เร มต งแต ถนนสนามไชยถ งแม น ำเจ าพระยาท ถนนตก กร งเทพมหานคร เป นถนนร นแรกท ใช เทคน คการสร างแบบตะว นตก ป จจ บ นผ านพ นท เขตพระนคร เขตป อมปราบศ ตร พ าย เขตส มพ นธวงศ เขตบางร ก เขตสาทร และเขตบา...  \n",
       "3  வ ச கப பட ட னம தம ழ ச சங கத த இந த ப பத த ர க வ ச கப பட ட ன ஆச ர யர சம பத த டன இண ந த வ ர வ பட த த ன ர ஆண ட கள த டர ந த ச யலர க இர ந த தம ழ மன றத த நடத த ச ச ன ற ர க வ ச ம ம ழ ம ந ட ட ல தம ழ ச சங கங கள ம தம ழ ம என ம தல ப ப ல ப ற ம ந லங ...  \n",
       "4                                                                  de spons behoort tot het geslacht haliclona en behoort tot de familie chalinidae de wetenschappelijke naam van de soort werd voor het eerst geldig gepubliceerd in door kudelin  \n",
       "5  エノが行きがかりでバスに乗ってしまい 気分が悪くなった際に助けるが 今すぐバスを降りたいと運転手に頼む際 本当のことを言ってしまうと彼女が恥ずかしい思いをすると察して 僕ウンコしたいんです と言ってバスを降りた エノは内心 私もしたいみたいじゃないの と思うも 別れ際にエノの髪を ふわふわのお菓子みたい と言い この台詞に憧れていたエノに強い衝撃を与えた この話を聞いたリコは 以後彼のことを ウンコ王子 または ウンコ というあだ名で呼ぶようになったが エノは普通に ...  \n",
       "6                                                                    tsutinalar i ngilizce tsuutina kanadada alberta bölgesinde calgaryde yaşarlar tek başına grup oluştururlar ve pasifik ve güney atabaskları ile antik yakınlıklar göstermiştir  \n",
       "7                                                müller mox figura centralis circulorum doctorum vindobonesium fiebat quibus intererant petrus altenberg albertus ehrenstein egon friedell anscharius kokoschka adolphus loos egon schiele et alii  \n",
       "8  برقی بار electric charge تمام زیرجوہری ذرات کی ا یک بنیادی محفوظہ conserved خصوصیت ہے جو انکے برقناطیسی تفاعلات کا تعین کرتی ہے اس بات یوں بھی کہ سکتے ہیں کہ برقی بار کا حامل ذرہ یا مادہ ایک برقناطیسی میدان کی وجہ سے متاثر ہوتا ہے یا اس...  \n",
       "9  シャーリー フィールドは サン ベルナルド アベニュー沿い市民センターとrtマーティン高校に隣接してある 年にマーティン高校と共に建設された ラレド独立学区のアウトドア アスレチックがあり 毎年ボーダー オリンピックが開催される 通常席だが エンドゾーンに追加席を加えることで席まで拡大できる メキシコのプロ サッカークラブがここで様々な練習試合を行い 天然芝が 良い サッカー試合を作るとしている フットボール サッカーおよび陸上競技が行われる この歴史ある競技場に大き...  "
      ]
     },
     "execution_count": 6,
     "metadata": {},
     "output_type": "execute_result"
    }
   ],
   "source": [
    "#Delete the Punctuation\n",
    "\n",
    "#df['preprocessed_text'] = df['preprocessed_text'].str.replace('[^\\w\\s]', '')\n",
    "#df['preprocessed_text'].head()\n",
    "\n",
    "\n",
    "df.drop_duplicates(subset=['Text'],keep='first',inplace=True)\n",
    "print(df.shape)\n",
    "df.head(10)"
   ]
  },
  {
   "cell_type": "markdown",
   "id": "10932936",
   "metadata": {
    "papermill": {
     "duration": 0.007015,
     "end_time": "2022-12-01T17:26:14.606373",
     "exception": false,
     "start_time": "2022-12-01T17:26:14.599358",
     "status": "completed"
    },
    "tags": []
   },
   "source": [
    "### Data Analysis\n",
    "\n",
    "To start the analysis, we will count how many text sample there is for each language and plotted to an histogram to visualize the distribution of the text sample across the languages."
   ]
  },
  {
   "cell_type": "code",
   "execution_count": 7,
   "id": "77278f64",
   "metadata": {
    "execution": {
     "iopub.execute_input": "2022-12-01T17:26:14.622800Z",
     "iopub.status.busy": "2022-12-01T17:26:14.622277Z",
     "iopub.status.idle": "2022-12-01T17:26:14.635967Z",
     "shell.execute_reply": "2022-12-01T17:26:14.634755Z"
    },
    "papermill": {
     "duration": 0.024984,
     "end_time": "2022-12-01T17:26:14.638552",
     "exception": false,
     "start_time": "2022-12-01T17:26:14.613568",
     "status": "completed"
    },
    "tags": []
   },
   "outputs": [
    {
     "data": {
      "text/plain": [
       "Chinese       1000\n",
       "Thai          1000\n",
       "English       1000\n",
       "Japanese      1000\n",
       "Turkish       1000\n",
       "Romanian      1000\n",
       "Urdu          1000\n",
       "Persian       1000\n",
       "Korean        1000\n",
       "Estonian       999\n",
       "Russian        999\n",
       "Arabic         998\n",
       "Portugese      997\n",
       "Spanish        996\n",
       "Dutch          996\n",
       "Pushto         993\n",
       "Swedish        992\n",
       "Hindi          990\n",
       "French         990\n",
       "Tamil          981\n",
       "Indonesian     975\n",
       "Latin          953\n",
       "Name: language, dtype: int64"
      ]
     },
     "execution_count": 7,
     "metadata": {},
     "output_type": "execute_result"
    }
   ],
   "source": [
    "df['language'].value_counts()"
   ]
  },
  {
   "cell_type": "code",
   "execution_count": 8,
   "id": "8d2233b2",
   "metadata": {
    "execution": {
     "iopub.execute_input": "2022-12-01T17:26:14.655969Z",
     "iopub.status.busy": "2022-12-01T17:26:14.655068Z",
     "iopub.status.idle": "2022-12-01T17:26:15.147740Z",
     "shell.execute_reply": "2022-12-01T17:26:15.146034Z"
    },
    "papermill": {
     "duration": 0.505523,
     "end_time": "2022-12-01T17:26:15.151471",
     "exception": false,
     "start_time": "2022-12-01T17:26:14.645948",
     "status": "completed"
    },
    "tags": []
   },
   "outputs": [
    {
     "data": {
      "text/plain": [
       "<AxesSubplot:>"
      ]
     },
     "execution_count": 8,
     "metadata": {},
     "output_type": "execute_result"
    },
    {
     "data": {
      "image/png": "[encoded data removed]",
      "text/plain": [
       "<Figure size 1080x1800 with 1 Axes>"
      ]
     },
     "metadata": {
      "needs_background": "light"
     },
     "output_type": "display_data"
    }
   ],
   "source": [
    "plt.figure(figsize=(15,25))\n",
    "\n",
    "\n",
    "df['language'].value_counts().sort_values().plot(kind = 'barh')"
   ]
  },
  {
   "cell_type": "markdown",
   "id": "6eedd184",
   "metadata": {
    "papermill": {
     "duration": 0.007812,
     "end_time": "2022-12-01T17:26:15.167808",
     "exception": false,
     "start_time": "2022-12-01T17:26:15.159996",
     "status": "completed"
    },
    "tags": []
   },
   "source": [
    "Then, we will look at the word count and lenght of each text sample."
   ]
  },
  {
   "cell_type": "code",
   "execution_count": 9,
   "id": "0d423611",
   "metadata": {
    "execution": {
     "iopub.execute_input": "2022-12-01T17:26:15.186304Z",
     "iopub.status.busy": "2022-12-01T17:26:15.185745Z",
     "iopub.status.idle": "2022-12-01T17:26:15.352134Z",
     "shell.execute_reply": "2022-12-01T17:26:15.350912Z"
    },
    "papermill": {
     "duration": 0.179001,
     "end_time": "2022-12-01T17:26:15.354914",
     "exception": false,
     "start_time": "2022-12-01T17:26:15.175913",
     "status": "completed"
    },
    "tags": []
   },
   "outputs": [
    {
     "data": {
      "text/html": [
       "<div>\n",
       "<style scoped>\n",
       "    .dataframe tbody tr th:only-of-type {\n",
       "        vertical-align: middle;\n",
       "    }\n",
       "\n",
       "    .dataframe tbody tr th {\n",
       "        vertical-align: top;\n",
       "    }\n",
       "\n",
       "    .dataframe thead th {\n",
       "        text-align: right;\n",
       "    }\n",
       "</style>\n",
       "<table border=\"1\" class=\"dataframe\">\n",
       "  <thead>\n",
       "    <tr style=\"text-align: right;\">\n",
       "      <th></th>\n",
       "      <th>Text</th>\n",
       "      <th>language</th>\n",
       "      <th>preprocessed_text</th>\n",
       "      <th>text_len</th>\n",
       "      <th>word_count</th>\n",
       "    </tr>\n",
       "  </thead>\n",
       "  <tbody>\n",
       "    <tr>\n",
       "      <th>0</th>\n",
       "      <td>klement gottwaldi surnukeha palsameeriti ning paigutati mausoleumi surnukeha oli aga liiga hilja ja oskamatult palsameeritud ning hakkas ilmutama lagunemise tundemärke  aastal viidi ta surnukeha mausoleumist ära ja kremeeriti zlíni linn...</td>\n",
       "      <td>Estonian</td>\n",
       "      <td>klement gottwaldi surnukeha palsameeriti ning paigutati mausoleumi surnukeha oli aga liiga hilja ja oskamatult palsameeritud ning hakkas ilmutama lagunemise tundemärke aastal viidi ta surnukeha mausoleumist ära ja kremeeriti zlíni linn ...</td>\n",
       "      <td>334</td>\n",
       "      <td>43</td>\n",
       "    </tr>\n",
       "    <tr>\n",
       "      <th>1</th>\n",
       "      <td>sebes joseph pereira thomas  på eng the jesuits and the sino-russian treaty of nerchinsk  the diary of thomas pereira bibliotheca instituti historici s i --   rome libris</td>\n",
       "      <td>Swedish</td>\n",
       "      <td>sebes joseph pereira thomas på eng the jesuits and the sino russian treaty of nerchinsk the diary of thomas pereira bibliotheca instituti historici s i rome libris</td>\n",
       "      <td>163</td>\n",
       "      <td>27</td>\n",
       "    </tr>\n",
       "    <tr>\n",
       "      <th>2</th>\n",
       "      <td>ถนนเจริญกรุง อักษรโรมัน thanon charoen krung เริ่มตั้งแต่ถนนสนามไชยถึงแม่น้ำเจ้าพระยาที่ถนนตก กรุงเทพมหานคร เป็นถนนรุ่นแรกที่ใช้เทคนิคการสร้างแบบตะวันตก ปัจจุบันผ่านพื้นที่เขตพระนคร เขตป้อมปราบศัตรูพ่าย เขตสัมพันธวงศ์ เขตบางรัก เขตสาทร ...</td>\n",
       "      <td>Thai</td>\n",
       "      <td>ถนนเจร ญกร ง อ กษรโรม น thanon charoen krung เร มต งแต ถนนสนามไชยถ งแม น ำเจ าพระยาท ถนนตก กร งเทพมหานคร เป นถนนร นแรกท ใช เทคน คการสร างแบบตะว นตก ป จจ บ นผ านพ นท เขตพระนคร เขตป อมปราบศ ตร พ าย เขตส มพ นธวงศ เขตบางร ก เขตสาทร และเขตบา...</td>\n",
       "      <td>243</td>\n",
       "      <td>47</td>\n",
       "    </tr>\n",
       "    <tr>\n",
       "      <th>3</th>\n",
       "      <td>விசாகப்பட்டினம் தமிழ்ச்சங்கத்தை இந்துப் பத்திரிகை-விசாகப்பட்டின ஆசிரியர் சம்பத்துடன் இணைந்து விரிவுபடுத்தினார்  ஆண்டுகள் தொடர்ந்து செயலராக இருந்து தமிழ்மன்றத்தை நடத்திச் சென்றார்  கோவை செம்மொழி மாநாட்டில் \"தமிழ்ச்சங்கங்களும் தமிழும்\" என...</td>\n",
       "      <td>Tamil</td>\n",
       "      <td>வ ச கப பட ட னம தம ழ ச சங கத த இந த ப பத த ர க வ ச கப பட ட ன ஆச ர யர சம பத த டன இண ந த வ ர வ பட த த ன ர ஆண ட கள த டர ந த ச யலர க இர ந த தம ழ மன றத த நடத த ச ச ன ற ர க வ ச ம ம ழ ம ந ட ட ல தம ழ ச சங கங கள ம தம ழ ம என ம தல ப ப ல ப ற ம ந லங ...</td>\n",
       "      <td>275</td>\n",
       "      <td>117</td>\n",
       "    </tr>\n",
       "    <tr>\n",
       "      <th>4</th>\n",
       "      <td>de spons behoort tot het geslacht haliclona en behoort tot de familie chalinidae de wetenschappelijke naam van de soort werd voor het eerst geldig gepubliceerd in  door kudelin</td>\n",
       "      <td>Dutch</td>\n",
       "      <td>de spons behoort tot het geslacht haliclona en behoort tot de familie chalinidae de wetenschappelijke naam van de soort werd voor het eerst geldig gepubliceerd in door kudelin</td>\n",
       "      <td>175</td>\n",
       "      <td>28</td>\n",
       "    </tr>\n",
       "    <tr>\n",
       "      <th>...</th>\n",
       "      <td>...</td>\n",
       "      <td>...</td>\n",
       "      <td>...</td>\n",
       "      <td>...</td>\n",
       "      <td>...</td>\n",
       "    </tr>\n",
       "    <tr>\n",
       "      <th>21995</th>\n",
       "      <td>hors du terrain les années  et  sont des années de crise pour le championnat le titre de champion de france attise les convoitises et entraîne des dérives  violence sur les terrains et accusations d’amateurisme marron rythment de plus e...</td>\n",
       "      <td>French</td>\n",
       "      <td>hors du terrain les années et sont des années de crise pour le championnat le titre de champion de france attise les convoitises et entraîne des dérives violence sur les terrains et accusations d amateurisme marron rythment de plus en p...</td>\n",
       "      <td>1120</td>\n",
       "      <td>189</td>\n",
       "    </tr>\n",
       "    <tr>\n",
       "      <th>21996</th>\n",
       "      <td>ใน พศ  หลักจากที่เสด็จประพาสแหลมมลายู ชวา อินเดียทรงได้พบอดียรองกงสุลอังกฤษ นายเฮนรี่ อลาบาสเตอร์ ได้กราบบังคมทูลถวายคำแนะนำในสำรวจและทำแผนที่ จึงได้ทรงพระกรุณาโปรดเกล้าฯ ให้ตั้งกองทำแผนที่ทดลอง ใน พศ</td>\n",
       "      <td>Thai</td>\n",
       "      <td>ใน พศ หล กจากท เสด จประพาสแหลมมลาย ชวา อ นเด ยทรงได พบอด ยรองกงส ลอ งกฤษ นายเฮนร อลาบาสเตอร ได กราบบ งคมท ลถวายคำแนะนำในสำรวจและทำแผนท จ งได ทรงพระกร ณาโปรดเกล าฯ ให ต งกองทำแผนท ทดลอง ใน พศ</td>\n",
       "      <td>190</td>\n",
       "      <td>31</td>\n",
       "    </tr>\n",
       "    <tr>\n",
       "      <th>21997</th>\n",
       "      <td>con motivo de la celebración del septuagésimoquinto ° aniversario de la fundación del departamento en  guillermo ceballos espinosa presentó a la gobernación de caldas por encargo de su titular dilia estrada de gómez el himno que fue ado...</td>\n",
       "      <td>Spanish</td>\n",
       "      <td>con motivo de la celebración del septuagésimoquinto aniversario de la fundación del departamento en guillermo ceballos espinosa presentó a la gobernación de caldas por encargo de su titular dilia estrada de gómez el himno que fue adopta...</td>\n",
       "      <td>426</td>\n",
       "      <td>67</td>\n",
       "    </tr>\n",
       "    <tr>\n",
       "      <th>21998</th>\n",
       "      <td>年月，當時還只有歲的她在美國出道，以mai-k名義推出首張英文《baby i like》，由美國的獨立廠牌bip·record發行，以外國輸入盤的形式在日本發售，旋即被抢购一空。其後於月日發行以倉木麻衣名義發行的首張日文單曲《love day after tomorrow》，正式於日本出道。這張單曲初動銷量只得約萬張，可是其後每週銷量一直上升，並於年月正式突破百萬銷量，合计万张。成為年最耀眼的新人歌手。</td>\n",
       "      <td>Chinese</td>\n",
       "      <td>年月 當時還只有歲的她在美國出道 以mai k名義推出首張英文 baby i like 由美國的獨立廠牌bip record發行 以外國輸入盤的形式在日本發售 旋即被抢购一空 其後於月日發行以倉木麻衣名義發行的首張日文單曲 love day after tomorrow 正式於日本出道 這張單曲初動銷量只得約萬張 可是其後每週銷量一直上升 並於年月正式突破百萬銷量 合计万张 成為年最耀眼的新人歌手</td>\n",
       "      <td>200</td>\n",
       "      <td>22</td>\n",
       "    </tr>\n",
       "    <tr>\n",
       "      <th>21999</th>\n",
       "      <td>aprilie sonda spațială messenger a nasa și-a încheiat misiunea de studiu de  ani prăbușindu-se pe suprafața planetei mercur sonda a rămas fără combustibil fiind împinsă de gravitația solară din ce în ce mai aproape de mercur</td>\n",
       "      <td>Romanian</td>\n",
       "      <td>aprilie sonda spațială messenger a nasa și a încheiat misiunea de studiu de ani prăbușindu se pe suprafața planetei mercur sonda a rămas fără combustibil fiind împinsă de gravitația solară din ce în ce mai aproape de mercur</td>\n",
       "      <td>223</td>\n",
       "      <td>38</td>\n",
       "    </tr>\n",
       "  </tbody>\n",
       "</table>\n",
       "<p>21859 rows × 5 columns</p>\n",
       "</div>"
      ],
      "text/plain": [
       "                                                                                                                                                                                                                                                  Text  \\\n",
       "0      klement gottwaldi surnukeha palsameeriti ning paigutati mausoleumi surnukeha oli aga liiga hilja ja oskamatult palsameeritud ning hakkas ilmutama lagunemise tundemärke  aastal viidi ta surnukeha mausoleumist ära ja kremeeriti zlíni linn...   \n",
       "1                                                                          sebes joseph pereira thomas  på eng the jesuits and the sino-russian treaty of nerchinsk  the diary of thomas pereira bibliotheca instituti historici s i --   rome libris    \n",
       "2      ถนนเจริญกรุง อักษรโรมัน thanon charoen krung เริ่มตั้งแต่ถนนสนามไชยถึงแม่น้ำเจ้าพระยาที่ถนนตก กรุงเทพมหานคร เป็นถนนรุ่นแรกที่ใช้เทคนิคการสร้างแบบตะวันตก ปัจจุบันผ่านพื้นที่เขตพระนคร เขตป้อมปราบศัตรูพ่าย เขตสัมพันธวงศ์ เขตบางรัก เขตสาทร ...   \n",
       "3      விசாகப்பட்டினம் தமிழ்ச்சங்கத்தை இந்துப் பத்திரிகை-விசாகப்பட்டின ஆசிரியர் சம்பத்துடன் இணைந்து விரிவுபடுத்தினார்  ஆண்டுகள் தொடர்ந்து செயலராக இருந்து தமிழ்மன்றத்தை நடத்திச் சென்றார்  கோவை செம்மொழி மாநாட்டில் \"தமிழ்ச்சங்கங்களும் தமிழும்\" என...   \n",
       "4                                                                     de spons behoort tot het geslacht haliclona en behoort tot de familie chalinidae de wetenschappelijke naam van de soort werd voor het eerst geldig gepubliceerd in  door kudelin   \n",
       "...                                                                                                                                                                                                                                                ...   \n",
       "21995  hors du terrain les années  et  sont des années de crise pour le championnat le titre de champion de france attise les convoitises et entraîne des dérives  violence sur les terrains et accusations d’amateurisme marron rythment de plus e...   \n",
       "21996                                        ใน พศ  หลักจากที่เสด็จประพาสแหลมมลายู ชวา อินเดียทรงได้พบอดียรองกงสุลอังกฤษ นายเฮนรี่ อลาบาสเตอร์ ได้กราบบังคมทูลถวายคำแนะนำในสำรวจและทำแผนที่ จึงได้ทรงพระกรุณาโปรดเกล้าฯ ให้ตั้งกองทำแผนที่ทดลอง ใน พศ    \n",
       "21997  con motivo de la celebración del septuagésimoquinto ° aniversario de la fundación del departamento en  guillermo ceballos espinosa presentó a la gobernación de caldas por encargo de su titular dilia estrada de gómez el himno que fue ado...   \n",
       "21998                                      年月，當時還只有歲的她在美國出道，以mai-k名義推出首張英文《baby i like》，由美國的獨立廠牌bip·record發行，以外國輸入盤的形式在日本發售，旋即被抢购一空。其後於月日發行以倉木麻衣名義發行的首張日文單曲《love day after tomorrow》，正式於日本出道。這張單曲初動銷量只得約萬張，可是其後每週銷量一直上升，並於年月正式突破百萬銷量，合计万张。成為年最耀眼的新人歌手。   \n",
       "21999                 aprilie sonda spațială messenger a nasa și-a încheiat misiunea de studiu de  ani prăbușindu-se pe suprafața planetei mercur sonda a rămas fără combustibil fiind împinsă de gravitația solară din ce în ce mai aproape de mercur   \n",
       "\n",
       "       language  \\\n",
       "0      Estonian   \n",
       "1       Swedish   \n",
       "2          Thai   \n",
       "3         Tamil   \n",
       "4         Dutch   \n",
       "...         ...   \n",
       "21995    French   \n",
       "21996      Thai   \n",
       "21997   Spanish   \n",
       "21998   Chinese   \n",
       "21999  Romanian   \n",
       "\n",
       "                                                                                                                                                                                                                                     preprocessed_text  \\\n",
       "0      klement gottwaldi surnukeha palsameeriti ning paigutati mausoleumi surnukeha oli aga liiga hilja ja oskamatult palsameeritud ning hakkas ilmutama lagunemise tundemärke aastal viidi ta surnukeha mausoleumist ära ja kremeeriti zlíni linn ...   \n",
       "1                                                                                  sebes joseph pereira thomas på eng the jesuits and the sino russian treaty of nerchinsk the diary of thomas pereira bibliotheca instituti historici s i rome libris   \n",
       "2      ถนนเจร ญกร ง อ กษรโรม น thanon charoen krung เร มต งแต ถนนสนามไชยถ งแม น ำเจ าพระยาท ถนนตก กร งเทพมหานคร เป นถนนร นแรกท ใช เทคน คการสร างแบบตะว นตก ป จจ บ นผ านพ นท เขตพระนคร เขตป อมปราบศ ตร พ าย เขตส มพ นธวงศ เขตบางร ก เขตสาทร และเขตบา...   \n",
       "3      வ ச கப பட ட னம தம ழ ச சங கத த இந த ப பத த ர க வ ச கப பட ட ன ஆச ர யர சம பத த டன இண ந த வ ர வ பட த த ன ர ஆண ட கள த டர ந த ச யலர க இர ந த தம ழ மன றத த நடத த ச ச ன ற ர க வ ச ம ம ழ ம ந ட ட ல தம ழ ச சங கங கள ம தம ழ ம என ம தல ப ப ல ப ற ம ந லங ...   \n",
       "4                                                                      de spons behoort tot het geslacht haliclona en behoort tot de familie chalinidae de wetenschappelijke naam van de soort werd voor het eerst geldig gepubliceerd in door kudelin   \n",
       "...                                                                                                                                                                                                                                                ...   \n",
       "21995  hors du terrain les années et sont des années de crise pour le championnat le titre de champion de france attise les convoitises et entraîne des dérives violence sur les terrains et accusations d amateurisme marron rythment de plus en p...   \n",
       "21996                                                   ใน พศ หล กจากท เสด จประพาสแหลมมลาย ชวา อ นเด ยทรงได พบอด ยรองกงส ลอ งกฤษ นายเฮนร อลาบาสเตอร ได กราบบ งคมท ลถวายคำแนะนำในสำรวจและทำแผนท จ งได ทรงพระกร ณาโปรดเกล าฯ ให ต งกองทำแผนท ทดลอง ใน พศ   \n",
       "21997  con motivo de la celebración del septuagésimoquinto aniversario de la fundación del departamento en guillermo ceballos espinosa presentó a la gobernación de caldas por encargo de su titular dilia estrada de gómez el himno que fue adopta...   \n",
       "21998                                         年月 當時還只有歲的她在美國出道 以mai k名義推出首張英文 baby i like 由美國的獨立廠牌bip record發行 以外國輸入盤的形式在日本發售 旋即被抢购一空 其後於月日發行以倉木麻衣名義發行的首張日文單曲 love day after tomorrow 正式於日本出道 這張單曲初動銷量只得約萬張 可是其後每週銷量一直上升 並於年月正式突破百萬銷量 合计万张 成為年最耀眼的新人歌手   \n",
       "21999                  aprilie sonda spațială messenger a nasa și a încheiat misiunea de studiu de ani prăbușindu se pe suprafața planetei mercur sonda a rămas fără combustibil fiind împinsă de gravitația solară din ce în ce mai aproape de mercur   \n",
       "\n",
       "       text_len  word_count  \n",
       "0           334          43  \n",
       "1           163          27  \n",
       "2           243          47  \n",
       "3           275         117  \n",
       "4           175          28  \n",
       "...         ...         ...  \n",
       "21995      1120         189  \n",
       "21996       190          31  \n",
       "21997       426          67  \n",
       "21998       200          22  \n",
       "21999       223          38  \n",
       "\n",
       "[21859 rows x 5 columns]"
      ]
     },
     "execution_count": 9,
     "metadata": {},
     "output_type": "execute_result"
    }
   ],
   "source": [
    "df['text_len'] = df['preprocessed_text'].astype(str).apply(len)\n",
    "df['word_count'] = df['preprocessed_text'].apply(lambda x: len(str(x).split()))\n",
    "df"
   ]
  },
  {
   "cell_type": "markdown",
   "id": "19aa0dbc",
   "metadata": {
    "papermill": {
     "duration": 0.007898,
     "end_time": "2022-12-01T17:26:15.371661",
     "exception": false,
     "start_time": "2022-12-01T17:26:15.363763",
     "status": "completed"
    },
    "tags": []
   },
   "source": [
    "Visualizing how many words each text sample have. "
   ]
  },
  {
   "cell_type": "code",
   "execution_count": 10,
   "id": "0ed1b71c",
   "metadata": {
    "execution": {
     "iopub.execute_input": "2022-12-01T17:26:15.391310Z",
     "iopub.status.busy": "2022-12-01T17:26:15.390071Z",
     "iopub.status.idle": "2022-12-01T17:26:58.060839Z",
     "shell.execute_reply": "2022-12-01T17:26:58.059500Z"
    },
    "papermill": {
     "duration": 42.693072,
     "end_time": "2022-12-01T17:26:58.073161",
     "exception": false,
     "start_time": "2022-12-01T17:26:15.380089",
     "status": "completed"
    },
    "tags": []
   },
   "outputs": [
    {
     "data": {
      "image/png": "[encoded data removed]",
      "text/plain": [
       "<Figure size 720x360 with 1 Axes>"
      ]
     },
     "metadata": {
      "needs_background": "light"
     },
     "output_type": "display_data"
    }
   ],
   "source": [
    "df['word_counts'] = df.preprocessed_text.apply(lambda x: len(x.split()))\n",
    "plt.figure(figsize=(10,5))\n",
    "plt.bar(np.arange(len(df.word_counts)), df.word_counts.values, width=1)\n",
    "plt.ylim(0,500)\n",
    "plt.xlabel(\"Text Samples\", fontsize=15)\n",
    "plt.ylabel(\"Word Counts\", fontsize=15);"
   ]
  },
  {
   "cell_type": "markdown",
   "id": "6cbb8aa0",
   "metadata": {
    "papermill": {
     "duration": 0.008601,
     "end_time": "2022-12-01T17:26:58.091303",
     "exception": false,
     "start_time": "2022-12-01T17:26:58.082702",
     "status": "completed"
    },
    "tags": []
   },
   "source": [
    "Visualizing the character lenght per sample text."
   ]
  },
  {
   "cell_type": "code",
   "execution_count": 11,
   "id": "6fcbb8df",
   "metadata": {
    "execution": {
     "iopub.execute_input": "2022-12-01T17:26:58.111220Z",
     "iopub.status.busy": "2022-12-01T17:26:58.110720Z",
     "iopub.status.idle": "2022-12-01T17:27:42.828986Z",
     "shell.execute_reply": "2022-12-01T17:27:42.827582Z"
    },
    "papermill": {
     "duration": 44.741528,
     "end_time": "2022-12-01T17:27:42.841799",
     "exception": false,
     "start_time": "2022-12-01T17:26:58.100271",
     "status": "completed"
    },
    "tags": []
   },
   "outputs": [
    {
     "data": {
      "image/png": "[encoded data removed]",
      "text/plain": [
       "<Figure size 720x360 with 1 Axes>"
      ]
     },
     "metadata": {
      "needs_background": "light"
     },
     "output_type": "display_data"
    }
   ],
   "source": [
    "df['lenght'] = df.preprocessed_text.apply(lambda x: len(x))\n",
    "plt.figure(figsize=(10,5))\n",
    "plt.bar(np.arange(len(df.lenght)), df.lenght.values, width=1)\n",
    "plt.ylim(0,1000)\n",
    "plt.xlabel(\"Text Samples\", fontsize=15)\n",
    "plt.ylabel(\"Lenght\", fontsize=15);"
   ]
  }
 ],
 "metadata": {
  "kernelspec": {
   "display_name": "Python 3",
   "language": "python",
   "name": "python3"
  },
  "language_info": {
   "codemirror_mode": {
    "name": "ipython",
    "version": 3
   },
   "file_extension": ".py",
   "mimetype": "text/x-python",
   "name": "python",
   "nbconvert_exporter": "python",
   "pygments_lexer": "ipython3",
   "version": "3.7.12"
  },
  "papermill": {
   "default_parameters": {},
   "duration": 104.631192,
   "end_time": "2022-12-01T17:27:45.373247",
   "environment_variables": {},
   "exception": null,
   "input_path": "__notebook__.ipynb",
   "output_path": "__notebook__.ipynb",
   "parameters": {},
   "start_time": "2022-12-01T17:26:00.742055",
   "version": "2.3.4"
  }
 },
 "nbformat": 4,
 "nbformat_minor": 5
}
